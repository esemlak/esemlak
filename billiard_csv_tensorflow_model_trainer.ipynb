{
  "nbformat": 4,
  "nbformat_minor": 0,
  "metadata": {
    "kernelspec": {
      "display_name": "Python 3",
      "language": "python",
      "name": "python3"
    },
    "language_info": {
      "codemirror_mode": {
        "name": "ipython",
        "version": 3
      },
      "file_extension": ".py",
      "mimetype": "text/x-python",
      "name": "python",
      "nbconvert_exporter": "python",
      "pygments_lexer": "ipython3",
      "version": "3.8.5"
    },
    "colab": {
      "provenance": [],
      "collapsed_sections": [],
      "include_colab_link": true
    },
    "accelerator": "GPU"
  },
  "cells": [
    {
      "cell_type": "markdown",
      "metadata": {
        "id": "view-in-github",
        "colab_type": "text"
      },
      "source": [
        "<a href=\"https://colab.research.google.com/github/esemlak/esemlak/blob/main/billiard_csv_tensorflow_model_trainer.ipynb\" target=\"_parent\"><img src=\"https://colab.research.google.com/assets/colab-badge.svg\" alt=\"Open In Colab\"/></a>"
      ]
    },
    {
      "cell_type": "code",
      "metadata": {
        "id": "toCaSzfhLJTl",
        "colab": {
          "base_uri": "https://localhost:8080/"
        },
        "outputId": "f0456d71-df27-4d43-8f48-6f7eea5b7782"
      },
      "source": [
        "#!unzip -o /content/colab_train_big.zip\n",
        "!pip3 install keras-tuner"
      ],
      "execution_count": 545,
      "outputs": [
        {
          "output_type": "stream",
          "name": "stdout",
          "text": [
            "Looking in indexes: https://pypi.org/simple, https://us-python.pkg.dev/colab-wheels/public/simple/\n",
            "Requirement already satisfied: keras-tuner in /usr/local/lib/python3.7/dist-packages (1.1.3)\n",
            "Requirement already satisfied: requests in /usr/local/lib/python3.7/dist-packages (from keras-tuner) (2.23.0)\n",
            "Requirement already satisfied: tensorboard in /usr/local/lib/python3.7/dist-packages (from keras-tuner) (2.8.0)\n",
            "Requirement already satisfied: ipython in /usr/local/lib/python3.7/dist-packages (from keras-tuner) (7.9.0)\n",
            "Requirement already satisfied: packaging in /usr/local/lib/python3.7/dist-packages (from keras-tuner) (21.3)\n",
            "Requirement already satisfied: numpy in /usr/local/lib/python3.7/dist-packages (from keras-tuner) (1.21.6)\n",
            "Requirement already satisfied: kt-legacy in /usr/local/lib/python3.7/dist-packages (from keras-tuner) (1.0.4)\n",
            "Requirement already satisfied: pygments in /usr/local/lib/python3.7/dist-packages (from ipython->keras-tuner) (2.6.1)\n",
            "Requirement already satisfied: setuptools>=18.5 in /usr/local/lib/python3.7/dist-packages (from ipython->keras-tuner) (57.4.0)\n",
            "Requirement already satisfied: jedi>=0.10 in /usr/local/lib/python3.7/dist-packages (from ipython->keras-tuner) (0.18.1)\n",
            "Requirement already satisfied: prompt-toolkit<2.1.0,>=2.0.0 in /usr/local/lib/python3.7/dist-packages (from ipython->keras-tuner) (2.0.10)\n",
            "Requirement already satisfied: pexpect in /usr/local/lib/python3.7/dist-packages (from ipython->keras-tuner) (4.8.0)\n",
            "Requirement already satisfied: decorator in /usr/local/lib/python3.7/dist-packages (from ipython->keras-tuner) (4.4.2)\n",
            "Requirement already satisfied: traitlets>=4.2 in /usr/local/lib/python3.7/dist-packages (from ipython->keras-tuner) (5.1.1)\n",
            "Requirement already satisfied: backcall in /usr/local/lib/python3.7/dist-packages (from ipython->keras-tuner) (0.2.0)\n",
            "Requirement already satisfied: pickleshare in /usr/local/lib/python3.7/dist-packages (from ipython->keras-tuner) (0.7.5)\n",
            "Requirement already satisfied: parso<0.9.0,>=0.8.0 in /usr/local/lib/python3.7/dist-packages (from jedi>=0.10->ipython->keras-tuner) (0.8.3)\n",
            "Requirement already satisfied: wcwidth in /usr/local/lib/python3.7/dist-packages (from prompt-toolkit<2.1.0,>=2.0.0->ipython->keras-tuner) (0.2.5)\n",
            "Requirement already satisfied: six>=1.9.0 in /usr/local/lib/python3.7/dist-packages (from prompt-toolkit<2.1.0,>=2.0.0->ipython->keras-tuner) (1.15.0)\n",
            "Requirement already satisfied: pyparsing!=3.0.5,>=2.0.2 in /usr/local/lib/python3.7/dist-packages (from packaging->keras-tuner) (3.0.9)\n",
            "Requirement already satisfied: ptyprocess>=0.5 in /usr/local/lib/python3.7/dist-packages (from pexpect->ipython->keras-tuner) (0.7.0)\n",
            "Requirement already satisfied: certifi>=2017.4.17 in /usr/local/lib/python3.7/dist-packages (from requests->keras-tuner) (2022.6.15)\n",
            "Requirement already satisfied: chardet<4,>=3.0.2 in /usr/local/lib/python3.7/dist-packages (from requests->keras-tuner) (3.0.4)\n",
            "Requirement already satisfied: idna<3,>=2.5 in /usr/local/lib/python3.7/dist-packages (from requests->keras-tuner) (2.10)\n",
            "Requirement already satisfied: urllib3!=1.25.0,!=1.25.1,<1.26,>=1.21.1 in /usr/local/lib/python3.7/dist-packages (from requests->keras-tuner) (1.24.3)\n",
            "Requirement already satisfied: absl-py>=0.4 in /usr/local/lib/python3.7/dist-packages (from tensorboard->keras-tuner) (1.2.0)\n",
            "Requirement already satisfied: wheel>=0.26 in /usr/local/lib/python3.7/dist-packages (from tensorboard->keras-tuner) (0.37.1)\n",
            "Requirement already satisfied: google-auth<3,>=1.6.3 in /usr/local/lib/python3.7/dist-packages (from tensorboard->keras-tuner) (1.35.0)\n",
            "Requirement already satisfied: werkzeug>=0.11.15 in /usr/local/lib/python3.7/dist-packages (from tensorboard->keras-tuner) (1.0.1)\n",
            "Requirement already satisfied: grpcio>=1.24.3 in /usr/local/lib/python3.7/dist-packages (from tensorboard->keras-tuner) (1.48.1)\n",
            "Requirement already satisfied: tensorboard-data-server<0.7.0,>=0.6.0 in /usr/local/lib/python3.7/dist-packages (from tensorboard->keras-tuner) (0.6.1)\n",
            "Requirement already satisfied: markdown>=2.6.8 in /usr/local/lib/python3.7/dist-packages (from tensorboard->keras-tuner) (3.4.1)\n",
            "Requirement already satisfied: tensorboard-plugin-wit>=1.6.0 in /usr/local/lib/python3.7/dist-packages (from tensorboard->keras-tuner) (1.8.1)\n",
            "Requirement already satisfied: google-auth-oauthlib<0.5,>=0.4.1 in /usr/local/lib/python3.7/dist-packages (from tensorboard->keras-tuner) (0.4.6)\n",
            "Requirement already satisfied: protobuf>=3.6.0 in /usr/local/lib/python3.7/dist-packages (from tensorboard->keras-tuner) (3.17.3)\n",
            "Requirement already satisfied: pyasn1-modules>=0.2.1 in /usr/local/lib/python3.7/dist-packages (from google-auth<3,>=1.6.3->tensorboard->keras-tuner) (0.2.8)\n",
            "Requirement already satisfied: cachetools<5.0,>=2.0.0 in /usr/local/lib/python3.7/dist-packages (from google-auth<3,>=1.6.3->tensorboard->keras-tuner) (4.2.4)\n",
            "Requirement already satisfied: rsa<5,>=3.1.4 in /usr/local/lib/python3.7/dist-packages (from google-auth<3,>=1.6.3->tensorboard->keras-tuner) (4.9)\n",
            "Requirement already satisfied: requests-oauthlib>=0.7.0 in /usr/local/lib/python3.7/dist-packages (from google-auth-oauthlib<0.5,>=0.4.1->tensorboard->keras-tuner) (1.3.1)\n",
            "Requirement already satisfied: importlib-metadata>=4.4 in /usr/local/lib/python3.7/dist-packages (from markdown>=2.6.8->tensorboard->keras-tuner) (4.12.0)\n",
            "Requirement already satisfied: zipp>=0.5 in /usr/local/lib/python3.7/dist-packages (from importlib-metadata>=4.4->markdown>=2.6.8->tensorboard->keras-tuner) (3.8.1)\n",
            "Requirement already satisfied: typing-extensions>=3.6.4 in /usr/local/lib/python3.7/dist-packages (from importlib-metadata>=4.4->markdown>=2.6.8->tensorboard->keras-tuner) (4.1.1)\n",
            "Requirement already satisfied: pyasn1<0.5.0,>=0.4.6 in /usr/local/lib/python3.7/dist-packages (from pyasn1-modules>=0.2.1->google-auth<3,>=1.6.3->tensorboard->keras-tuner) (0.4.8)\n",
            "Requirement already satisfied: oauthlib>=3.0.0 in /usr/local/lib/python3.7/dist-packages (from requests-oauthlib>=0.7.0->google-auth-oauthlib<0.5,>=0.4.1->tensorboard->keras-tuner) (3.2.0)\n"
          ]
        }
      ]
    },
    {
      "cell_type": "code",
      "metadata": {
        "id": "BSFP3qG8woJK"
      },
      "source": [
        "DATASET_PATH = \"/content/colab_train_big.csv\"\n",
        "LABEL_NAME = \"SCORE\"\n",
        "\n",
        "# \"r\" for regression and \"c\" for classification\n",
        "# for classification, the number of output nodes is automatically determined\n",
        "TASK = \"r\"\n",
        "\n",
        "# don't change the dummy batch size. There is a small bug in tensorflow.\n",
        "# to get around that bug, dummy batch size is used\n",
        "DUMMY_BATCH_SIZE = 5\n",
        "BATCH_SIZE = 100\n",
        "EPOCHS = 100\n",
        "TRAIN_FRAC = 0.8\n",
        "\n",
        "CHECKPOINT_DIR = \"/content/\""
      ],
      "execution_count": 546,
      "outputs": []
    },
    {
      "cell_type": "code",
      "metadata": {
        "id": "ZVR1nxboHX45"
      },
      "source": [],
      "execution_count": 546,
      "outputs": []
    },
    {
      "cell_type": "code",
      "metadata": {
        "id": "hY-_wPnaCZbp"
      },
      "source": [
        "from collections import defaultdict\n",
        "import os\n",
        "\n",
        "import numpy as np\n",
        "import matplotlib.pyplot as plt\n",
        "\n",
        "import tensorflow as tf\n",
        "import kerastuner as kt\n",
        "\n",
        "import IPython"
      ],
      "execution_count": 547,
      "outputs": []
    },
    {
      "cell_type": "markdown",
      "metadata": {
        "id": "lgbYDOHe0pu3"
      },
      "source": [
        "# This function will give us a fresh dataset object"
      ]
    },
    {
      "cell_type": "code",
      "metadata": {
        "id": "FocJZX8lCZbw"
      },
      "source": [
        "def get_dataset(batch_size = 5):\n",
        "    return tf.data.experimental.make_csv_dataset(\n",
        "        DATASET_PATH,\n",
        "        batch_size = batch_size,\n",
        "        label_name = LABEL_NAME,\n",
        "        num_epochs = 1,\n",
        "        field_delim= ';'\n",
        "    )"
      ],
      "execution_count": 548,
      "outputs": []
    },
    {
      "cell_type": "markdown",
      "metadata": {
        "id": "XwNYZ_TOIPRJ"
      },
      "source": [
        "# If classification, Find Number of labels (for output nodes)"
      ]
    },
    {
      "cell_type": "code",
      "metadata": {
        "id": "7GAe3626H0f7",
        "colab": {
          "base_uri": "https://localhost:8080/"
        },
        "outputId": "f090fec4-2814-47d5-ec72-82630085d8c4"
      },
      "source": [
        "unique_labels = set()\n",
        "\n",
        "unique_labels.add(\"VX\")\n",
        "unique_labels.add(\"VY\")\n",
        "num_labels = len(unique_labels)\n",
        "\n",
        "OUTPUT_NODES = num_labels\n",
        "    \n",
        "print(unique_labels)\n",
        "\n",
        "print(\"output nodes: \", OUTPUT_NODES)"
      ],
      "execution_count": 549,
      "outputs": [
        {
          "output_type": "stream",
          "name": "stdout",
          "text": [
            "{'VY', 'VX'}\n",
            "output nodes:  2\n"
          ]
        }
      ]
    },
    {
      "cell_type": "markdown",
      "source": [
        "**Test**"
      ],
      "metadata": {
        "id": "wYLmx1SqXIto"
      }
    },
    {
      "cell_type": "code",
      "source": [
        "model_inputs = {}\n",
        "\n",
        "#dataset = tf.data.experimental.make_csv_dataset(\n",
        "#        DATASET_PATH,\n",
        "#        batch_size = DUMMY_BATCH_SIZE,\n",
        "#        label_name = LABEL_NAME,\n",
        "#        num_epochs = 1,\n",
        "#        header = True,\n",
        "#    )\n",
        "\n",
        "#iterator = dataset.as_numpy_iterator()\n",
        "#print(next(iterator))"
      ],
      "metadata": {
        "id": "yKHml9nEXMFw"
      },
      "execution_count": 550,
      "outputs": []
    },
    {
      "cell_type": "markdown",
      "metadata": {
        "id": "Gi8fUZj40yG1"
      },
      "source": [
        "# Creating the Model Inputs as a dictionary"
      ]
    },
    {
      "cell_type": "code",
      "metadata": {
        "id": "0x-yO_2xCZb2"
      },
      "source": [
        "model_inputs = {}\n",
        "\n",
        "for batch, _ in get_dataset(batch_size=DUMMY_BATCH_SIZE).take(1):\n",
        "    for col_name, col_values in batch.items():\n",
        "        if (col_name == 'X1' or col_name == 'X2' or col_name == 'X3' or col_name == 'X4' or col_name == 'Y1' or col_name == 'Y2' or col_name == 'Y3' or col_name == 'Y4'):\n",
        "          model_inputs[col_name] = tf.keras.Input(shape=(1,), name=col_name, dtype=col_values.dtype)"
      ],
      "execution_count": 551,
      "outputs": []
    },
    {
      "cell_type": "code",
      "metadata": {
        "id": "FPcuRa0xCZb8",
        "colab": {
          "base_uri": "https://localhost:8080/"
        },
        "outputId": "c3dcb241-f86d-4055-a514-c6cd35398e53"
      },
      "source": [
        "model_inputs"
      ],
      "execution_count": 552,
      "outputs": [
        {
          "output_type": "execute_result",
          "data": {
            "text/plain": [
              "{'X1': <KerasTensor: shape=(None, 1) dtype=float32 (created by layer 'X1')>,\n",
              " 'Y1': <KerasTensor: shape=(None, 1) dtype=float32 (created by layer 'Y1')>,\n",
              " 'X2': <KerasTensor: shape=(None, 1) dtype=float32 (created by layer 'X2')>,\n",
              " 'Y2': <KerasTensor: shape=(None, 1) dtype=float32 (created by layer 'Y2')>,\n",
              " 'X3': <KerasTensor: shape=(None, 1) dtype=float32 (created by layer 'X3')>,\n",
              " 'Y3': <KerasTensor: shape=(None, 1) dtype=float32 (created by layer 'Y3')>,\n",
              " 'X4': <KerasTensor: shape=(None, 1) dtype=float32 (created by layer 'X4')>,\n",
              " 'Y4': <KerasTensor: shape=(None, 1) dtype=float32 (created by layer 'Y4')>}"
            ]
          },
          "metadata": {},
          "execution_count": 552
        }
      ]
    },
    {
      "cell_type": "markdown",
      "metadata": {
        "id": "cFS-00sa6x52"
      },
      "source": [
        "## split these inputs into their own dictionaries based on the data type"
      ]
    },
    {
      "cell_type": "code",
      "metadata": {
        "id": "IN7O52LACZcE"
      },
      "source": [
        "float_inputs = {}\n",
        "\n",
        "for col_name, col_input in model_inputs.items():\n",
        "  \n",
        "    \n",
        "    if col_input.dtype == tf.float32:\n",
        "        float_inputs[col_name] = col_input\n",
        "    \n"
      ],
      "execution_count": 553,
      "outputs": []
    },
    {
      "cell_type": "code",
      "metadata": {
        "id": "JjSSO5srCZcQ",
        "colab": {
          "base_uri": "https://localhost:8080/"
        },
        "outputId": "5aeaa5ed-3f66-426b-a2ee-03c248d424db"
      },
      "source": [
        "float_inputs"
      ],
      "execution_count": 554,
      "outputs": [
        {
          "output_type": "execute_result",
          "data": {
            "text/plain": [
              "{'X1': <KerasTensor: shape=(None, 1) dtype=float32 (created by layer 'X1')>,\n",
              " 'Y1': <KerasTensor: shape=(None, 1) dtype=float32 (created by layer 'Y1')>,\n",
              " 'X2': <KerasTensor: shape=(None, 1) dtype=float32 (created by layer 'X2')>,\n",
              " 'Y2': <KerasTensor: shape=(None, 1) dtype=float32 (created by layer 'Y2')>,\n",
              " 'X3': <KerasTensor: shape=(None, 1) dtype=float32 (created by layer 'X3')>,\n",
              " 'Y3': <KerasTensor: shape=(None, 1) dtype=float32 (created by layer 'Y3')>,\n",
              " 'X4': <KerasTensor: shape=(None, 1) dtype=float32 (created by layer 'X4')>,\n",
              " 'Y4': <KerasTensor: shape=(None, 1) dtype=float32 (created by layer 'Y4')>}"
            ]
          },
          "metadata": {},
          "execution_count": 554
        }
      ]
    },
    {
      "cell_type": "code",
      "metadata": {
        "id": "j23p90AT4ewn"
      },
      "source": [
        "def numerical_input_processor(inputs):\n",
        "    if not inputs:\n",
        "        return\n",
        "    \n",
        "    concat = None\n",
        "    if len(inputs.values()) > 1:\n",
        "        concat = tf.keras.layers.Concatenate()(list(inputs.values()))\n",
        "    \n",
        "    norm = tf.keras.layers.experimental.preprocessing.Normalization()\n",
        "\n",
        "    for batch, _ in get_dataset(batch_size=DUMMY_BATCH_SIZE).take(1):\n",
        "        data = []\n",
        "        \n",
        "        for k in inputs.keys():\n",
        "            data.append(np.array(batch[k]))    \n",
        "        \n",
        "        data = np.array(data)\n",
        "        data = np.transpose(data)    \n",
        "\n",
        "        norm.adapt(data)\n",
        "\n",
        "    # mean_log = []\n",
        "\n",
        "    for batch, _ in get_dataset(batch_size=BATCH_SIZE):\n",
        "        data = []\n",
        "        \n",
        "        for k in inputs.keys():\n",
        "            data.append(np.array(batch[k]))    \n",
        "        \n",
        "        data = np.array(data)\n",
        "        data = np.transpose(data)\n",
        "\n",
        "        norm.adapt(data)        \n",
        "        # mean_log.append(norm.mean.numpy())    \n",
        "\n",
        "    if concat is not None:\n",
        "        numeric_layer = norm(concat)\n",
        "    else:\n",
        "        numeric_layer = norm(list(inputs.values())[0])\n",
        "    \n",
        "    return numeric_layer"
      ],
      "execution_count": 555,
      "outputs": []
    },
    {
      "cell_type": "markdown",
      "metadata": {
        "id": "Ge1EBnEH68K9"
      },
      "source": [
        "## PreProcess the inputs"
      ]
    },
    {
      "cell_type": "code",
      "metadata": {
        "id": "xVtNHVBp7AA3"
      },
      "source": [
        "float_layer = numerical_input_processor(float_inputs)"
      ],
      "execution_count": 556,
      "outputs": []
    },
    {
      "cell_type": "code",
      "metadata": {
        "id": "R9ovbxzKN3jK",
        "colab": {
          "base_uri": "https://localhost:8080/"
        },
        "outputId": "3e6ce28e-cc85-4cbf-d0ab-1380c40729f9"
      },
      "source": [
        "float_layer"
      ],
      "execution_count": 557,
      "outputs": [
        {
          "output_type": "execute_result",
          "data": {
            "text/plain": [
              "<KerasTensor: shape=(None, 8) dtype=float32 (created by layer 'normalization_13')>"
            ]
          },
          "metadata": {},
          "execution_count": 557
        }
      ]
    },
    {
      "cell_type": "markdown",
      "metadata": {
        "id": "S2oFptl_7A3h"
      },
      "source": [
        "## add all the input layers to a list"
      ]
    },
    {
      "cell_type": "markdown",
      "metadata": {
        "id": "ft7Gxcxe7Pd-"
      },
      "source": [
        "## Create a preprocessing keras model"
      ]
    },
    {
      "cell_type": "code",
      "metadata": {
        "id": "GWljb4DECZdl"
      },
      "source": [
        "preprocessing_head = tf.keras.Model(model_inputs, float_layer)"
      ],
      "execution_count": 558,
      "outputs": []
    },
    {
      "cell_type": "code",
      "metadata": {
        "id": "9-qEvPxbCZdp",
        "colab": {
          "base_uri": "https://localhost:8080/",
          "height": 895
        },
        "outputId": "291ae32f-0763-41b8-ab92-5cb7197bb506"
      },
      "source": [
        "tf.keras.utils.plot_model(model = preprocessing_head, rankdir=\"LR\", dpi=72, show_shapes=True, expand_nested=True, to_file=\"preprocessing_head.png\")"
      ],
      "execution_count": 559,
      "outputs": [
        {
          "output_type": "execute_result",
          "data": {
            "image/png": "[encoded data removed]",
            "text/plain": [
              "<IPython.core.display.Image object>"
            ]
          },
          "metadata": {},
          "execution_count": 559
        }
      ]
    },
    {
      "cell_type": "markdown",
      "metadata": {
        "id": "oQQ6SIWq7Z2V"
      },
      "source": [
        "## You can also see the preprocessed outputs for the given inputs"
      ]
    },
    {
      "cell_type": "code",
      "metadata": {
        "id": "AHO9IDTlCZdu"
      },
      "source": [
        "# preprocessing_head({\n",
        "#     \"sex\" : np.array([\"male\"]),\n",
        "#     \"age\" : np.array([22.0]),\n",
        "#     \"n_siblings_spouses\" : np.array([1]),\n",
        "#     \"parch\" : np.array([0]),\n",
        "#     \"fare\" : np.array([7.25]),\n",
        "#     \"class\" : np.array([\"Third\"]),\n",
        "#     \"deck\" : np.array([\"unknown\"]),\n",
        "#     \"embark_town\" : np.array([\"Southampton\"]),\n",
        "#     \"alone\" : np.array([\"n\"]),\n",
        "# })\n",
        "\n",
        "# preprocessing_head({\n",
        "#     \"age\" : np.array([22.0]),\n",
        "#     \"fare\" : np.array([7.25]),\n",
        "# })"
      ],
      "execution_count": 560,
      "outputs": []
    },
    {
      "cell_type": "markdown",
      "metadata": {
        "id": "SrG1kKdQ7uvY"
      },
      "source": [
        "## pass the model_inputs through the preprocessing_head"
      ]
    },
    {
      "cell_type": "code",
      "metadata": {
        "id": "F8kjuAizCZd0"
      },
      "source": [
        "preprocessed_outputs = preprocessing_head(model_inputs)"
      ],
      "execution_count": 561,
      "outputs": []
    },
    {
      "cell_type": "code",
      "metadata": {
        "id": "m_tSQp_oWOxD"
      },
      "source": [
        "num_preprocessed_outputs = list(preprocessed_outputs.shape)[-1]"
      ],
      "execution_count": 562,
      "outputs": []
    },
    {
      "cell_type": "code",
      "metadata": {
        "id": "PLkpTLhkWwA-",
        "colab": {
          "base_uri": "https://localhost:8080/"
        },
        "outputId": "8f56f8bf-440f-4ff3-d570-e76dc1cc9ee2"
      },
      "source": [
        "num_preprocessed_outputs"
      ],
      "execution_count": 563,
      "outputs": [
        {
          "output_type": "execute_result",
          "data": {
            "text/plain": [
              "8"
            ]
          },
          "metadata": {},
          "execution_count": 563
        }
      ]
    },
    {
      "cell_type": "markdown",
      "metadata": {
        "id": "rSIFV_Z379qd"
      },
      "source": [
        "## Find out how many batches should be used for training and how many for validation"
      ]
    },
    {
      "cell_type": "code",
      "metadata": {
        "id": "LMqp3rc1CZeL"
      },
      "source": [
        "dataset_size = 0\n",
        "\n",
        "for _ in get_dataset(batch_size=BATCH_SIZE):\n",
        "    dataset_size += 1"
      ],
      "execution_count": 564,
      "outputs": []
    },
    {
      "cell_type": "code",
      "metadata": {
        "id": "mbiyFVmeCZeP"
      },
      "source": [
        "train_size = int(TRAIN_FRAC * dataset_size)"
      ],
      "execution_count": 565,
      "outputs": []
    },
    {
      "cell_type": "code",
      "metadata": {
        "id": "pL6na72JCZeT",
        "colab": {
          "base_uri": "https://localhost:8080/"
        },
        "outputId": "71151545-17c7-468a-bdb1-9cabee1486aa"
      },
      "source": [
        "print(dataset_size)\n",
        "print(train_size)"
      ],
      "execution_count": 566,
      "outputs": [
        {
          "output_type": "stream",
          "name": "stdout",
          "text": [
            "296\n",
            "236\n"
          ]
        }
      ]
    },
    {
      "cell_type": "markdown",
      "metadata": {
        "id": "llhVqkwX8G9S"
      },
      "source": [
        "## Split the training and validation datasets\n"
      ]
    },
    {
      "cell_type": "code",
      "metadata": {
        "id": "OkX0u5hrCZeY"
      },
      "source": [
        "dataset = get_dataset(batch_size=BATCH_SIZE)\n",
        "\n",
        "train_dataset = dataset.take(train_size)\n",
        "val_dataset = dataset.skip(train_size)"
      ],
      "execution_count": 567,
      "outputs": []
    },
    {
      "cell_type": "markdown",
      "metadata": {
        "id": "ThC1tnh38Q4j"
      },
      "source": [
        "## Set a caching mechanism that prefetches the next batch while the current batch is training"
      ]
    },
    {
      "cell_type": "code",
      "metadata": {
        "id": "ekIo_-DrCZec"
      },
      "source": [
        "AUTOTUNE = tf.data.experimental.AUTOTUNE\n",
        "\n",
        "dataset = dataset.cache().prefetch(buffer_size=AUTOTUNE)\n",
        "train_dataset = train_dataset.cache().prefetch(buffer_size=AUTOTUNE)\n",
        "val_dataset = val_dataset.cache().prefetch(buffer_size=AUTOTUNE)"
      ],
      "execution_count": 568,
      "outputs": []
    },
    {
      "cell_type": "markdown",
      "metadata": {
        "id": "fcAyAgwi8fJP"
      },
      "source": [
        "## define early stopping and checkpointing callbacks"
      ]
    },
    {
      "cell_type": "code",
      "metadata": {
        "id": "US9kyo4WCZeg"
      },
      "source": [
        "early_stopping_callback = tf.keras.callbacks.EarlyStopping(monitor='val_loss', patience=5)\n",
        "checkpoint_callback = tf.keras.callbacks.ModelCheckpoint(filepath=os.path.join(CHECKPOINT_DIR, \"M.{epoch:02d}-{val_loss:.2f}\"))"
      ],
      "execution_count": 569,
      "outputs": []
    },
    {
      "cell_type": "code",
      "metadata": {
        "id": "nv-2T0XNCZej"
      },
      "source": [
        "callbacks = [\n",
        "    early_stopping_callback,\n",
        "    checkpoint_callback,\n",
        "]"
      ],
      "execution_count": 570,
      "outputs": []
    },
    {
      "cell_type": "code",
      "metadata": {
        "id": "3X4ZACIeCZeo"
      },
      "source": [
        "class ClearTrainingOutput(tf.keras.callbacks.Callback):\n",
        "    def on_train_end(*args, **kwargs):\n",
        "        IPython.display.clear_output(wait = True)"
      ],
      "execution_count": 571,
      "outputs": []
    },
    {
      "cell_type": "markdown",
      "metadata": {
        "id": "_OwVCPhw8opd"
      },
      "source": [
        "## model builder function is used by keras-tuner to find the best parameters for a model"
      ]
    },
    {
      "cell_type": "code",
      "metadata": {
        "id": "oGy3Grk2CZeA"
      },
      "source": [
        "def model_builder(hp):\n",
        "    loss_fn = {'xv_output': 'mse', 'yv_output': 'mse'}\n",
        "\n",
        "    metrics={'xv_output':tf.keras.metrics.RootMeanSquaredError(), 'yv_output':tf.keras.metrics.RootMeanSquaredError()}\n",
        " \n",
        "    kernel_hp = hp.Choice('kernel_regularization', values = [0.01, 0.001, 0.0001, 0.00001])\n",
        "    activation_hp = hp.Choice(\"activation\", values=[\"elu\", \"relu\"])\n",
        "    lr_schedule = tf.keras.optimizers.schedules.InverseTimeDecay(\n",
        "        0.01,\n",
        "        decay_steps=train_size*1000,\n",
        "        decay_rate=1,\n",
        "        staircase=False\n",
        "    )\n",
        "\n",
        "\n",
        "    input_layer = tf.keras.layers.Input(shape=8)\n",
        "\n",
        "    first_dense = tf.keras.layers.Dense(units='8', activation='relu')(preprocessed_outputs )\n",
        "    \n",
        "    #XV output will be fed from the first dense\n",
        "    xv_output = tf.keras.layers.Dense(units='1', name='xv_output')(first_dense)\n",
        "    \n",
        "    second_dense = tf.keras.layers.Dense(units='8',activation='relu')(first_dense)\n",
        "    \n",
        "    #YV output will be fed from the second dense\n",
        "    yv_output = tf.keras.layers.Dense(units='1',name='yv_output')(second_dense)\n",
        "\n",
        "    \n",
        "    model = tf.keras.Model(model_inputs, outputs = [xv_output, yv_output])\n",
        "    \n",
        "    model.compile(loss=loss_fn, \n",
        "                  optimizer=tf.keras.optimizers.Adam(learning_rate = lr_schedule),\n",
        "                  metrics=metrics\n",
        "    )\n",
        "  \n",
        "    return model\n",
        "\n"
      ],
      "execution_count": 572,
      "outputs": []
    },
    {
      "cell_type": "markdown",
      "metadata": {
        "id": "P2o1-WvS8_Mn"
      },
      "source": [
        "## initialize keras tuner"
      ]
    },
    {
      "cell_type": "code",
      "metadata": {
        "id": "zLobV8LzCZes"
      },
      "source": [
        "tuner = kt.Hyperband(model_builder,\n",
        "                     objective = 'val_loss', \n",
        "                     max_epochs = 10,\n",
        "                     factor = 3,\n",
        "                     directory = 'tuner_dir',\n",
        "                     project_name = 'tuner')"
      ],
      "execution_count": 573,
      "outputs": []
    },
    {
      "cell_type": "code",
      "metadata": {
        "id": "NukptGVuCZex"
      },
      "source": [
        "tuner.search(\n",
        "    train_dataset, \n",
        "    validation_data=val_dataset,\n",
        "    epochs=10,\n",
        "    callbacks = [ClearTrainingOutput()]\n",
        ")"
      ],
      "execution_count": 574,
      "outputs": []
    },
    {
      "cell_type": "code",
      "metadata": {
        "id": "n6zEHAuTCZe1"
      },
      "source": [
        "best_hps = tuner.get_best_hyperparameters(num_trials = 1)[0]"
      ],
      "execution_count": 575,
      "outputs": []
    },
    {
      "cell_type": "markdown",
      "metadata": {
        "id": "FC-QWd_s9E_P"
      },
      "source": [
        "## These are the best model parameters"
      ]
    },
    {
      "cell_type": "code",
      "metadata": {
        "id": "3SfHTkWjCZe5",
        "colab": {
          "base_uri": "https://localhost:8080/"
        },
        "outputId": "b07e87c1-e8a5-4ba1-d2c2-db0b43b65ece"
      },
      "source": [
        "best_hps.values"
      ],
      "execution_count": 576,
      "outputs": [
        {
          "output_type": "execute_result",
          "data": {
            "text/plain": [
              "{'kernel_regularization': 0.0001,\n",
              " 'activation': 'elu',\n",
              " 'tuner/epochs': 2,\n",
              " 'tuner/initial_epoch': 0,\n",
              " 'tuner/bracket': 2,\n",
              " 'tuner/round': 0}"
            ]
          },
          "metadata": {},
          "execution_count": 576
        }
      ]
    },
    {
      "cell_type": "code",
      "metadata": {
        "id": "kKlcMuIjCZe9"
      },
      "source": [
        "model = tuner.hypermodel.build(best_hps)"
      ],
      "execution_count": 577,
      "outputs": []
    },
    {
      "cell_type": "code",
      "metadata": {
        "id": "8dvmajfwCZfD",
        "colab": {
          "base_uri": "https://localhost:8080/"
        },
        "outputId": "8a81b69e-01a9-4ab6-f649-f7131a28d1ea"
      },
      "source": [
        "model.summary()"
      ],
      "execution_count": 578,
      "outputs": [
        {
          "output_type": "stream",
          "name": "stdout",
          "text": [
            "Model: \"model_29\"\n",
            "__________________________________________________________________________________________________\n",
            " Layer (type)                   Output Shape         Param #     Connected to                     \n",
            "==================================================================================================\n",
            " X1 (InputLayer)                [(None, 1)]          0           []                               \n",
            "                                                                                                  \n",
            " X2 (InputLayer)                [(None, 1)]          0           []                               \n",
            "                                                                                                  \n",
            " X3 (InputLayer)                [(None, 1)]          0           []                               \n",
            "                                                                                                  \n",
            " X4 (InputLayer)                [(None, 1)]          0           []                               \n",
            "                                                                                                  \n",
            " Y1 (InputLayer)                [(None, 1)]          0           []                               \n",
            "                                                                                                  \n",
            " Y2 (InputLayer)                [(None, 1)]          0           []                               \n",
            "                                                                                                  \n",
            " Y3 (InputLayer)                [(None, 1)]          0           []                               \n",
            "                                                                                                  \n",
            " Y4 (InputLayer)                [(None, 1)]          0           []                               \n",
            "                                                                                                  \n",
            " model_27 (Functional)          (None, 8)            17          ['X1[0][0]',                     \n",
            "                                                                  'X2[0][0]',                     \n",
            "                                                                  'X3[0][0]',                     \n",
            "                                                                  'X4[0][0]',                     \n",
            "                                                                  'Y1[0][0]',                     \n",
            "                                                                  'Y2[0][0]',                     \n",
            "                                                                  'Y3[0][0]',                     \n",
            "                                                                  'Y4[0][0]']                     \n",
            "                                                                                                  \n",
            " dense_45 (Dense)               (None, 8)            72          ['model_27[0][0]']               \n",
            "                                                                                                  \n",
            " dense_46 (Dense)               (None, 8)            72          ['dense_45[0][0]']               \n",
            "                                                                                                  \n",
            " xv_output (Dense)              (None, 1)            9           ['dense_45[0][0]']               \n",
            "                                                                                                  \n",
            " yv_output (Dense)              (None, 1)            9           ['dense_46[0][0]']               \n",
            "                                                                                                  \n",
            "==================================================================================================\n",
            "Total params: 179\n",
            "Trainable params: 162\n",
            "Non-trainable params: 17\n",
            "__________________________________________________________________________________________________\n"
          ]
        }
      ]
    },
    {
      "cell_type": "code",
      "metadata": {
        "id": "bZxzMXvcCZfI",
        "colab": {
          "base_uri": "https://localhost:8080/",
          "height": 1000
        },
        "outputId": "aec248d4-b416-41e9-c010-a56f3f2b8870"
      },
      "source": [
        "tf.keras.utils.plot_model(model = model, rankdir=\"LR\", dpi=96, show_shapes=True, expand_nested=True, to_file=\"model.png\")"
      ],
      "execution_count": 579,
      "outputs": [
        {
          "output_type": "execute_result",
          "data": {
            "image/png": "[encoded data removed]",
            "text/plain": [
              "<IPython.core.display.Image object>"
            ]
          },
          "metadata": {},
          "execution_count": 579
        }
      ]
    },
    {
      "cell_type": "markdown",
      "metadata": {
        "id": "5YtdM9SS9Owf"
      },
      "source": [
        "## Find out training and validation losses with untrained model"
      ]
    },
    {
      "cell_type": "code",
      "metadata": {
        "id": "a8s4BwAZCZfM",
        "colab": {
          "base_uri": "https://localhost:8080/"
        },
        "outputId": "c8e070b4-80e0-4526-e99f-ee3f33d1e47a"
      },
      "source": [
        "# loss with un-trained model\n",
        "model.evaluate(train_dataset)"
      ],
      "execution_count": 580,
      "outputs": [
        {
          "output_type": "stream",
          "name": "stderr",
          "text": [
            "/usr/local/lib/python3.7/dist-packages/keras/engine/functional.py:559: UserWarning: Input dict contained keys ['VX', 'VY'] which did not match any model input. They will be ignored by the model.\n",
            "  inputs = self._flatten_to_reference_inputs(inputs)\n"
          ]
        },
        {
          "output_type": "stream",
          "name": "stdout",
          "text": [
            "236/236 [==============================] - 2s 4ms/step - loss: 535.2990 - xv_output_loss: 269.9879 - yv_output_loss: 265.3111 - xv_output_root_mean_squared_error: 16.4313 - yv_output_root_mean_squared_error: 16.2884\n"
          ]
        },
        {
          "output_type": "execute_result",
          "data": {
            "text/plain": [
              "[535.2990112304688,\n",
              " 269.98785400390625,\n",
              " 265.31109619140625,\n",
              " 16.431306838989258,\n",
              " 16.288372039794922]"
            ]
          },
          "metadata": {},
          "execution_count": 580
        }
      ]
    },
    {
      "cell_type": "code",
      "metadata": {
        "id": "k8cfLHi4CZfS",
        "colab": {
          "base_uri": "https://localhost:8080/"
        },
        "outputId": "fa9dc1e6-1211-4e07-a556-8cd97e7520fe"
      },
      "source": [
        "# val_loss with un-trained model\n",
        "model.evaluate(val_dataset)"
      ],
      "execution_count": 581,
      "outputs": [
        {
          "output_type": "stream",
          "name": "stdout",
          "text": [
            "60/60 [==============================] - 1s 5ms/step - loss: 539.6933 - xv_output_loss: 272.1595 - yv_output_loss: 267.5339 - xv_output_root_mean_squared_error: 16.4973 - yv_output_root_mean_squared_error: 16.3565\n"
          ]
        },
        {
          "output_type": "execute_result",
          "data": {
            "text/plain": [
              "[539.6932983398438,\n",
              " 272.1595153808594,\n",
              " 267.53387451171875,\n",
              " 16.497257232666016,\n",
              " 16.356462478637695]"
            ]
          },
          "metadata": {},
          "execution_count": 581
        }
      ]
    },
    {
      "cell_type": "markdown",
      "metadata": {
        "id": "SL902YSw9WgM"
      },
      "source": [
        "## Train the model"
      ]
    },
    {
      "cell_type": "code",
      "metadata": {
        "scrolled": false,
        "id": "uRnEVasXCZfX",
        "colab": {
          "base_uri": "https://localhost:8080/",
          "height": 1000
        },
        "outputId": "3b9f689d-cb79-4f35-e310-ca21b7212771"
      },
      "source": [
        "history = model.fit(\n",
        "    train_dataset, \n",
        "    validation_data=val_dataset,\n",
        "    callbacks=callbacks,\n",
        "    epochs=EPOCHS)"
      ],
      "execution_count": 582,
      "outputs": [
        {
          "output_type": "stream",
          "name": "stdout",
          "text": [
            "Epoch 1/100\n",
            "    231/Unknown - 3s 6ms/step - loss: 132.6669 - xv_output_loss: 69.2432 - yv_output_loss: 63.4237 - xv_output_root_mean_squared_error: 8.3212 - yv_output_root_mean_squared_error: 7.9639"
          ]
        },
        {
          "output_type": "stream",
          "name": "stderr",
          "text": [
            "WARNING:absl:Function `_wrapped_model` contains input name(s) X1, X2, X3, X4, Y1, Y2, Y3, Y4 with unsupported characters which will be renamed to x1, x2, x3, x4, y1, y2, y3, y4 in the SavedModel.\n"
          ]
        },
        {
          "output_type": "stream",
          "name": "stdout",
          "text": [
            "\b\b\b\b\b\b\b\b\b\b\b\b\b\b\b\b\b\b\b\b\b\b\b\b\b\b\b\b\b\b\b\b\b\b\b\b\b\b\b\b\b\b\b\b\b\b\b\b\b\b\b\b\b\b\b\b\b\b\b\b\b\b\b\b\b\b\b\b\b\b\b\b\b\b\b\b\b\b\b\b\b\b\b\b\b\b\b\b\b\b\b\b\b\b\b\b\b\b\b\b\b\b\b\b\b\b\b\b\b\b\b\b\b\b\b\b\b\b\b\b\b\b\b\b\b\b\b\b\b\b\b\b\b\b\b\b\b\b\b\b\b\b\b\b\b\b\b\b\b\b\b\b\b\b\b\b\b\b\b\b\b\b\b\b\b\b\b\b\b\b\b\b\b\b\b\b\b\b\b\b\b\b\b\b\b\b\r236/236 [==============================] - 7s 23ms/step - loss: 131.2507 - xv_output_loss: 68.4709 - yv_output_loss: 62.7799 - xv_output_root_mean_squared_error: 8.2747 - yv_output_root_mean_squared_error: 7.9234 - val_loss: 60.7001 - val_xv_output_loss: 30.4463 - val_yv_output_loss: 30.2538 - val_xv_output_root_mean_squared_error: 5.5178 - val_yv_output_root_mean_squared_error: 5.5003\n",
            "Epoch 2/100\n",
            "231/236 [============================>.] - ETA: 0s - loss: 61.5768 - xv_output_loss: 30.8108 - yv_output_loss: 30.7660 - xv_output_root_mean_squared_error: 5.5507 - yv_output_root_mean_squared_error: 5.5467"
          ]
        },
        {
          "output_type": "stream",
          "name": "stderr",
          "text": [
            "WARNING:absl:Function `_wrapped_model` contains input name(s) X1, X2, X3, X4, Y1, Y2, Y3, Y4 with unsupported characters which will be renamed to x1, x2, x3, x4, y1, y2, y3, y4 in the SavedModel.\n"
          ]
        },
        {
          "output_type": "stream",
          "name": "stdout",
          "text": [
            "\b\b\b\b\b\b\b\b\b\b\b\b\b\b\b\b\b\b\b\b\b\b\b\b\b\b\b\b\b\b\b\b\b\b\b\b\b\b\b\b\b\b\b\b\b\b\b\b\b\b\b\b\b\b\b\b\b\b\b\b\b\b\b\b\b\b\b\b\b\b\b\b\b\b\b\b\b\b\b\b\b\b\b\b\b\b\b\b\b\b\b\b\b\b\b\b\b\b\b\b\b\b\b\b\b\b\b\b\b\b\b\b\b\b\b\b\b\b\b\b\b\b\b\b\b\b\b\b\b\b\b\b\b\b\b\b\b\b\b\b\b\b\b\b\b\b\b\b\b\b\b\b\b\b\b\b\b\b\b\b\b\b\b\b\b\b\b\b\b\b\b\b\b\b\b\b\b\b\b\b\b\b\b\b\b\b\b\b\b\b\b\b\b\b\b\b\b\b\b\b\b\b\b\b\b\b\r236/236 [==============================] - 5s 22ms/step - loss: 61.6412 - xv_output_loss: 30.8408 - yv_output_loss: 30.8004 - xv_output_root_mean_squared_error: 5.5534 - yv_output_root_mean_squared_error: 5.5498 - val_loss: 60.0317 - val_xv_output_loss: 30.1122 - val_yv_output_loss: 29.9195 - val_xv_output_root_mean_squared_error: 5.4875 - val_yv_output_root_mean_squared_error: 5.4699\n",
            "Epoch 3/100\n",
            "236/236 [==============================] - ETA: 0s - loss: 61.1875 - xv_output_loss: 30.6122 - yv_output_loss: 30.5753 - xv_output_root_mean_squared_error: 5.5328 - yv_output_root_mean_squared_error: 5.5295"
          ]
        },
        {
          "output_type": "stream",
          "name": "stderr",
          "text": [
            "WARNING:absl:Function `_wrapped_model` contains input name(s) X1, X2, X3, X4, Y1, Y2, Y3, Y4 with unsupported characters which will be renamed to x1, x2, x3, x4, y1, y2, y3, y4 in the SavedModel.\n"
          ]
        },
        {
          "output_type": "stream",
          "name": "stdout",
          "text": [
            "\b\b\b\b\b\b\b\b\b\b\b\b\b\b\b\b\b\b\b\b\b\b\b\b\b\b\b\b\b\b\b\b\b\b\b\b\b\b\b\b\b\b\b\b\b\b\b\b\b\b\b\b\b\b\b\b\b\b\b\b\b\b\b\b\b\b\b\b\b\b\b\b\b\b\b\b\b\b\b\b\b\b\b\b\b\b\b\b\b\b\b\b\b\b\b\b\b\b\b\b\b\b\b\b\b\b\b\b\b\b\b\b\b\b\b\b\b\b\b\b\b\b\b\b\b\b\b\b\b\b\b\b\b\b\b\b\b\b\b\b\b\b\b\b\b\b\b\b\b\b\b\b\b\b\b\b\b\b\b\b\b\b\b\b\b\b\b\b\b\b\b\b\b\b\b\b\b\b\b\b\b\b\b\b\b\b\b\b\b\b\b\b\b\b\b\b\b\b\b\b\b\b\b\b\b\b\r236/236 [==============================] - 2s 9ms/step - loss: 61.1875 - xv_output_loss: 30.6122 - yv_output_loss: 30.5753 - xv_output_root_mean_squared_error: 5.5328 - yv_output_root_mean_squared_error: 5.5295 - val_loss: 59.8439 - val_xv_output_loss: 30.0039 - val_yv_output_loss: 29.8400 - val_xv_output_root_mean_squared_error: 5.4776 - val_yv_output_root_mean_squared_error: 5.4626\n",
            "Epoch 4/100\n",
            "235/236 [============================>.] - ETA: 0s - loss: 60.9822 - xv_output_loss: 30.4858 - yv_output_loss: 30.4965 - xv_output_root_mean_squared_error: 5.5214 - yv_output_root_mean_squared_error: 5.5224"
          ]
        },
        {
          "output_type": "stream",
          "name": "stderr",
          "text": [
            "WARNING:absl:Function `_wrapped_model` contains input name(s) X1, X2, X3, X4, Y1, Y2, Y3, Y4 with unsupported characters which will be renamed to x1, x2, x3, x4, y1, y2, y3, y4 in the SavedModel.\n"
          ]
        },
        {
          "output_type": "stream",
          "name": "stdout",
          "text": [
            "\b\b\b\b\b\b\b\b\b\b\b\b\b\b\b\b\b\b\b\b\b\b\b\b\b\b\b\b\b\b\b\b\b\b\b\b\b\b\b\b\b\b\b\b\b\b\b\b\b\b\b\b\b\b\b\b\b\b\b\b\b\b\b\b\b\b\b\b\b\b\b\b\b\b\b\b\b\b\b\b\b\b\b\b\b\b\b\b\b\b\b\b\b\b\b\b\b\b\b\b\b\b\b\b\b\b\b\b\b\b\b\b\b\b\b\b\b\b\b\b\b\b\b\b\b\b\b\b\b\b\b\b\b\b\b\b\b\b\b\b\b\b\b\b\b\b\b\b\b\b\b\b\b\b\b\b\b\b\b\b\b\b\b\b\b\b\b\b\b\b\b\b\b\b\b\b\b\b\b\b\b\b\b\b\b\b\b\b\b\b\b\b\b\b\b\b\b\b\b\b\b\b\b\b\b\b\r236/236 [==============================] - 2s 9ms/step - loss: 61.0091 - xv_output_loss: 30.4988 - yv_output_loss: 30.5103 - xv_output_root_mean_squared_error: 5.5226 - yv_output_root_mean_squared_error: 5.5236 - val_loss: 59.7542 - val_xv_output_loss: 29.9319 - val_yv_output_loss: 29.8222 - val_xv_output_root_mean_squared_error: 5.4710 - val_yv_output_root_mean_squared_error: 5.4610\n",
            "Epoch 5/100\n",
            "225/236 [===========================>..] - ETA: 0s - loss: 60.8189 - xv_output_loss: 30.3829 - yv_output_loss: 30.4360 - xv_output_root_mean_squared_error: 5.5121 - yv_output_root_mean_squared_error: 5.5169"
          ]
        },
        {
          "output_type": "stream",
          "name": "stderr",
          "text": [
            "WARNING:absl:Function `_wrapped_model` contains input name(s) X1, X2, X3, X4, Y1, Y2, Y3, Y4 with unsupported characters which will be renamed to x1, x2, x3, x4, y1, y2, y3, y4 in the SavedModel.\n"
          ]
        },
        {
          "output_type": "stream",
          "name": "stdout",
          "text": [
            "\b\b\b\b\b\b\b\b\b\b\b\b\b\b\b\b\b\b\b\b\b\b\b\b\b\b\b\b\b\b\b\b\b\b\b\b\b\b\b\b\b\b\b\b\b\b\b\b\b\b\b\b\b\b\b\b\b\b\b\b\b\b\b\b\b\b\b\b\b\b\b\b\b\b\b\b\b\b\b\b\b\b\b\b\b\b\b\b\b\b\b\b\b\b\b\b\b\b\b\b\b\b\b\b\b\b\b\b\b\b\b\b\b\b\b\b\b\b\b\b\b\b\b\b\b\b\b\b\b\b\b\b\b\b\b\b\b\b\b\b\b\b\b\b\b\b\b\b\b\b\b\b\b\b\b\b\b\b\b\b\b\b\b\b\b\b\b\b\b\b\b\b\b\b\b\b\b\b\b\b\b\b\b\b\b\b\b\b\b\b\b\b\b\b\b\b\b\b\b\b\b\b\b\b\b\b\r236/236 [==============================] - 2s 10ms/step - loss: 60.9102 - xv_output_loss: 30.4263 - yv_output_loss: 30.4839 - xv_output_root_mean_squared_error: 5.5160 - yv_output_root_mean_squared_error: 5.5212 - val_loss: 59.6965 - val_xv_output_loss: 29.8923 - val_yv_output_loss: 29.8041 - val_xv_output_root_mean_squared_error: 5.4674 - val_yv_output_root_mean_squared_error: 5.4593\n",
            "Epoch 6/100\n",
            "231/236 [============================>.] - ETA: 0s - loss: 60.8110 - xv_output_loss: 30.3573 - yv_output_loss: 30.4537 - xv_output_root_mean_squared_error: 5.5097 - yv_output_root_mean_squared_error: 5.5185"
          ]
        },
        {
          "output_type": "stream",
          "name": "stderr",
          "text": [
            "WARNING:absl:Function `_wrapped_model` contains input name(s) X1, X2, X3, X4, Y1, Y2, Y3, Y4 with unsupported characters which will be renamed to x1, x2, x3, x4, y1, y2, y3, y4 in the SavedModel.\n"
          ]
        },
        {
          "output_type": "stream",
          "name": "stdout",
          "text": [
            "\b\b\b\b\b\b\b\b\b\b\b\b\b\b\b\b\b\b\b\b\b\b\b\b\b\b\b\b\b\b\b\b\b\b\b\b\b\b\b\b\b\b\b\b\b\b\b\b\b\b\b\b\b\b\b\b\b\b\b\b\b\b\b\b\b\b\b\b\b\b\b\b\b\b\b\b\b\b\b\b\b\b\b\b\b\b\b\b\b\b\b\b\b\b\b\b\b\b\b\b\b\b\b\b\b\b\b\b\b\b\b\b\b\b\b\b\b\b\b\b\b\b\b\b\b\b\b\b\b\b\b\b\b\b\b\b\b\b\b\b\b\b\b\b\b\b\b\b\b\b\b\b\b\b\b\b\b\b\b\b\b\b\b\b\b\b\b\b\b\b\b\b\b\b\b\b\b\b\b\b\b\b\b\b\b\b\b\b\b\b\b\b\b\b\b\b\b\b\b\b\b\b\b\b\b\b\r236/236 [==============================] - 2s 9ms/step - loss: 60.8725 - xv_output_loss: 30.3865 - yv_output_loss: 30.4861 - xv_output_root_mean_squared_error: 5.5124 - yv_output_root_mean_squared_error: 5.5214 - val_loss: 59.6648 - val_xv_output_loss: 29.8737 - val_yv_output_loss: 29.7911 - val_xv_output_root_mean_squared_error: 5.4657 - val_yv_output_root_mean_squared_error: 5.4581\n",
            "Epoch 7/100\n",
            "229/236 [============================>.] - ETA: 0s - loss: 60.7798 - xv_output_loss: 30.3301 - yv_output_loss: 30.4496 - xv_output_root_mean_squared_error: 5.5073 - yv_output_root_mean_squared_error: 5.5181"
          ]
        },
        {
          "output_type": "stream",
          "name": "stderr",
          "text": [
            "WARNING:absl:Function `_wrapped_model` contains input name(s) X1, X2, X3, X4, Y1, Y2, Y3, Y4 with unsupported characters which will be renamed to x1, x2, x3, x4, y1, y2, y3, y4 in the SavedModel.\n"
          ]
        },
        {
          "output_type": "stream",
          "name": "stdout",
          "text": [
            "\b\b\b\b\b\b\b\b\b\b\b\b\b\b\b\b\b\b\b\b\b\b\b\b\b\b\b\b\b\b\b\b\b\b\b\b\b\b\b\b\b\b\b\b\b\b\b\b\b\b\b\b\b\b\b\b\b\b\b\b\b\b\b\b\b\b\b\b\b\b\b\b\b\b\b\b\b\b\b\b\b\b\b\b\b\b\b\b\b\b\b\b\b\b\b\b\b\b\b\b\b\b\b\b\b\b\b\b\b\b\b\b\b\b\b\b\b\b\b\b\b\b\b\b\b\b\b\b\b\b\b\b\b\b\b\b\b\b\b\b\b\b\b\b\b\b\b\b\b\b\b\b\b\b\b\b\b\b\b\b\b\b\b\b\b\b\b\b\b\b\b\b\b\b\b\b\b\b\b\b\b\b\b\b\b\b\b\b\b\b\b\b\b\b\b\b\b\b\b\b\b\b\b\b\b\b\r236/236 [==============================] - 2s 9ms/step - loss: 60.8508 - xv_output_loss: 30.3649 - yv_output_loss: 30.4859 - xv_output_root_mean_squared_error: 5.5104 - yv_output_root_mean_squared_error: 5.5214 - val_loss: 59.6496 - val_xv_output_loss: 29.8607 - val_yv_output_loss: 29.7889 - val_xv_output_root_mean_squared_error: 5.4645 - val_yv_output_root_mean_squared_error: 5.4579\n",
            "Epoch 8/100\n",
            "231/236 [============================>.] - ETA: 0s - loss: 60.7755 - xv_output_loss: 30.3212 - yv_output_loss: 30.4543 - xv_output_root_mean_squared_error: 5.5065 - yv_output_root_mean_squared_error: 5.5185"
          ]
        },
        {
          "output_type": "stream",
          "name": "stderr",
          "text": [
            "WARNING:absl:Function `_wrapped_model` contains input name(s) X1, X2, X3, X4, Y1, Y2, Y3, Y4 with unsupported characters which will be renamed to x1, x2, x3, x4, y1, y2, y3, y4 in the SavedModel.\n"
          ]
        },
        {
          "output_type": "stream",
          "name": "stdout",
          "text": [
            "\b\b\b\b\b\b\b\b\b\b\b\b\b\b\b\b\b\b\b\b\b\b\b\b\b\b\b\b\b\b\b\b\b\b\b\b\b\b\b\b\b\b\b\b\b\b\b\b\b\b\b\b\b\b\b\b\b\b\b\b\b\b\b\b\b\b\b\b\b\b\b\b\b\b\b\b\b\b\b\b\b\b\b\b\b\b\b\b\b\b\b\b\b\b\b\b\b\b\b\b\b\b\b\b\b\b\b\b\b\b\b\b\b\b\b\b\b\b\b\b\b\b\b\b\b\b\b\b\b\b\b\b\b\b\b\b\b\b\b\b\b\b\b\b\b\b\b\b\b\b\b\b\b\b\b\b\b\b\b\b\b\b\b\b\b\b\b\b\b\b\b\b\b\b\b\b\b\b\b\b\b\b\b\b\b\b\b\b\b\b\b\b\b\b\b\b\b\b\b\b\b\b\b\b\b\b\r236/236 [==============================] - 2s 10ms/step - loss: 60.8371 - xv_output_loss: 30.3504 - yv_output_loss: 30.4867 - xv_output_root_mean_squared_error: 5.5091 - yv_output_root_mean_squared_error: 5.5215 - val_loss: 59.6440 - val_xv_output_loss: 29.8542 - val_yv_output_loss: 29.7898 - val_xv_output_root_mean_squared_error: 5.4639 - val_yv_output_root_mean_squared_error: 5.4580\n",
            "Epoch 9/100\n",
            "232/236 [============================>.] - ETA: 0s - loss: 60.7627 - xv_output_loss: 30.3097 - yv_output_loss: 30.4529 - xv_output_root_mean_squared_error: 5.5054 - yv_output_root_mean_squared_error: 5.5184"
          ]
        },
        {
          "output_type": "stream",
          "name": "stderr",
          "text": [
            "WARNING:absl:Function `_wrapped_model` contains input name(s) X1, X2, X3, X4, Y1, Y2, Y3, Y4 with unsupported characters which will be renamed to x1, x2, x3, x4, y1, y2, y3, y4 in the SavedModel.\n"
          ]
        },
        {
          "output_type": "stream",
          "name": "stdout",
          "text": [
            "\b\b\b\b\b\b\b\b\b\b\b\b\b\b\b\b\b\b\b\b\b\b\b\b\b\b\b\b\b\b\b\b\b\b\b\b\b\b\b\b\b\b\b\b\b\b\b\b\b\b\b\b\b\b\b\b\b\b\b\b\b\b\b\b\b\b\b\b\b\b\b\b\b\b\b\b\b\b\b\b\b\b\b\b\b\b\b\b\b\b\b\b\b\b\b\b\b\b\b\b\b\b\b\b\b\b\b\b\b\b\b\b\b\b\b\b\b\b\b\b\b\b\b\b\b\b\b\b\b\b\b\b\b\b\b\b\b\b\b\b\b\b\b\b\b\b\b\b\b\b\b\b\b\b\b\b\b\b\b\b\b\b\b\b\b\b\b\b\b\b\b\b\b\b\b\b\b\b\b\b\b\b\b\b\b\b\b\b\b\b\b\b\b\b\b\b\b\b\b\b\b\b\b\b\b\b\r236/236 [==============================] - 2s 10ms/step - loss: 60.8247 - xv_output_loss: 30.3396 - yv_output_loss: 30.4851 - xv_output_root_mean_squared_error: 5.5081 - yv_output_root_mean_squared_error: 5.5213 - val_loss: 59.6405 - val_xv_output_loss: 29.8506 - val_yv_output_loss: 29.7899 - val_xv_output_root_mean_squared_error: 5.4636 - val_yv_output_root_mean_squared_error: 5.4580\n",
            "Epoch 10/100\n",
            "231/236 [============================>.] - ETA: 0s - loss: 60.7566 - xv_output_loss: 30.3051 - yv_output_loss: 30.4515 - xv_output_root_mean_squared_error: 5.5050 - yv_output_root_mean_squared_error: 5.5183"
          ]
        },
        {
          "output_type": "stream",
          "name": "stderr",
          "text": [
            "WARNING:absl:Function `_wrapped_model` contains input name(s) X1, X2, X3, X4, Y1, Y2, Y3, Y4 with unsupported characters which will be renamed to x1, x2, x3, x4, y1, y2, y3, y4 in the SavedModel.\n"
          ]
        },
        {
          "output_type": "stream",
          "name": "stdout",
          "text": [
            "\b\b\b\b\b\b\b\b\b\b\b\b\b\b\b\b\b\b\b\b\b\b\b\b\b\b\b\b\b\b\b\b\b\b\b\b\b\b\b\b\b\b\b\b\b\b\b\b\b\b\b\b\b\b\b\b\b\b\b\b\b\b\b\b\b\b\b\b\b\b\b\b\b\b\b\b\b\b\b\b\b\b\b\b\b\b\b\b\b\b\b\b\b\b\b\b\b\b\b\b\b\b\b\b\b\b\b\b\b\b\b\b\b\b\b\b\b\b\b\b\b\b\b\b\b\b\b\b\b\b\b\b\b\b\b\b\b\b\b\b\b\b\b\b\b\b\b\b\b\b\b\b\b\b\b\b\b\b\b\b\b\b\b\b\b\b\b\b\b\b\b\b\b\b\b\b\b\b\b\b\b\b\b\b\b\b\b\b\b\b\b\b\b\b\b\b\b\b\b\b\b\b\b\b\b\b\r236/236 [==============================] - 2s 9ms/step - loss: 60.8183 - xv_output_loss: 30.3343 - yv_output_loss: 30.4840 - xv_output_root_mean_squared_error: 5.5077 - yv_output_root_mean_squared_error: 5.5212 - val_loss: 59.6377 - val_xv_output_loss: 29.8474 - val_yv_output_loss: 29.7903 - val_xv_output_root_mean_squared_error: 5.4633 - val_yv_output_root_mean_squared_error: 5.4581\n",
            "Epoch 11/100\n",
            "225/236 [===========================>..] - ETA: 0s - loss: 60.7237 - xv_output_loss: 30.2862 - yv_output_loss: 30.4375 - xv_output_root_mean_squared_error: 5.5033 - yv_output_root_mean_squared_error: 5.5170"
          ]
        },
        {
          "output_type": "stream",
          "name": "stderr",
          "text": [
            "WARNING:absl:Function `_wrapped_model` contains input name(s) X1, X2, X3, X4, Y1, Y2, Y3, Y4 with unsupported characters which will be renamed to x1, x2, x3, x4, y1, y2, y3, y4 in the SavedModel.\n"
          ]
        },
        {
          "output_type": "stream",
          "name": "stdout",
          "text": [
            "\b\b\b\b\b\b\b\b\b\b\b\b\b\b\b\b\b\b\b\b\b\b\b\b\b\b\b\b\b\b\b\b\b\b\b\b\b\b\b\b\b\b\b\b\b\b\b\b\b\b\b\b\b\b\b\b\b\b\b\b\b\b\b\b\b\b\b\b\b\b\b\b\b\b\b\b\b\b\b\b\b\b\b\b\b\b\b\b\b\b\b\b\b\b\b\b\b\b\b\b\b\b\b\b\b\b\b\b\b\b\b\b\b\b\b\b\b\b\b\b\b\b\b\b\b\b\b\b\b\b\b\b\b\b\b\b\b\b\b\b\b\b\b\b\b\b\b\b\b\b\b\b\b\b\b\b\b\b\b\b\b\b\b\b\b\b\b\b\b\b\b\b\b\b\b\b\b\b\b\b\b\b\b\b\b\b\b\b\b\b\b\b\b\b\b\b\b\b\b\b\b\b\b\b\b\b\r236/236 [==============================] - 3s 11ms/step - loss: 60.8133 - xv_output_loss: 30.3304 - yv_output_loss: 30.4829 - xv_output_root_mean_squared_error: 5.5073 - yv_output_root_mean_squared_error: 5.5211 - val_loss: 59.6305 - val_xv_output_loss: 29.8451 - val_yv_output_loss: 29.7854 - val_xv_output_root_mean_squared_error: 5.4631 - val_yv_output_root_mean_squared_error: 5.4576\n",
            "Epoch 12/100\n",
            "224/236 [===========================>..] - ETA: 0s - loss: 60.7062 - xv_output_loss: 30.2774 - yv_output_loss: 30.4288 - xv_output_root_mean_squared_error: 5.5025 - yv_output_root_mean_squared_error: 5.5162"
          ]
        },
        {
          "output_type": "stream",
          "name": "stderr",
          "text": [
            "WARNING:absl:Function `_wrapped_model` contains input name(s) X1, X2, X3, X4, Y1, Y2, Y3, Y4 with unsupported characters which will be renamed to x1, x2, x3, x4, y1, y2, y3, y4 in the SavedModel.\n"
          ]
        },
        {
          "output_type": "stream",
          "name": "stdout",
          "text": [
            "\b\b\b\b\b\b\b\b\b\b\b\b\b\b\b\b\b\b\b\b\b\b\b\b\b\b\b\b\b\b\b\b\b\b\b\b\b\b\b\b\b\b\b\b\b\b\b\b\b\b\b\b\b\b\b\b\b\b\b\b\b\b\b\b\b\b\b\b\b\b\b\b\b\b\b\b\b\b\b\b\b\b\b\b\b\b\b\b\b\b\b\b\b\b\b\b\b\b\b\b\b\b\b\b\b\b\b\b\b\b\b\b\b\b\b\b\b\b\b\b\b\b\b\b\b\b\b\b\b\b\b\b\b\b\b\b\b\b\b\b\b\b\b\b\b\b\b\b\b\b\b\b\b\b\b\b\b\b\b\b\b\b\b\b\b\b\b\b\b\b\b\b\b\b\b\b\b\b\b\b\b\b\b\b\b\b\b\b\b\b\b\b\b\b\b\b\b\b\b\b\b\b\b\b\b\b\r236/236 [==============================] - 2s 9ms/step - loss: 60.8070 - xv_output_loss: 30.3273 - yv_output_loss: 30.4797 - xv_output_root_mean_squared_error: 5.5070 - yv_output_root_mean_squared_error: 5.5208 - val_loss: 59.6170 - val_xv_output_loss: 29.8394 - val_yv_output_loss: 29.7777 - val_xv_output_root_mean_squared_error: 5.4625 - val_yv_output_root_mean_squared_error: 5.4569\n",
            "Epoch 13/100\n",
            "231/236 [============================>.] - ETA: 0s - loss: 60.7424 - xv_output_loss: 30.2992 - yv_output_loss: 30.4432 - xv_output_root_mean_squared_error: 5.5045 - yv_output_root_mean_squared_error: 5.5175"
          ]
        },
        {
          "output_type": "stream",
          "name": "stderr",
          "text": [
            "WARNING:absl:Function `_wrapped_model` contains input name(s) X1, X2, X3, X4, Y1, Y2, Y3, Y4 with unsupported characters which will be renamed to x1, x2, x3, x4, y1, y2, y3, y4 in the SavedModel.\n"
          ]
        },
        {
          "output_type": "stream",
          "name": "stdout",
          "text": [
            "\b\b\b\b\b\b\b\b\b\b\b\b\b\b\b\b\b\b\b\b\b\b\b\b\b\b\b\b\b\b\b\b\b\b\b\b\b\b\b\b\b\b\b\b\b\b\b\b\b\b\b\b\b\b\b\b\b\b\b\b\b\b\b\b\b\b\b\b\b\b\b\b\b\b\b\b\b\b\b\b\b\b\b\b\b\b\b\b\b\b\b\b\b\b\b\b\b\b\b\b\b\b\b\b\b\b\b\b\b\b\b\b\b\b\b\b\b\b\b\b\b\b\b\b\b\b\b\b\b\b\b\b\b\b\b\b\b\b\b\b\b\b\b\b\b\b\b\b\b\b\b\b\b\b\b\b\b\b\b\b\b\b\b\b\b\b\b\b\b\b\b\b\b\b\b\b\b\b\b\b\b\b\b\b\b\b\b\b\b\b\b\b\b\b\b\b\b\b\b\b\b\b\b\b\b\b\r236/236 [==============================] - 2s 10ms/step - loss: 60.8045 - xv_output_loss: 30.3281 - yv_output_loss: 30.4764 - xv_output_root_mean_squared_error: 5.5071 - yv_output_root_mean_squared_error: 5.5205 - val_loss: 59.6227 - val_xv_output_loss: 29.8466 - val_yv_output_loss: 29.7761 - val_xv_output_root_mean_squared_error: 5.4632 - val_yv_output_root_mean_squared_error: 5.4568\n",
            "Epoch 14/100\n",
            "229/236 [============================>.] - ETA: 0s - loss: 60.7287 - xv_output_loss: 30.2907 - yv_output_loss: 30.4380 - xv_output_root_mean_squared_error: 5.5037 - yv_output_root_mean_squared_error: 5.5171"
          ]
        },
        {
          "output_type": "stream",
          "name": "stderr",
          "text": [
            "WARNING:absl:Function `_wrapped_model` contains input name(s) X1, X2, X3, X4, Y1, Y2, Y3, Y4 with unsupported characters which will be renamed to x1, x2, x3, x4, y1, y2, y3, y4 in the SavedModel.\n"
          ]
        },
        {
          "output_type": "stream",
          "name": "stdout",
          "text": [
            "\b\b\b\b\b\b\b\b\b\b\b\b\b\b\b\b\b\b\b\b\b\b\b\b\b\b\b\b\b\b\b\b\b\b\b\b\b\b\b\b\b\b\b\b\b\b\b\b\b\b\b\b\b\b\b\b\b\b\b\b\b\b\b\b\b\b\b\b\b\b\b\b\b\b\b\b\b\b\b\b\b\b\b\b\b\b\b\b\b\b\b\b\b\b\b\b\b\b\b\b\b\b\b\b\b\b\b\b\b\b\b\b\b\b\b\b\b\b\b\b\b\b\b\b\b\b\b\b\b\b\b\b\b\b\b\b\b\b\b\b\b\b\b\b\b\b\b\b\b\b\b\b\b\b\b\b\b\b\b\b\b\b\b\b\b\b\b\b\b\b\b\b\b\b\b\b\b\b\b\b\b\b\b\b\b\b\b\b\b\b\b\b\b\b\b\b\b\b\b\b\b\b\b\b\b\b\r236/236 [==============================] - 2s 10ms/step - loss: 60.7999 - xv_output_loss: 30.3253 - yv_output_loss: 30.4746 - xv_output_root_mean_squared_error: 5.5068 - yv_output_root_mean_squared_error: 5.5204 - val_loss: 59.6221 - val_xv_output_loss: 29.8431 - val_yv_output_loss: 29.7790 - val_xv_output_root_mean_squared_error: 5.4629 - val_yv_output_root_mean_squared_error: 5.4570\n",
            "Epoch 15/100\n",
            "236/236 [==============================] - ETA: 0s - loss: 60.7945 - xv_output_loss: 30.3234 - yv_output_loss: 30.4711 - xv_output_root_mean_squared_error: 5.5067 - yv_output_root_mean_squared_error: 5.5201"
          ]
        },
        {
          "output_type": "stream",
          "name": "stderr",
          "text": [
            "WARNING:absl:Function `_wrapped_model` contains input name(s) X1, X2, X3, X4, Y1, Y2, Y3, Y4 with unsupported characters which will be renamed to x1, x2, x3, x4, y1, y2, y3, y4 in the SavedModel.\n"
          ]
        },
        {
          "output_type": "stream",
          "name": "stdout",
          "text": [
            "\b\b\b\b\b\b\b\b\b\b\b\b\b\b\b\b\b\b\b\b\b\b\b\b\b\b\b\b\b\b\b\b\b\b\b\b\b\b\b\b\b\b\b\b\b\b\b\b\b\b\b\b\b\b\b\b\b\b\b\b\b\b\b\b\b\b\b\b\b\b\b\b\b\b\b\b\b\b\b\b\b\b\b\b\b\b\b\b\b\b\b\b\b\b\b\b\b\b\b\b\b\b\b\b\b\b\b\b\b\b\b\b\b\b\b\b\b\b\b\b\b\b\b\b\b\b\b\b\b\b\b\b\b\b\b\b\b\b\b\b\b\b\b\b\b\b\b\b\b\b\b\b\b\b\b\b\b\b\b\b\b\b\b\b\b\b\b\b\b\b\b\b\b\b\b\b\b\b\b\b\b\b\b\b\b\b\b\b\b\b\b\b\b\b\b\b\b\b\b\b\b\b\b\b\b\b\r236/236 [==============================] - 2s 9ms/step - loss: 60.7945 - xv_output_loss: 30.3234 - yv_output_loss: 30.4711 - xv_output_root_mean_squared_error: 5.5067 - yv_output_root_mean_squared_error: 5.5201 - val_loss: 59.6189 - val_xv_output_loss: 29.8436 - val_yv_output_loss: 29.7753 - val_xv_output_root_mean_squared_error: 5.4629 - val_yv_output_root_mean_squared_error: 5.4567\n",
            "Epoch 16/100\n",
            "236/236 [==============================] - ETA: 0s - loss: 60.7872 - xv_output_loss: 30.3205 - yv_output_loss: 30.4666 - xv_output_root_mean_squared_error: 5.5064 - yv_output_root_mean_squared_error: 5.5197"
          ]
        },
        {
          "output_type": "stream",
          "name": "stderr",
          "text": [
            "WARNING:absl:Function `_wrapped_model` contains input name(s) X1, X2, X3, X4, Y1, Y2, Y3, Y4 with unsupported characters which will be renamed to x1, x2, x3, x4, y1, y2, y3, y4 in the SavedModel.\n"
          ]
        },
        {
          "output_type": "stream",
          "name": "stdout",
          "text": [
            "\b\b\b\b\b\b\b\b\b\b\b\b\b\b\b\b\b\b\b\b\b\b\b\b\b\b\b\b\b\b\b\b\b\b\b\b\b\b\b\b\b\b\b\b\b\b\b\b\b\b\b\b\b\b\b\b\b\b\b\b\b\b\b\b\b\b\b\b\b\b\b\b\b\b\b\b\b\b\b\b\b\b\b\b\b\b\b\b\b\b\b\b\b\b\b\b\b\b\b\b\b\b\b\b\b\b\b\b\b\b\b\b\b\b\b\b\b\b\b\b\b\b\b\b\b\b\b\b\b\b\b\b\b\b\b\b\b\b\b\b\b\b\b\b\b\b\b\b\b\b\b\b\b\b\b\b\b\b\b\b\b\b\b\b\b\b\b\b\b\b\b\b\b\b\b\b\b\b\b\b\b\b\b\b\b\b\b\b\b\b\b\b\b\b\b\b\b\b\b\b\b\b\b\b\b\b\r236/236 [==============================] - 2s 11ms/step - loss: 60.7872 - xv_output_loss: 30.3205 - yv_output_loss: 30.4666 - xv_output_root_mean_squared_error: 5.5064 - yv_output_root_mean_squared_error: 5.5197 - val_loss: 59.6137 - val_xv_output_loss: 29.8400 - val_yv_output_loss: 29.7737 - val_xv_output_root_mean_squared_error: 5.4626 - val_yv_output_root_mean_squared_error: 5.4565\n",
            "Epoch 17/100\n",
            "234/236 [============================>.] - ETA: 0s - loss: 60.7786 - xv_output_loss: 30.3175 - yv_output_loss: 30.4611 - xv_output_root_mean_squared_error: 5.5061 - yv_output_root_mean_squared_error: 5.5192"
          ]
        },
        {
          "output_type": "stream",
          "name": "stderr",
          "text": [
            "WARNING:absl:Function `_wrapped_model` contains input name(s) X1, X2, X3, X4, Y1, Y2, Y3, Y4 with unsupported characters which will be renamed to x1, x2, x3, x4, y1, y2, y3, y4 in the SavedModel.\n"
          ]
        },
        {
          "output_type": "stream",
          "name": "stdout",
          "text": [
            "\b\b\b\b\b\b\b\b\b\b\b\b\b\b\b\b\b\b\b\b\b\b\b\b\b\b\b\b\b\b\b\b\b\b\b\b\b\b\b\b\b\b\b\b\b\b\b\b\b\b\b\b\b\b\b\b\b\b\b\b\b\b\b\b\b\b\b\b\b\b\b\b\b\b\b\b\b\b\b\b\b\b\b\b\b\b\b\b\b\b\b\b\b\b\b\b\b\b\b\b\b\b\b\b\b\b\b\b\b\b\b\b\b\b\b\b\b\b\b\b\b\b\b\b\b\b\b\b\b\b\b\b\b\b\b\b\b\b\b\b\b\b\b\b\b\b\b\b\b\b\b\b\b\b\b\b\b\b\b\b\b\b\b\b\b\b\b\b\b\b\b\b\b\b\b\b\b\b\b\b\b\b\b\b\b\b\b\b\b\b\b\b\b\b\b\b\b\b\b\b\b\b\b\b\b\b\r236/236 [==============================] - 2s 9ms/step - loss: 60.7818 - xv_output_loss: 30.3183 - yv_output_loss: 30.4635 - xv_output_root_mean_squared_error: 5.5062 - yv_output_root_mean_squared_error: 5.5194 - val_loss: 59.6104 - val_xv_output_loss: 29.8379 - val_yv_output_loss: 29.7725 - val_xv_output_root_mean_squared_error: 5.4624 - val_yv_output_root_mean_squared_error: 5.4564\n",
            "Epoch 18/100\n",
            "226/236 [===========================>..] - ETA: 0s - loss: 60.7291 - xv_output_loss: 30.2934 - yv_output_loss: 30.4356 - xv_output_root_mean_squared_error: 5.5039 - yv_output_root_mean_squared_error: 5.5168"
          ]
        },
        {
          "output_type": "stream",
          "name": "stderr",
          "text": [
            "WARNING:absl:Function `_wrapped_model` contains input name(s) X1, X2, X3, X4, Y1, Y2, Y3, Y4 with unsupported characters which will be renamed to x1, x2, x3, x4, y1, y2, y3, y4 in the SavedModel.\n"
          ]
        },
        {
          "output_type": "stream",
          "name": "stdout",
          "text": [
            "\b\b\b\b\b\b\b\b\b\b\b\b\b\b\b\b\b\b\b\b\b\b\b\b\b\b\b\b\b\b\b\b\b\b\b\b\b\b\b\b\b\b\b\b\b\b\b\b\b\b\b\b\b\b\b\b\b\b\b\b\b\b\b\b\b\b\b\b\b\b\b\b\b\b\b\b\b\b\b\b\b\b\b\b\b\b\b\b\b\b\b\b\b\b\b\b\b\b\b\b\b\b\b\b\b\b\b\b\b\b\b\b\b\b\b\b\b\b\b\b\b\b\b\b\b\b\b\b\b\b\b\b\b\b\b\b\b\b\b\b\b\b\b\b\b\b\b\b\b\b\b\b\b\b\b\b\b\b\b\b\b\b\b\b\b\b\b\b\b\b\b\b\b\b\b\b\b\b\b\b\b\b\b\b\b\b\b\b\b\b\b\b\b\b\b\b\b\b\b\b\b\b\b\b\b\b\r236/236 [==============================] - 2s 9ms/step - loss: 60.7772 - xv_output_loss: 30.3159 - yv_output_loss: 30.4612 - xv_output_root_mean_squared_error: 5.5060 - yv_output_root_mean_squared_error: 5.5192 - val_loss: 59.6075 - val_xv_output_loss: 29.8369 - val_yv_output_loss: 29.7705 - val_xv_output_root_mean_squared_error: 5.4623 - val_yv_output_root_mean_squared_error: 5.4562\n",
            "Epoch 19/100\n",
            "233/236 [============================>.] - ETA: 0s - loss: 60.7233 - xv_output_loss: 30.2920 - yv_output_loss: 30.4312 - xv_output_root_mean_squared_error: 5.5038 - yv_output_root_mean_squared_error: 5.5164"
          ]
        },
        {
          "output_type": "stream",
          "name": "stderr",
          "text": [
            "WARNING:absl:Function `_wrapped_model` contains input name(s) X1, X2, X3, X4, Y1, Y2, Y3, Y4 with unsupported characters which will be renamed to x1, x2, x3, x4, y1, y2, y3, y4 in the SavedModel.\n"
          ]
        },
        {
          "output_type": "stream",
          "name": "stdout",
          "text": [
            "\b\b\b\b\b\b\b\b\b\b\b\b\b\b\b\b\b\b\b\b\b\b\b\b\b\b\b\b\b\b\b\b\b\b\b\b\b\b\b\b\b\b\b\b\b\b\b\b\b\b\b\b\b\b\b\b\b\b\b\b\b\b\b\b\b\b\b\b\b\b\b\b\b\b\b\b\b\b\b\b\b\b\b\b\b\b\b\b\b\b\b\b\b\b\b\b\b\b\b\b\b\b\b\b\b\b\b\b\b\b\b\b\b\b\b\b\b\b\b\b\b\b\b\b\b\b\b\b\b\b\b\b\b\b\b\b\b\b\b\b\b\b\b\b\b\b\b\b\b\b\b\b\b\b\b\b\b\b\b\b\b\b\b\b\b\b\b\b\b\b\b\b\b\b\b\b\b\b\b\b\b\b\b\b\b\b\b\b\b\b\b\b\b\b\b\b\b\b\b\b\b\b\b\b\b\b\r236/236 [==============================] - 2s 9ms/step - loss: 60.7740 - xv_output_loss: 30.3152 - yv_output_loss: 30.4588 - xv_output_root_mean_squared_error: 5.5059 - yv_output_root_mean_squared_error: 5.5189 - val_loss: 59.6079 - val_xv_output_loss: 29.8361 - val_yv_output_loss: 29.7719 - val_xv_output_root_mean_squared_error: 5.4622 - val_yv_output_root_mean_squared_error: 5.4564\n",
            "Epoch 20/100\n",
            "230/236 [============================>.] - ETA: 0s - loss: 60.6771 - xv_output_loss: 30.2688 - yv_output_loss: 30.4083 - xv_output_root_mean_squared_error: 5.5017 - yv_output_root_mean_squared_error: 5.5144"
          ]
        },
        {
          "output_type": "stream",
          "name": "stderr",
          "text": [
            "WARNING:absl:Function `_wrapped_model` contains input name(s) X1, X2, X3, X4, Y1, Y2, Y3, Y4 with unsupported characters which will be renamed to x1, x2, x3, x4, y1, y2, y3, y4 in the SavedModel.\n"
          ]
        },
        {
          "output_type": "stream",
          "name": "stdout",
          "text": [
            "\b\b\b\b\b\b\b\b\b\b\b\b\b\b\b\b\b\b\b\b\b\b\b\b\b\b\b\b\b\b\b\b\b\b\b\b\b\b\b\b\b\b\b\b\b\b\b\b\b\b\b\b\b\b\b\b\b\b\b\b\b\b\b\b\b\b\b\b\b\b\b\b\b\b\b\b\b\b\b\b\b\b\b\b\b\b\b\b\b\b\b\b\b\b\b\b\b\b\b\b\b\b\b\b\b\b\b\b\b\b\b\b\b\b\b\b\b\b\b\b\b\b\b\b\b\b\b\b\b\b\b\b\b\b\b\b\b\b\b\b\b\b\b\b\b\b\b\b\b\b\b\b\b\b\b\b\b\b\b\b\b\b\b\b\b\b\b\b\b\b\b\b\b\b\b\b\b\b\b\b\b\b\b\b\b\b\b\b\b\b\b\b\b\b\b\b\b\b\b\b\b\b\b\b\b\b\r236/236 [==============================] - 2s 9ms/step - loss: 60.7703 - xv_output_loss: 30.3136 - yv_output_loss: 30.4567 - xv_output_root_mean_squared_error: 5.5058 - yv_output_root_mean_squared_error: 5.5188 - val_loss: 59.6080 - val_xv_output_loss: 29.8381 - val_yv_output_loss: 29.7699 - val_xv_output_root_mean_squared_error: 5.4624 - val_yv_output_root_mean_squared_error: 5.4562\n",
            "Epoch 21/100\n",
            "230/236 [============================>.] - ETA: 0s - loss: 60.6735 - xv_output_loss: 30.2671 - yv_output_loss: 30.4064 - xv_output_root_mean_squared_error: 5.5016 - yv_output_root_mean_squared_error: 5.5142"
          ]
        },
        {
          "output_type": "stream",
          "name": "stderr",
          "text": [
            "WARNING:absl:Function `_wrapped_model` contains input name(s) X1, X2, X3, X4, Y1, Y2, Y3, Y4 with unsupported characters which will be renamed to x1, x2, x3, x4, y1, y2, y3, y4 in the SavedModel.\n"
          ]
        },
        {
          "output_type": "stream",
          "name": "stdout",
          "text": [
            "\b\b\b\b\b\b\b\b\b\b\b\b\b\b\b\b\b\b\b\b\b\b\b\b\b\b\b\b\b\b\b\b\b\b\b\b\b\b\b\b\b\b\b\b\b\b\b\b\b\b\b\b\b\b\b\b\b\b\b\b\b\b\b\b\b\b\b\b\b\b\b\b\b\b\b\b\b\b\b\b\b\b\b\b\b\b\b\b\b\b\b\b\b\b\b\b\b\b\b\b\b\b\b\b\b\b\b\b\b\b\b\b\b\b\b\b\b\b\b\b\b\b\b\b\b\b\b\b\b\b\b\b\b\b\b\b\b\b\b\b\b\b\b\b\b\b\b\b\b\b\b\b\b\b\b\b\b\b\b\b\b\b\b\b\b\b\b\b\b\b\b\b\b\b\b\b\b\b\b\b\b\b\b\b\b\b\b\b\b\b\b\b\b\b\b\b\b\b\b\b\b\b\b\b\b\b\r236/236 [==============================] - 2s 10ms/step - loss: 60.7665 - xv_output_loss: 30.3117 - yv_output_loss: 30.4548 - xv_output_root_mean_squared_error: 5.5056 - yv_output_root_mean_squared_error: 5.5186 - val_loss: 59.6065 - val_xv_output_loss: 29.8373 - val_yv_output_loss: 29.7692 - val_xv_output_root_mean_squared_error: 5.4624 - val_yv_output_root_mean_squared_error: 5.4561\n",
            "Epoch 22/100\n",
            "227/236 [===========================>..] - ETA: 0s - loss: 60.7009 - xv_output_loss: 30.2802 - yv_output_loss: 30.4207 - xv_output_root_mean_squared_error: 5.5027 - yv_output_root_mean_squared_error: 5.5155"
          ]
        },
        {
          "output_type": "stream",
          "name": "stderr",
          "text": [
            "WARNING:absl:Function `_wrapped_model` contains input name(s) X1, X2, X3, X4, Y1, Y2, Y3, Y4 with unsupported characters which will be renamed to x1, x2, x3, x4, y1, y2, y3, y4 in the SavedModel.\n"
          ]
        },
        {
          "output_type": "stream",
          "name": "stdout",
          "text": [
            "\b\b\b\b\b\b\b\b\b\b\b\b\b\b\b\b\b\b\b\b\b\b\b\b\b\b\b\b\b\b\b\b\b\b\b\b\b\b\b\b\b\b\b\b\b\b\b\b\b\b\b\b\b\b\b\b\b\b\b\b\b\b\b\b\b\b\b\b\b\b\b\b\b\b\b\b\b\b\b\b\b\b\b\b\b\b\b\b\b\b\b\b\b\b\b\b\b\b\b\b\b\b\b\b\b\b\b\b\b\b\b\b\b\b\b\b\b\b\b\b\b\b\b\b\b\b\b\b\b\b\b\b\b\b\b\b\b\b\b\b\b\b\b\b\b\b\b\b\b\b\b\b\b\b\b\b\b\b\b\b\b\b\b\b\b\b\b\b\b\b\b\b\b\b\b\b\b\b\b\b\b\b\b\b\b\b\b\b\b\b\b\b\b\b\b\b\b\b\b\b\b\b\b\b\b\b\r236/236 [==============================] - 2s 9ms/step - loss: 60.7651 - xv_output_loss: 30.3109 - yv_output_loss: 30.4542 - xv_output_root_mean_squared_error: 5.5055 - yv_output_root_mean_squared_error: 5.5185 - val_loss: 59.6084 - val_xv_output_loss: 29.8410 - val_yv_output_loss: 29.7674 - val_xv_output_root_mean_squared_error: 5.4627 - val_yv_output_root_mean_squared_error: 5.4559\n",
            "Epoch 23/100\n",
            "224/236 [===========================>..] - ETA: 0s - loss: 60.6612 - xv_output_loss: 30.2615 - yv_output_loss: 30.3997 - xv_output_root_mean_squared_error: 5.5010 - yv_output_root_mean_squared_error: 5.5136"
          ]
        },
        {
          "output_type": "stream",
          "name": "stderr",
          "text": [
            "WARNING:absl:Function `_wrapped_model` contains input name(s) X1, X2, X3, X4, Y1, Y2, Y3, Y4 with unsupported characters which will be renamed to x1, x2, x3, x4, y1, y2, y3, y4 in the SavedModel.\n"
          ]
        },
        {
          "output_type": "stream",
          "name": "stdout",
          "text": [
            "\b\b\b\b\b\b\b\b\b\b\b\b\b\b\b\b\b\b\b\b\b\b\b\b\b\b\b\b\b\b\b\b\b\b\b\b\b\b\b\b\b\b\b\b\b\b\b\b\b\b\b\b\b\b\b\b\b\b\b\b\b\b\b\b\b\b\b\b\b\b\b\b\b\b\b\b\b\b\b\b\b\b\b\b\b\b\b\b\b\b\b\b\b\b\b\b\b\b\b\b\b\b\b\b\b\b\b\b\b\b\b\b\b\b\b\b\b\b\b\b\b\b\b\b\b\b\b\b\b\b\b\b\b\b\b\b\b\b\b\b\b\b\b\b\b\b\b\b\b\b\b\b\b\b\b\b\b\b\b\b\b\b\b\b\b\b\b\b\b\b\b\b\b\b\b\b\b\b\b\b\b\b\b\b\b\b\b\b\b\b\b\b\b\b\b\b\b\b\b\b\b\b\b\b\b\b\r236/236 [==============================] - 2s 9ms/step - loss: 60.7622 - xv_output_loss: 30.3106 - yv_output_loss: 30.4516 - xv_output_root_mean_squared_error: 5.5055 - yv_output_root_mean_squared_error: 5.5183 - val_loss: 59.6062 - val_xv_output_loss: 29.8354 - val_yv_output_loss: 29.7708 - val_xv_output_root_mean_squared_error: 5.4622 - val_yv_output_root_mean_squared_error: 5.4563\n",
            "Epoch 24/100\n",
            "230/236 [============================>.] - ETA: 0s - loss: 60.6665 - xv_output_loss: 30.2654 - yv_output_loss: 30.4011 - xv_output_root_mean_squared_error: 5.5014 - yv_output_root_mean_squared_error: 5.5137"
          ]
        },
        {
          "output_type": "stream",
          "name": "stderr",
          "text": [
            "WARNING:absl:Function `_wrapped_model` contains input name(s) X1, X2, X3, X4, Y1, Y2, Y3, Y4 with unsupported characters which will be renamed to x1, x2, x3, x4, y1, y2, y3, y4 in the SavedModel.\n"
          ]
        },
        {
          "output_type": "stream",
          "name": "stdout",
          "text": [
            "\b\b\b\b\b\b\b\b\b\b\b\b\b\b\b\b\b\b\b\b\b\b\b\b\b\b\b\b\b\b\b\b\b\b\b\b\b\b\b\b\b\b\b\b\b\b\b\b\b\b\b\b\b\b\b\b\b\b\b\b\b\b\b\b\b\b\b\b\b\b\b\b\b\b\b\b\b\b\b\b\b\b\b\b\b\b\b\b\b\b\b\b\b\b\b\b\b\b\b\b\b\b\b\b\b\b\b\b\b\b\b\b\b\b\b\b\b\b\b\b\b\b\b\b\b\b\b\b\b\b\b\b\b\b\b\b\b\b\b\b\b\b\b\b\b\b\b\b\b\b\b\b\b\b\b\b\b\b\b\b\b\b\b\b\b\b\b\b\b\b\b\b\b\b\b\b\b\b\b\b\b\b\b\b\b\b\b\b\b\b\b\b\b\b\b\b\b\b\b\b\b\b\b\b\b\b\r236/236 [==============================] - 2s 9ms/step - loss: 60.7597 - xv_output_loss: 30.3097 - yv_output_loss: 30.4500 - xv_output_root_mean_squared_error: 5.5054 - yv_output_root_mean_squared_error: 5.5181 - val_loss: 59.6039 - val_xv_output_loss: 29.8341 - val_yv_output_loss: 29.7699 - val_xv_output_root_mean_squared_error: 5.4621 - val_yv_output_root_mean_squared_error: 5.4562\n",
            "Epoch 25/100\n",
            "229/236 [============================>.] - ETA: 0s - loss: 60.6884 - xv_output_loss: 30.2764 - yv_output_loss: 30.4120 - xv_output_root_mean_squared_error: 5.5024 - yv_output_root_mean_squared_error: 5.5147"
          ]
        },
        {
          "output_type": "stream",
          "name": "stderr",
          "text": [
            "WARNING:absl:Function `_wrapped_model` contains input name(s) X1, X2, X3, X4, Y1, Y2, Y3, Y4 with unsupported characters which will be renamed to x1, x2, x3, x4, y1, y2, y3, y4 in the SavedModel.\n"
          ]
        },
        {
          "output_type": "stream",
          "name": "stdout",
          "text": [
            "\b\b\b\b\b\b\b\b\b\b\b\b\b\b\b\b\b\b\b\b\b\b\b\b\b\b\b\b\b\b\b\b\b\b\b\b\b\b\b\b\b\b\b\b\b\b\b\b\b\b\b\b\b\b\b\b\b\b\b\b\b\b\b\b\b\b\b\b\b\b\b\b\b\b\b\b\b\b\b\b\b\b\b\b\b\b\b\b\b\b\b\b\b\b\b\b\b\b\b\b\b\b\b\b\b\b\b\b\b\b\b\b\b\b\b\b\b\b\b\b\b\b\b\b\b\b\b\b\b\b\b\b\b\b\b\b\b\b\b\b\b\b\b\b\b\b\b\b\b\b\b\b\b\b\b\b\b\b\b\b\b\b\b\b\b\b\b\b\b\b\b\b\b\b\b\b\b\b\b\b\b\b\b\b\b\b\b\b\b\b\b\b\b\b\b\b\b\b\b\b\b\b\b\b\b\b\r236/236 [==============================] - 2s 9ms/step - loss: 60.7583 - xv_output_loss: 30.3093 - yv_output_loss: 30.4490 - xv_output_root_mean_squared_error: 5.5054 - yv_output_root_mean_squared_error: 5.5181 - val_loss: 59.6033 - val_xv_output_loss: 29.8334 - val_yv_output_loss: 29.7699 - val_xv_output_root_mean_squared_error: 5.4620 - val_yv_output_root_mean_squared_error: 5.4562\n",
            "Epoch 26/100\n",
            "225/236 [===========================>..] - ETA: 0s - loss: 60.6648 - xv_output_loss: 30.2658 - yv_output_loss: 30.3990 - xv_output_root_mean_squared_error: 5.5014 - yv_output_root_mean_squared_error: 5.5135"
          ]
        },
        {
          "output_type": "stream",
          "name": "stderr",
          "text": [
            "WARNING:absl:Function `_wrapped_model` contains input name(s) X1, X2, X3, X4, Y1, Y2, Y3, Y4 with unsupported characters which will be renamed to x1, x2, x3, x4, y1, y2, y3, y4 in the SavedModel.\n"
          ]
        },
        {
          "output_type": "stream",
          "name": "stdout",
          "text": [
            "\b\b\b\b\b\b\b\b\b\b\b\b\b\b\b\b\b\b\b\b\b\b\b\b\b\b\b\b\b\b\b\b\b\b\b\b\b\b\b\b\b\b\b\b\b\b\b\b\b\b\b\b\b\b\b\b\b\b\b\b\b\b\b\b\b\b\b\b\b\b\b\b\b\b\b\b\b\b\b\b\b\b\b\b\b\b\b\b\b\b\b\b\b\b\b\b\b\b\b\b\b\b\b\b\b\b\b\b\b\b\b\b\b\b\b\b\b\b\b\b\b\b\b\b\b\b\b\b\b\b\b\b\b\b\b\b\b\b\b\b\b\b\b\b\b\b\b\b\b\b\b\b\b\b\b\b\b\b\b\b\b\b\b\b\b\b\b\b\b\b\b\b\b\b\b\b\b\b\b\b\b\b\b\b\b\b\b\b\b\b\b\b\b\b\b\b\b\b\b\b\b\b\b\b\b\b\r236/236 [==============================] - 2s 9ms/step - loss: 60.7546 - xv_output_loss: 30.3087 - yv_output_loss: 30.4459 - xv_output_root_mean_squared_error: 5.5053 - yv_output_root_mean_squared_error: 5.5178 - val_loss: 59.6021 - val_xv_output_loss: 29.8335 - val_yv_output_loss: 29.7686 - val_xv_output_root_mean_squared_error: 5.4620 - val_yv_output_root_mean_squared_error: 5.4561\n",
            "Epoch 27/100\n",
            "227/236 [===========================>..] - ETA: 0s - loss: 60.6870 - xv_output_loss: 30.2777 - yv_output_loss: 30.4094 - xv_output_root_mean_squared_error: 5.5025 - yv_output_root_mean_squared_error: 5.5145"
          ]
        },
        {
          "output_type": "stream",
          "name": "stderr",
          "text": [
            "WARNING:absl:Function `_wrapped_model` contains input name(s) X1, X2, X3, X4, Y1, Y2, Y3, Y4 with unsupported characters which will be renamed to x1, x2, x3, x4, y1, y2, y3, y4 in the SavedModel.\n"
          ]
        },
        {
          "output_type": "stream",
          "name": "stdout",
          "text": [
            "\b\b\b\b\b\b\b\b\b\b\b\b\b\b\b\b\b\b\b\b\b\b\b\b\b\b\b\b\b\b\b\b\b\b\b\b\b\b\b\b\b\b\b\b\b\b\b\b\b\b\b\b\b\b\b\b\b\b\b\b\b\b\b\b\b\b\b\b\b\b\b\b\b\b\b\b\b\b\b\b\b\b\b\b\b\b\b\b\b\b\b\b\b\b\b\b\b\b\b\b\b\b\b\b\b\b\b\b\b\b\b\b\b\b\b\b\b\b\b\b\b\b\b\b\b\b\b\b\b\b\b\b\b\b\b\b\b\b\b\b\b\b\b\b\b\b\b\b\b\b\b\b\b\b\b\b\b\b\b\b\b\b\b\b\b\b\b\b\b\b\b\b\b\b\b\b\b\b\b\b\b\b\b\b\b\b\b\b\b\b\b\b\b\b\b\b\b\b\b\b\b\b\b\b\b\b\r236/236 [==============================] - 3s 11ms/step - loss: 60.7514 - xv_output_loss: 30.3078 - yv_output_loss: 30.4435 - xv_output_root_mean_squared_error: 5.5053 - yv_output_root_mean_squared_error: 5.5176 - val_loss: 59.6028 - val_xv_output_loss: 29.8315 - val_yv_output_loss: 29.7713 - val_xv_output_root_mean_squared_error: 5.4618 - val_yv_output_root_mean_squared_error: 5.4563\n",
            "Epoch 28/100\n",
            "230/236 [============================>.] - ETA: 0s - loss: 60.6578 - xv_output_loss: 30.2642 - yv_output_loss: 30.3936 - xv_output_root_mean_squared_error: 5.5013 - yv_output_root_mean_squared_error: 5.5130"
          ]
        },
        {
          "output_type": "stream",
          "name": "stderr",
          "text": [
            "WARNING:absl:Function `_wrapped_model` contains input name(s) X1, X2, X3, X4, Y1, Y2, Y3, Y4 with unsupported characters which will be renamed to x1, x2, x3, x4, y1, y2, y3, y4 in the SavedModel.\n"
          ]
        },
        {
          "output_type": "stream",
          "name": "stdout",
          "text": [
            "\b\b\b\b\b\b\b\b\b\b\b\b\b\b\b\b\b\b\b\b\b\b\b\b\b\b\b\b\b\b\b\b\b\b\b\b\b\b\b\b\b\b\b\b\b\b\b\b\b\b\b\b\b\b\b\b\b\b\b\b\b\b\b\b\b\b\b\b\b\b\b\b\b\b\b\b\b\b\b\b\b\b\b\b\b\b\b\b\b\b\b\b\b\b\b\b\b\b\b\b\b\b\b\b\b\b\b\b\b\b\b\b\b\b\b\b\b\b\b\b\b\b\b\b\b\b\b\b\b\b\b\b\b\b\b\b\b\b\b\b\b\b\b\b\b\b\b\b\b\b\b\b\b\b\b\b\b\b\b\b\b\b\b\b\b\b\b\b\b\b\b\b\b\b\b\b\b\b\b\b\b\b\b\b\b\b\b\b\b\b\b\b\b\b\b\b\b\b\b\b\b\b\b\b\b\b\r236/236 [==============================] - 3s 11ms/step - loss: 60.7503 - xv_output_loss: 30.3081 - yv_output_loss: 30.4422 - xv_output_root_mean_squared_error: 5.5053 - yv_output_root_mean_squared_error: 5.5174 - val_loss: 59.6008 - val_xv_output_loss: 29.8311 - val_yv_output_loss: 29.7697 - val_xv_output_root_mean_squared_error: 5.4618 - val_yv_output_root_mean_squared_error: 5.4562\n",
            "Epoch 29/100\n",
            "232/236 [============================>.] - ETA: 0s - loss: 60.6865 - xv_output_loss: 30.2792 - yv_output_loss: 30.4073 - xv_output_root_mean_squared_error: 5.5027 - yv_output_root_mean_squared_error: 5.5143"
          ]
        },
        {
          "output_type": "stream",
          "name": "stderr",
          "text": [
            "WARNING:absl:Function `_wrapped_model` contains input name(s) X1, X2, X3, X4, Y1, Y2, Y3, Y4 with unsupported characters which will be renamed to x1, x2, x3, x4, y1, y2, y3, y4 in the SavedModel.\n"
          ]
        },
        {
          "output_type": "stream",
          "name": "stdout",
          "text": [
            "\b\b\b\b\b\b\b\b\b\b\b\b\b\b\b\b\b\b\b\b\b\b\b\b\b\b\b\b\b\b\b\b\b\b\b\b\b\b\b\b\b\b\b\b\b\b\b\b\b\b\b\b\b\b\b\b\b\b\b\b\b\b\b\b\b\b\b\b\b\b\b\b\b\b\b\b\b\b\b\b\b\b\b\b\b\b\b\b\b\b\b\b\b\b\b\b\b\b\b\b\b\b\b\b\b\b\b\b\b\b\b\b\b\b\b\b\b\b\b\b\b\b\b\b\b\b\b\b\b\b\b\b\b\b\b\b\b\b\b\b\b\b\b\b\b\b\b\b\b\b\b\b\b\b\b\b\b\b\b\b\b\b\b\b\b\b\b\b\b\b\b\b\b\b\b\b\b\b\b\b\b\b\b\b\b\b\b\b\b\b\b\b\b\b\b\b\b\b\b\b\b\b\b\b\b\b\r236/236 [==============================] - 2s 9ms/step - loss: 60.7472 - xv_output_loss: 30.3068 - yv_output_loss: 30.4405 - xv_output_root_mean_squared_error: 5.5052 - yv_output_root_mean_squared_error: 5.5173 - val_loss: 59.5988 - val_xv_output_loss: 29.8293 - val_yv_output_loss: 29.7696 - val_xv_output_root_mean_squared_error: 5.4616 - val_yv_output_root_mean_squared_error: 5.4562\n",
            "Epoch 30/100\n",
            "226/236 [===========================>..] - ETA: 0s - loss: 60.6979 - xv_output_loss: 30.2839 - yv_output_loss: 30.4140 - xv_output_root_mean_squared_error: 5.5031 - yv_output_root_mean_squared_error: 5.5149"
          ]
        },
        {
          "output_type": "stream",
          "name": "stderr",
          "text": [
            "WARNING:absl:Function `_wrapped_model` contains input name(s) X1, X2, X3, X4, Y1, Y2, Y3, Y4 with unsupported characters which will be renamed to x1, x2, x3, x4, y1, y2, y3, y4 in the SavedModel.\n"
          ]
        },
        {
          "output_type": "stream",
          "name": "stdout",
          "text": [
            "\b\b\b\b\b\b\b\b\b\b\b\b\b\b\b\b\b\b\b\b\b\b\b\b\b\b\b\b\b\b\b\b\b\b\b\b\b\b\b\b\b\b\b\b\b\b\b\b\b\b\b\b\b\b\b\b\b\b\b\b\b\b\b\b\b\b\b\b\b\b\b\b\b\b\b\b\b\b\b\b\b\b\b\b\b\b\b\b\b\b\b\b\b\b\b\b\b\b\b\b\b\b\b\b\b\b\b\b\b\b\b\b\b\b\b\b\b\b\b\b\b\b\b\b\b\b\b\b\b\b\b\b\b\b\b\b\b\b\b\b\b\b\b\b\b\b\b\b\b\b\b\b\b\b\b\b\b\b\b\b\b\b\b\b\b\b\b\b\b\b\b\b\b\b\b\b\b\b\b\b\b\b\b\b\b\b\b\b\b\b\b\b\b\b\b\b\b\b\b\b\b\b\b\b\b\b\r236/236 [==============================] - 2s 9ms/step - loss: 60.7458 - xv_output_loss: 30.3059 - yv_output_loss: 30.4399 - xv_output_root_mean_squared_error: 5.5051 - yv_output_root_mean_squared_error: 5.5172 - val_loss: 59.6017 - val_xv_output_loss: 29.8371 - val_yv_output_loss: 29.7646 - val_xv_output_root_mean_squared_error: 5.4623 - val_yv_output_root_mean_squared_error: 5.4557\n",
            "Epoch 31/100\n",
            "232/236 [============================>.] - ETA: 0s - loss: 60.6815 - xv_output_loss: 30.2771 - yv_output_loss: 30.4044 - xv_output_root_mean_squared_error: 5.5025 - yv_output_root_mean_squared_error: 5.5140"
          ]
        },
        {
          "output_type": "stream",
          "name": "stderr",
          "text": [
            "WARNING:absl:Function `_wrapped_model` contains input name(s) X1, X2, X3, X4, Y1, Y2, Y3, Y4 with unsupported characters which will be renamed to x1, x2, x3, x4, y1, y2, y3, y4 in the SavedModel.\n"
          ]
        },
        {
          "output_type": "stream",
          "name": "stdout",
          "text": [
            "\b\b\b\b\b\b\b\b\b\b\b\b\b\b\b\b\b\b\b\b\b\b\b\b\b\b\b\b\b\b\b\b\b\b\b\b\b\b\b\b\b\b\b\b\b\b\b\b\b\b\b\b\b\b\b\b\b\b\b\b\b\b\b\b\b\b\b\b\b\b\b\b\b\b\b\b\b\b\b\b\b\b\b\b\b\b\b\b\b\b\b\b\b\b\b\b\b\b\b\b\b\b\b\b\b\b\b\b\b\b\b\b\b\b\b\b\b\b\b\b\b\b\b\b\b\b\b\b\b\b\b\b\b\b\b\b\b\b\b\b\b\b\b\b\b\b\b\b\b\b\b\b\b\b\b\b\b\b\b\b\b\b\b\b\b\b\b\b\b\b\b\b\b\b\b\b\b\b\b\b\b\b\b\b\b\b\b\b\b\b\b\b\b\b\b\b\b\b\b\b\b\b\b\b\b\b\r236/236 [==============================] - 2s 9ms/step - loss: 60.7418 - xv_output_loss: 30.3045 - yv_output_loss: 30.4373 - xv_output_root_mean_squared_error: 5.5050 - yv_output_root_mean_squared_error: 5.5170 - val_loss: 59.6009 - val_xv_output_loss: 29.8353 - val_yv_output_loss: 29.7656 - val_xv_output_root_mean_squared_error: 5.4622 - val_yv_output_root_mean_squared_error: 5.4558\n",
            "Epoch 32/100\n",
            "230/236 [============================>.] - ETA: 0s - loss: 60.6488 - xv_output_loss: 30.2609 - yv_output_loss: 30.3878 - xv_output_root_mean_squared_error: 5.5010 - yv_output_root_mean_squared_error: 5.5125"
          ]
        },
        {
          "output_type": "stream",
          "name": "stderr",
          "text": [
            "WARNING:absl:Function `_wrapped_model` contains input name(s) X1, X2, X3, X4, Y1, Y2, Y3, Y4 with unsupported characters which will be renamed to x1, x2, x3, x4, y1, y2, y3, y4 in the SavedModel.\n"
          ]
        },
        {
          "output_type": "stream",
          "name": "stdout",
          "text": [
            "\b\b\b\b\b\b\b\b\b\b\b\b\b\b\b\b\b\b\b\b\b\b\b\b\b\b\b\b\b\b\b\b\b\b\b\b\b\b\b\b\b\b\b\b\b\b\b\b\b\b\b\b\b\b\b\b\b\b\b\b\b\b\b\b\b\b\b\b\b\b\b\b\b\b\b\b\b\b\b\b\b\b\b\b\b\b\b\b\b\b\b\b\b\b\b\b\b\b\b\b\b\b\b\b\b\b\b\b\b\b\b\b\b\b\b\b\b\b\b\b\b\b\b\b\b\b\b\b\b\b\b\b\b\b\b\b\b\b\b\b\b\b\b\b\b\b\b\b\b\b\b\b\b\b\b\b\b\b\b\b\b\b\b\b\b\b\b\b\b\b\b\b\b\b\b\b\b\b\b\b\b\b\b\b\b\b\b\b\b\b\b\b\b\b\b\b\b\b\b\b\b\b\b\b\b\b\r236/236 [==============================] - 3s 11ms/step - loss: 60.7402 - xv_output_loss: 30.3043 - yv_output_loss: 30.4359 - xv_output_root_mean_squared_error: 5.5049 - yv_output_root_mean_squared_error: 5.5169 - val_loss: 59.5965 - val_xv_output_loss: 29.8349 - val_yv_output_loss: 29.7616 - val_xv_output_root_mean_squared_error: 5.4621 - val_yv_output_root_mean_squared_error: 5.4554\n",
            "Epoch 33/100\n",
            "232/236 [============================>.] - ETA: 0s - loss: 60.6759 - xv_output_loss: 30.2745 - yv_output_loss: 30.4014 - xv_output_root_mean_squared_error: 5.5022 - yv_output_root_mean_squared_error: 5.5137"
          ]
        },
        {
          "output_type": "stream",
          "name": "stderr",
          "text": [
            "WARNING:absl:Function `_wrapped_model` contains input name(s) X1, X2, X3, X4, Y1, Y2, Y3, Y4 with unsupported characters which will be renamed to x1, x2, x3, x4, y1, y2, y3, y4 in the SavedModel.\n"
          ]
        },
        {
          "output_type": "stream",
          "name": "stdout",
          "text": [
            "\b\b\b\b\b\b\b\b\b\b\b\b\b\b\b\b\b\b\b\b\b\b\b\b\b\b\b\b\b\b\b\b\b\b\b\b\b\b\b\b\b\b\b\b\b\b\b\b\b\b\b\b\b\b\b\b\b\b\b\b\b\b\b\b\b\b\b\b\b\b\b\b\b\b\b\b\b\b\b\b\b\b\b\b\b\b\b\b\b\b\b\b\b\b\b\b\b\b\b\b\b\b\b\b\b\b\b\b\b\b\b\b\b\b\b\b\b\b\b\b\b\b\b\b\b\b\b\b\b\b\b\b\b\b\b\b\b\b\b\b\b\b\b\b\b\b\b\b\b\b\b\b\b\b\b\b\b\b\b\b\b\b\b\b\b\b\b\b\b\b\b\b\b\b\b\b\b\b\b\b\b\b\b\b\b\b\b\b\b\b\b\b\b\b\b\b\b\b\b\b\b\b\b\b\b\b\r236/236 [==============================] - 2s 9ms/step - loss: 60.7358 - xv_output_loss: 30.3016 - yv_output_loss: 30.4342 - xv_output_root_mean_squared_error: 5.5047 - yv_output_root_mean_squared_error: 5.5167 - val_loss: 59.5958 - val_xv_output_loss: 29.8342 - val_yv_output_loss: 29.7616 - val_xv_output_root_mean_squared_error: 5.4621 - val_yv_output_root_mean_squared_error: 5.4554\n",
            "Epoch 34/100\n",
            "236/236 [==============================] - ETA: 0s - loss: 60.7343 - xv_output_loss: 30.3017 - yv_output_loss: 30.4325 - xv_output_root_mean_squared_error: 5.5047 - yv_output_root_mean_squared_error: 5.5166"
          ]
        },
        {
          "output_type": "stream",
          "name": "stderr",
          "text": [
            "WARNING:absl:Function `_wrapped_model` contains input name(s) X1, X2, X3, X4, Y1, Y2, Y3, Y4 with unsupported characters which will be renamed to x1, x2, x3, x4, y1, y2, y3, y4 in the SavedModel.\n"
          ]
        },
        {
          "output_type": "stream",
          "name": "stdout",
          "text": [
            "\b\b\b\b\b\b\b\b\b\b\b\b\b\b\b\b\b\b\b\b\b\b\b\b\b\b\b\b\b\b\b\b\b\b\b\b\b\b\b\b\b\b\b\b\b\b\b\b\b\b\b\b\b\b\b\b\b\b\b\b\b\b\b\b\b\b\b\b\b\b\b\b\b\b\b\b\b\b\b\b\b\b\b\b\b\b\b\b\b\b\b\b\b\b\b\b\b\b\b\b\b\b\b\b\b\b\b\b\b\b\b\b\b\b\b\b\b\b\b\b\b\b\b\b\b\b\b\b\b\b\b\b\b\b\b\b\b\b\b\b\b\b\b\b\b\b\b\b\b\b\b\b\b\b\b\b\b\b\b\b\b\b\b\b\b\b\b\b\b\b\b\b\b\b\b\b\b\b\b\b\b\b\b\b\b\b\b\b\b\b\b\b\b\b\b\b\b\b\b\b\b\b\b\b\b\b\r236/236 [==============================] - 2s 9ms/step - loss: 60.7343 - xv_output_loss: 30.3017 - yv_output_loss: 30.4325 - xv_output_root_mean_squared_error: 5.5047 - yv_output_root_mean_squared_error: 5.5166 - val_loss: 59.5969 - val_xv_output_loss: 29.8312 - val_yv_output_loss: 29.7657 - val_xv_output_root_mean_squared_error: 5.4618 - val_yv_output_root_mean_squared_error: 5.4558\n",
            "Epoch 35/100\n",
            "226/236 [===========================>..] - ETA: 0s - loss: 60.6928 - xv_output_loss: 30.2779 - yv_output_loss: 30.4149 - xv_output_root_mean_squared_error: 5.5025 - yv_output_root_mean_squared_error: 5.5150"
          ]
        },
        {
          "output_type": "stream",
          "name": "stderr",
          "text": [
            "WARNING:absl:Function `_wrapped_model` contains input name(s) X1, X2, X3, X4, Y1, Y2, Y3, Y4 with unsupported characters which will be renamed to x1, x2, x3, x4, y1, y2, y3, y4 in the SavedModel.\n"
          ]
        },
        {
          "output_type": "stream",
          "name": "stdout",
          "text": [
            "\b\b\b\b\b\b\b\b\b\b\b\b\b\b\b\b\b\b\b\b\b\b\b\b\b\b\b\b\b\b\b\b\b\b\b\b\b\b\b\b\b\b\b\b\b\b\b\b\b\b\b\b\b\b\b\b\b\b\b\b\b\b\b\b\b\b\b\b\b\b\b\b\b\b\b\b\b\b\b\b\b\b\b\b\b\b\b\b\b\b\b\b\b\b\b\b\b\b\b\b\b\b\b\b\b\b\b\b\b\b\b\b\b\b\b\b\b\b\b\b\b\b\b\b\b\b\b\b\b\b\b\b\b\b\b\b\b\b\b\b\b\b\b\b\b\b\b\b\b\b\b\b\b\b\b\b\b\b\b\b\b\b\b\b\b\b\b\b\b\b\b\b\b\b\b\b\b\b\b\b\b\b\b\b\b\b\b\b\b\b\b\b\b\b\b\b\b\b\b\b\b\b\b\b\b\b\r236/236 [==============================] - 2s 9ms/step - loss: 60.7397 - xv_output_loss: 30.2987 - yv_output_loss: 30.4410 - xv_output_root_mean_squared_error: 5.5044 - yv_output_root_mean_squared_error: 5.5173 - val_loss: 59.5958 - val_xv_output_loss: 29.8307 - val_yv_output_loss: 29.7650 - val_xv_output_root_mean_squared_error: 5.4618 - val_yv_output_root_mean_squared_error: 5.4557\n",
            "Epoch 36/100\n",
            "227/236 [===========================>..] - ETA: 0s - loss: 60.6614 - xv_output_loss: 30.2686 - yv_output_loss: 30.3928 - xv_output_root_mean_squared_error: 5.5017 - yv_output_root_mean_squared_error: 5.5130"
          ]
        },
        {
          "output_type": "stream",
          "name": "stderr",
          "text": [
            "WARNING:absl:Function `_wrapped_model` contains input name(s) X1, X2, X3, X4, Y1, Y2, Y3, Y4 with unsupported characters which will be renamed to x1, x2, x3, x4, y1, y2, y3, y4 in the SavedModel.\n"
          ]
        },
        {
          "output_type": "stream",
          "name": "stdout",
          "text": [
            "\b\b\b\b\b\b\b\b\b\b\b\b\b\b\b\b\b\b\b\b\b\b\b\b\b\b\b\b\b\b\b\b\b\b\b\b\b\b\b\b\b\b\b\b\b\b\b\b\b\b\b\b\b\b\b\b\b\b\b\b\b\b\b\b\b\b\b\b\b\b\b\b\b\b\b\b\b\b\b\b\b\b\b\b\b\b\b\b\b\b\b\b\b\b\b\b\b\b\b\b\b\b\b\b\b\b\b\b\b\b\b\b\b\b\b\b\b\b\b\b\b\b\b\b\b\b\b\b\b\b\b\b\b\b\b\b\b\b\b\b\b\b\b\b\b\b\b\b\b\b\b\b\b\b\b\b\b\b\b\b\b\b\b\b\b\b\b\b\b\b\b\b\b\b\b\b\b\b\b\b\b\b\b\b\b\b\b\b\b\b\b\b\b\b\b\b\b\b\b\b\b\b\b\b\b\b\r236/236 [==============================] - 2s 10ms/step - loss: 60.7251 - xv_output_loss: 30.2975 - yv_output_loss: 30.4276 - xv_output_root_mean_squared_error: 5.5043 - yv_output_root_mean_squared_error: 5.5161 - val_loss: 59.5988 - val_xv_output_loss: 29.8309 - val_yv_output_loss: 29.7679 - val_xv_output_root_mean_squared_error: 5.4618 - val_yv_output_root_mean_squared_error: 5.4560\n",
            "Epoch 37/100\n",
            "236/236 [==============================] - ETA: 0s - loss: 60.7228 - xv_output_loss: 30.2979 - yv_output_loss: 30.4249 - xv_output_root_mean_squared_error: 5.5044 - yv_output_root_mean_squared_error: 5.5159"
          ]
        },
        {
          "output_type": "stream",
          "name": "stderr",
          "text": [
            "WARNING:absl:Function `_wrapped_model` contains input name(s) X1, X2, X3, X4, Y1, Y2, Y3, Y4 with unsupported characters which will be renamed to x1, x2, x3, x4, y1, y2, y3, y4 in the SavedModel.\n"
          ]
        },
        {
          "output_type": "stream",
          "name": "stdout",
          "text": [
            "\b\b\b\b\b\b\b\b\b\b\b\b\b\b\b\b\b\b\b\b\b\b\b\b\b\b\b\b\b\b\b\b\b\b\b\b\b\b\b\b\b\b\b\b\b\b\b\b\b\b\b\b\b\b\b\b\b\b\b\b\b\b\b\b\b\b\b\b\b\b\b\b\b\b\b\b\b\b\b\b\b\b\b\b\b\b\b\b\b\b\b\b\b\b\b\b\b\b\b\b\b\b\b\b\b\b\b\b\b\b\b\b\b\b\b\b\b\b\b\b\b\b\b\b\b\b\b\b\b\b\b\b\b\b\b\b\b\b\b\b\b\b\b\b\b\b\b\b\b\b\b\b\b\b\b\b\b\b\b\b\b\b\b\b\b\b\b\b\b\b\b\b\b\b\b\b\b\b\b\b\b\b\b\b\b\b\b\b\b\b\b\b\b\b\b\b\b\b\b\b\b\b\b\b\b\b\r236/236 [==============================] - 3s 11ms/step - loss: 60.7228 - xv_output_loss: 30.2979 - yv_output_loss: 30.4249 - xv_output_root_mean_squared_error: 5.5044 - yv_output_root_mean_squared_error: 5.5159 - val_loss: 59.5970 - val_xv_output_loss: 29.8298 - val_yv_output_loss: 29.7671 - val_xv_output_root_mean_squared_error: 5.4617 - val_yv_output_root_mean_squared_error: 5.4559\n",
            "Epoch 38/100\n",
            "226/236 [===========================>..] - ETA: 0s - loss: 60.6751 - xv_output_loss: 30.2791 - yv_output_loss: 30.3959 - xv_output_root_mean_squared_error: 5.5026 - yv_output_root_mean_squared_error: 5.5132"
          ]
        },
        {
          "output_type": "stream",
          "name": "stderr",
          "text": [
            "WARNING:absl:Function `_wrapped_model` contains input name(s) X1, X2, X3, X4, Y1, Y2, Y3, Y4 with unsupported characters which will be renamed to x1, x2, x3, x4, y1, y2, y3, y4 in the SavedModel.\n"
          ]
        },
        {
          "output_type": "stream",
          "name": "stdout",
          "text": [
            "\b\b\b\b\b\b\b\b\b\b\b\b\b\b\b\b\b\b\b\b\b\b\b\b\b\b\b\b\b\b\b\b\b\b\b\b\b\b\b\b\b\b\b\b\b\b\b\b\b\b\b\b\b\b\b\b\b\b\b\b\b\b\b\b\b\b\b\b\b\b\b\b\b\b\b\b\b\b\b\b\b\b\b\b\b\b\b\b\b\b\b\b\b\b\b\b\b\b\b\b\b\b\b\b\b\b\b\b\b\b\b\b\b\b\b\b\b\b\b\b\b\b\b\b\b\b\b\b\b\b\b\b\b\b\b\b\b\b\b\b\b\b\b\b\b\b\b\b\b\b\b\b\b\b\b\b\b\b\b\b\b\b\b\b\b\b\b\b\b\b\b\b\b\b\b\b\b\b\b\b\b\b\b\b\b\b\b\b\b\b\b\b\b\b\b\b\b\b\b\b\b\b\b\b\b\b\r236/236 [==============================] - 2s 10ms/step - loss: 60.7221 - xv_output_loss: 30.2998 - yv_output_loss: 30.4224 - xv_output_root_mean_squared_error: 5.5045 - yv_output_root_mean_squared_error: 5.5156 - val_loss: 59.5947 - val_xv_output_loss: 29.8272 - val_yv_output_loss: 29.7675 - val_xv_output_root_mean_squared_error: 5.4614 - val_yv_output_root_mean_squared_error: 5.4560\n",
            "Epoch 39/100\n",
            "232/236 [============================>.] - ETA: 0s - loss: 60.6585 - xv_output_loss: 30.2699 - yv_output_loss: 30.3886 - xv_output_root_mean_squared_error: 5.5018 - yv_output_root_mean_squared_error: 5.5126"
          ]
        },
        {
          "output_type": "stream",
          "name": "stderr",
          "text": [
            "WARNING:absl:Function `_wrapped_model` contains input name(s) X1, X2, X3, X4, Y1, Y2, Y3, Y4 with unsupported characters which will be renamed to x1, x2, x3, x4, y1, y2, y3, y4 in the SavedModel.\n"
          ]
        },
        {
          "output_type": "stream",
          "name": "stdout",
          "text": [
            "\b\b\b\b\b\b\b\b\b\b\b\b\b\b\b\b\b\b\b\b\b\b\b\b\b\b\b\b\b\b\b\b\b\b\b\b\b\b\b\b\b\b\b\b\b\b\b\b\b\b\b\b\b\b\b\b\b\b\b\b\b\b\b\b\b\b\b\b\b\b\b\b\b\b\b\b\b\b\b\b\b\b\b\b\b\b\b\b\b\b\b\b\b\b\b\b\b\b\b\b\b\b\b\b\b\b\b\b\b\b\b\b\b\b\b\b\b\b\b\b\b\b\b\b\b\b\b\b\b\b\b\b\b\b\b\b\b\b\b\b\b\b\b\b\b\b\b\b\b\b\b\b\b\b\b\b\b\b\b\b\b\b\b\b\b\b\b\b\b\b\b\b\b\b\b\b\b\b\b\b\b\b\b\b\b\b\b\b\b\b\b\b\b\b\b\b\b\b\b\b\b\b\b\b\b\b\r236/236 [==============================] - 2s 9ms/step - loss: 60.7174 - xv_output_loss: 30.2964 - yv_output_loss: 30.4210 - xv_output_root_mean_squared_error: 5.5042 - yv_output_root_mean_squared_error: 5.5155 - val_loss: 59.5908 - val_xv_output_loss: 29.8279 - val_yv_output_loss: 29.7629 - val_xv_output_root_mean_squared_error: 5.4615 - val_yv_output_root_mean_squared_error: 5.4555\n",
            "Epoch 40/100\n",
            "224/236 [===========================>..] - ETA: 0s - loss: 60.6164 - xv_output_loss: 30.2488 - yv_output_loss: 30.3676 - xv_output_root_mean_squared_error: 5.4999 - yv_output_root_mean_squared_error: 5.5107"
          ]
        },
        {
          "output_type": "stream",
          "name": "stderr",
          "text": [
            "WARNING:absl:Function `_wrapped_model` contains input name(s) X1, X2, X3, X4, Y1, Y2, Y3, Y4 with unsupported characters which will be renamed to x1, x2, x3, x4, y1, y2, y3, y4 in the SavedModel.\n"
          ]
        },
        {
          "output_type": "stream",
          "name": "stdout",
          "text": [
            "\b\b\b\b\b\b\b\b\b\b\b\b\b\b\b\b\b\b\b\b\b\b\b\b\b\b\b\b\b\b\b\b\b\b\b\b\b\b\b\b\b\b\b\b\b\b\b\b\b\b\b\b\b\b\b\b\b\b\b\b\b\b\b\b\b\b\b\b\b\b\b\b\b\b\b\b\b\b\b\b\b\b\b\b\b\b\b\b\b\b\b\b\b\b\b\b\b\b\b\b\b\b\b\b\b\b\b\b\b\b\b\b\b\b\b\b\b\b\b\b\b\b\b\b\b\b\b\b\b\b\b\b\b\b\b\b\b\b\b\b\b\b\b\b\b\b\b\b\b\b\b\b\b\b\b\b\b\b\b\b\b\b\b\b\b\b\b\b\b\b\b\b\b\b\b\b\b\b\b\b\b\b\b\b\b\b\b\b\b\b\b\b\b\b\b\b\b\b\b\b\b\b\b\b\b\b\r236/236 [==============================] - 2s 9ms/step - loss: 60.7152 - xv_output_loss: 30.2967 - yv_output_loss: 30.4185 - xv_output_root_mean_squared_error: 5.5042 - yv_output_root_mean_squared_error: 5.5153 - val_loss: 59.5900 - val_xv_output_loss: 29.8269 - val_yv_output_loss: 29.7631 - val_xv_output_root_mean_squared_error: 5.4614 - val_yv_output_root_mean_squared_error: 5.4556\n",
            "Epoch 41/100\n",
            "236/236 [==============================] - ETA: 0s - loss: 60.7151 - xv_output_loss: 30.2972 - yv_output_loss: 30.4178 - xv_output_root_mean_squared_error: 5.5043 - yv_output_root_mean_squared_error: 5.5152"
          ]
        },
        {
          "output_type": "stream",
          "name": "stderr",
          "text": [
            "WARNING:absl:Function `_wrapped_model` contains input name(s) X1, X2, X3, X4, Y1, Y2, Y3, Y4 with unsupported characters which will be renamed to x1, x2, x3, x4, y1, y2, y3, y4 in the SavedModel.\n"
          ]
        },
        {
          "output_type": "stream",
          "name": "stdout",
          "text": [
            "\b\b\b\b\b\b\b\b\b\b\b\b\b\b\b\b\b\b\b\b\b\b\b\b\b\b\b\b\b\b\b\b\b\b\b\b\b\b\b\b\b\b\b\b\b\b\b\b\b\b\b\b\b\b\b\b\b\b\b\b\b\b\b\b\b\b\b\b\b\b\b\b\b\b\b\b\b\b\b\b\b\b\b\b\b\b\b\b\b\b\b\b\b\b\b\b\b\b\b\b\b\b\b\b\b\b\b\b\b\b\b\b\b\b\b\b\b\b\b\b\b\b\b\b\b\b\b\b\b\b\b\b\b\b\b\b\b\b\b\b\b\b\b\b\b\b\b\b\b\b\b\b\b\b\b\b\b\b\b\b\b\b\b\b\b\b\b\b\b\b\b\b\b\b\b\b\b\b\b\b\b\b\b\b\b\b\b\b\b\b\b\b\b\b\b\b\b\b\b\b\b\b\b\b\b\b\r236/236 [==============================] - 2s 9ms/step - loss: 60.7151 - xv_output_loss: 30.2972 - yv_output_loss: 30.4178 - xv_output_root_mean_squared_error: 5.5043 - yv_output_root_mean_squared_error: 5.5152 - val_loss: 59.5932 - val_xv_output_loss: 29.8272 - val_yv_output_loss: 29.7660 - val_xv_output_root_mean_squared_error: 5.4614 - val_yv_output_root_mean_squared_error: 5.4558\n",
            "Epoch 42/100\n",
            "235/236 [============================>.] - ETA: 0s - loss: 60.6828 - xv_output_loss: 30.2832 - yv_output_loss: 30.3997 - xv_output_root_mean_squared_error: 5.5030 - yv_output_root_mean_squared_error: 5.5136"
          ]
        },
        {
          "output_type": "stream",
          "name": "stderr",
          "text": [
            "WARNING:absl:Function `_wrapped_model` contains input name(s) X1, X2, X3, X4, Y1, Y2, Y3, Y4 with unsupported characters which will be renamed to x1, x2, x3, x4, y1, y2, y3, y4 in the SavedModel.\n"
          ]
        },
        {
          "output_type": "stream",
          "name": "stdout",
          "text": [
            "\b\b\b\b\b\b\b\b\b\b\b\b\b\b\b\b\b\b\b\b\b\b\b\b\b\b\b\b\b\b\b\b\b\b\b\b\b\b\b\b\b\b\b\b\b\b\b\b\b\b\b\b\b\b\b\b\b\b\b\b\b\b\b\b\b\b\b\b\b\b\b\b\b\b\b\b\b\b\b\b\b\b\b\b\b\b\b\b\b\b\b\b\b\b\b\b\b\b\b\b\b\b\b\b\b\b\b\b\b\b\b\b\b\b\b\b\b\b\b\b\b\b\b\b\b\b\b\b\b\b\b\b\b\b\b\b\b\b\b\b\b\b\b\b\b\b\b\b\b\b\b\b\b\b\b\b\b\b\b\b\b\b\b\b\b\b\b\b\b\b\b\b\b\b\b\b\b\b\b\b\b\b\b\b\b\b\b\b\b\b\b\b\b\b\b\b\b\b\b\b\b\b\b\b\b\b\r236/236 [==============================] - 2s 9ms/step - loss: 60.7102 - xv_output_loss: 30.2965 - yv_output_loss: 30.4136 - xv_output_root_mean_squared_error: 5.5042 - yv_output_root_mean_squared_error: 5.5149 - val_loss: 59.5862 - val_xv_output_loss: 29.8277 - val_yv_output_loss: 29.7586 - val_xv_output_root_mean_squared_error: 5.4615 - val_yv_output_root_mean_squared_error: 5.4551\n",
            "Epoch 43/100\n",
            "233/236 [============================>.] - ETA: 0s - loss: 60.6590 - xv_output_loss: 30.2736 - yv_output_loss: 30.3854 - xv_output_root_mean_squared_error: 5.5021 - yv_output_root_mean_squared_error: 5.5123"
          ]
        },
        {
          "output_type": "stream",
          "name": "stderr",
          "text": [
            "WARNING:absl:Function `_wrapped_model` contains input name(s) X1, X2, X3, X4, Y1, Y2, Y3, Y4 with unsupported characters which will be renamed to x1, x2, x3, x4, y1, y2, y3, y4 in the SavedModel.\n"
          ]
        },
        {
          "output_type": "stream",
          "name": "stdout",
          "text": [
            "\b\b\b\b\b\b\b\b\b\b\b\b\b\b\b\b\b\b\b\b\b\b\b\b\b\b\b\b\b\b\b\b\b\b\b\b\b\b\b\b\b\b\b\b\b\b\b\b\b\b\b\b\b\b\b\b\b\b\b\b\b\b\b\b\b\b\b\b\b\b\b\b\b\b\b\b\b\b\b\b\b\b\b\b\b\b\b\b\b\b\b\b\b\b\b\b\b\b\b\b\b\b\b\b\b\b\b\b\b\b\b\b\b\b\b\b\b\b\b\b\b\b\b\b\b\b\b\b\b\b\b\b\b\b\b\b\b\b\b\b\b\b\b\b\b\b\b\b\b\b\b\b\b\b\b\b\b\b\b\b\b\b\b\b\b\b\b\b\b\b\b\b\b\b\b\b\b\b\b\b\b\b\b\b\b\b\b\b\b\b\b\b\b\b\b\b\b\b\b\b\b\b\b\b\b\b\r236/236 [==============================] - 3s 11ms/step - loss: 60.7074 - xv_output_loss: 30.2950 - yv_output_loss: 30.4124 - xv_output_root_mean_squared_error: 5.5041 - yv_output_root_mean_squared_error: 5.5147 - val_loss: 59.5854 - val_xv_output_loss: 29.8259 - val_yv_output_loss: 29.7594 - val_xv_output_root_mean_squared_error: 5.4613 - val_yv_output_root_mean_squared_error: 5.4552\n",
            "Epoch 44/100\n",
            "225/236 [===========================>..] - ETA: 0s - loss: 60.6176 - xv_output_loss: 30.2531 - yv_output_loss: 30.3646 - xv_output_root_mean_squared_error: 5.5003 - yv_output_root_mean_squared_error: 5.5104"
          ]
        },
        {
          "output_type": "stream",
          "name": "stderr",
          "text": [
            "WARNING:absl:Function `_wrapped_model` contains input name(s) X1, X2, X3, X4, Y1, Y2, Y3, Y4 with unsupported characters which will be renamed to x1, x2, x3, x4, y1, y2, y3, y4 in the SavedModel.\n"
          ]
        },
        {
          "output_type": "stream",
          "name": "stdout",
          "text": [
            "\b\b\b\b\b\b\b\b\b\b\b\b\b\b\b\b\b\b\b\b\b\b\b\b\b\b\b\b\b\b\b\b\b\b\b\b\b\b\b\b\b\b\b\b\b\b\b\b\b\b\b\b\b\b\b\b\b\b\b\b\b\b\b\b\b\b\b\b\b\b\b\b\b\b\b\b\b\b\b\b\b\b\b\b\b\b\b\b\b\b\b\b\b\b\b\b\b\b\b\b\b\b\b\b\b\b\b\b\b\b\b\b\b\b\b\b\b\b\b\b\b\b\b\b\b\b\b\b\b\b\b\b\b\b\b\b\b\b\b\b\b\b\b\b\b\b\b\b\b\b\b\b\b\b\b\b\b\b\b\b\b\b\b\b\b\b\b\b\b\b\b\b\b\b\b\b\b\b\b\b\b\b\b\b\b\b\b\b\b\b\b\b\b\b\b\b\b\b\b\b\b\b\b\b\b\b\r236/236 [==============================] - 2s 9ms/step - loss: 60.7052 - xv_output_loss: 30.2949 - yv_output_loss: 30.4104 - xv_output_root_mean_squared_error: 5.5041 - yv_output_root_mean_squared_error: 5.5146 - val_loss: 59.5844 - val_xv_output_loss: 29.8276 - val_yv_output_loss: 29.7569 - val_xv_output_root_mean_squared_error: 5.4615 - val_yv_output_root_mean_squared_error: 5.4550\n",
            "Epoch 45/100\n",
            "228/236 [===========================>..] - ETA: 0s - loss: 60.6013 - xv_output_loss: 30.2469 - yv_output_loss: 30.3544 - xv_output_root_mean_squared_error: 5.4997 - yv_output_root_mean_squared_error: 5.5095"
          ]
        },
        {
          "output_type": "stream",
          "name": "stderr",
          "text": [
            "WARNING:absl:Function `_wrapped_model` contains input name(s) X1, X2, X3, X4, Y1, Y2, Y3, Y4 with unsupported characters which will be renamed to x1, x2, x3, x4, y1, y2, y3, y4 in the SavedModel.\n"
          ]
        },
        {
          "output_type": "stream",
          "name": "stdout",
          "text": [
            "\b\b\b\b\b\b\b\b\b\b\b\b\b\b\b\b\b\b\b\b\b\b\b\b\b\b\b\b\b\b\b\b\b\b\b\b\b\b\b\b\b\b\b\b\b\b\b\b\b\b\b\b\b\b\b\b\b\b\b\b\b\b\b\b\b\b\b\b\b\b\b\b\b\b\b\b\b\b\b\b\b\b\b\b\b\b\b\b\b\b\b\b\b\b\b\b\b\b\b\b\b\b\b\b\b\b\b\b\b\b\b\b\b\b\b\b\b\b\b\b\b\b\b\b\b\b\b\b\b\b\b\b\b\b\b\b\b\b\b\b\b\b\b\b\b\b\b\b\b\b\b\b\b\b\b\b\b\b\b\b\b\b\b\b\b\b\b\b\b\b\b\b\b\b\b\b\b\b\b\b\b\b\b\b\b\b\b\b\b\b\b\b\b\b\b\b\b\b\b\b\b\b\b\b\b\b\r236/236 [==============================] - 2s 9ms/step - loss: 60.7034 - xv_output_loss: 30.2955 - yv_output_loss: 30.4080 - xv_output_root_mean_squared_error: 5.5041 - yv_output_root_mean_squared_error: 5.5143 - val_loss: 59.5849 - val_xv_output_loss: 29.8264 - val_yv_output_loss: 29.7585 - val_xv_output_root_mean_squared_error: 5.4614 - val_yv_output_root_mean_squared_error: 5.4551\n",
            "Epoch 46/100\n",
            "229/236 [============================>.] - ETA: 0s - loss: 60.6349 - xv_output_loss: 30.2635 - yv_output_loss: 30.3714 - xv_output_root_mean_squared_error: 5.5012 - yv_output_root_mean_squared_error: 5.5110"
          ]
        },
        {
          "output_type": "stream",
          "name": "stderr",
          "text": [
            "WARNING:absl:Function `_wrapped_model` contains input name(s) X1, X2, X3, X4, Y1, Y2, Y3, Y4 with unsupported characters which will be renamed to x1, x2, x3, x4, y1, y2, y3, y4 in the SavedModel.\n"
          ]
        },
        {
          "output_type": "stream",
          "name": "stdout",
          "text": [
            "\b\b\b\b\b\b\b\b\b\b\b\b\b\b\b\b\b\b\b\b\b\b\b\b\b\b\b\b\b\b\b\b\b\b\b\b\b\b\b\b\b\b\b\b\b\b\b\b\b\b\b\b\b\b\b\b\b\b\b\b\b\b\b\b\b\b\b\b\b\b\b\b\b\b\b\b\b\b\b\b\b\b\b\b\b\b\b\b\b\b\b\b\b\b\b\b\b\b\b\b\b\b\b\b\b\b\b\b\b\b\b\b\b\b\b\b\b\b\b\b\b\b\b\b\b\b\b\b\b\b\b\b\b\b\b\b\b\b\b\b\b\b\b\b\b\b\b\b\b\b\b\b\b\b\b\b\b\b\b\b\b\b\b\b\b\b\b\b\b\b\b\b\b\b\b\b\b\b\b\b\b\b\b\b\b\b\b\b\b\b\b\b\b\b\b\b\b\b\b\b\b\b\b\b\b\b\r236/236 [==============================] - 2s 9ms/step - loss: 60.7012 - xv_output_loss: 30.2943 - yv_output_loss: 30.4069 - xv_output_root_mean_squared_error: 5.5040 - yv_output_root_mean_squared_error: 5.5142 - val_loss: 59.5868 - val_xv_output_loss: 29.8271 - val_yv_output_loss: 29.7597 - val_xv_output_root_mean_squared_error: 5.4614 - val_yv_output_root_mean_squared_error: 5.4552\n",
            "Epoch 47/100\n",
            "229/236 [============================>.] - ETA: 0s - loss: 60.6317 - xv_output_loss: 30.2632 - yv_output_loss: 30.3685 - xv_output_root_mean_squared_error: 5.5012 - yv_output_root_mean_squared_error: 5.5108"
          ]
        },
        {
          "output_type": "stream",
          "name": "stderr",
          "text": [
            "WARNING:absl:Function `_wrapped_model` contains input name(s) X1, X2, X3, X4, Y1, Y2, Y3, Y4 with unsupported characters which will be renamed to x1, x2, x3, x4, y1, y2, y3, y4 in the SavedModel.\n"
          ]
        },
        {
          "output_type": "stream",
          "name": "stdout",
          "text": [
            "\b\b\b\b\b\b\b\b\b\b\b\b\b\b\b\b\b\b\b\b\b\b\b\b\b\b\b\b\b\b\b\b\b\b\b\b\b\b\b\b\b\b\b\b\b\b\b\b\b\b\b\b\b\b\b\b\b\b\b\b\b\b\b\b\b\b\b\b\b\b\b\b\b\b\b\b\b\b\b\b\b\b\b\b\b\b\b\b\b\b\b\b\b\b\b\b\b\b\b\b\b\b\b\b\b\b\b\b\b\b\b\b\b\b\b\b\b\b\b\b\b\b\b\b\b\b\b\b\b\b\b\b\b\b\b\b\b\b\b\b\b\b\b\b\b\b\b\b\b\b\b\b\b\b\b\b\b\b\b\b\b\b\b\b\b\b\b\b\b\b\b\b\b\b\b\b\b\b\b\b\b\b\b\b\b\b\b\b\b\b\b\b\b\b\b\b\b\b\b\b\b\b\b\b\b\b\r236/236 [==============================] - 2s 9ms/step - loss: 60.6981 - xv_output_loss: 30.2940 - yv_output_loss: 30.4040 - xv_output_root_mean_squared_error: 5.5040 - yv_output_root_mean_squared_error: 5.5140 - val_loss: 59.5817 - val_xv_output_loss: 29.8283 - val_yv_output_loss: 29.7534 - val_xv_output_root_mean_squared_error: 5.4615 - val_yv_output_root_mean_squared_error: 5.4547\n",
            "Epoch 48/100\n",
            "231/236 [============================>.] - ETA: 0s - loss: 60.6389 - xv_output_loss: 30.2680 - yv_output_loss: 30.3709 - xv_output_root_mean_squared_error: 5.5016 - yv_output_root_mean_squared_error: 5.5110"
          ]
        },
        {
          "output_type": "stream",
          "name": "stderr",
          "text": [
            "WARNING:absl:Function `_wrapped_model` contains input name(s) X1, X2, X3, X4, Y1, Y2, Y3, Y4 with unsupported characters which will be renamed to x1, x2, x3, x4, y1, y2, y3, y4 in the SavedModel.\n"
          ]
        },
        {
          "output_type": "stream",
          "name": "stdout",
          "text": [
            "\b\b\b\b\b\b\b\b\b\b\b\b\b\b\b\b\b\b\b\b\b\b\b\b\b\b\b\b\b\b\b\b\b\b\b\b\b\b\b\b\b\b\b\b\b\b\b\b\b\b\b\b\b\b\b\b\b\b\b\b\b\b\b\b\b\b\b\b\b\b\b\b\b\b\b\b\b\b\b\b\b\b\b\b\b\b\b\b\b\b\b\b\b\b\b\b\b\b\b\b\b\b\b\b\b\b\b\b\b\b\b\b\b\b\b\b\b\b\b\b\b\b\b\b\b\b\b\b\b\b\b\b\b\b\b\b\b\b\b\b\b\b\b\b\b\b\b\b\b\b\b\b\b\b\b\b\b\b\b\b\b\b\b\b\b\b\b\b\b\b\b\b\b\b\b\b\b\b\b\b\b\b\b\b\b\b\b\b\b\b\b\b\b\b\b\b\b\b\b\b\b\b\b\b\b\b\r236/236 [==============================] - 3s 11ms/step - loss: 60.6948 - xv_output_loss: 30.2930 - yv_output_loss: 30.4018 - xv_output_root_mean_squared_error: 5.5039 - yv_output_root_mean_squared_error: 5.5138 - val_loss: 59.5789 - val_xv_output_loss: 29.8260 - val_yv_output_loss: 29.7528 - val_xv_output_root_mean_squared_error: 5.4613 - val_yv_output_root_mean_squared_error: 5.4546\n",
            "Epoch 49/100\n",
            "231/236 [============================>.] - ETA: 0s - loss: 60.6366 - xv_output_loss: 30.2671 - yv_output_loss: 30.3695 - xv_output_root_mean_squared_error: 5.5016 - yv_output_root_mean_squared_error: 5.5109"
          ]
        },
        {
          "output_type": "stream",
          "name": "stderr",
          "text": [
            "WARNING:absl:Function `_wrapped_model` contains input name(s) X1, X2, X3, X4, Y1, Y2, Y3, Y4 with unsupported characters which will be renamed to x1, x2, x3, x4, y1, y2, y3, y4 in the SavedModel.\n"
          ]
        },
        {
          "output_type": "stream",
          "name": "stdout",
          "text": [
            "\b\b\b\b\b\b\b\b\b\b\b\b\b\b\b\b\b\b\b\b\b\b\b\b\b\b\b\b\b\b\b\b\b\b\b\b\b\b\b\b\b\b\b\b\b\b\b\b\b\b\b\b\b\b\b\b\b\b\b\b\b\b\b\b\b\b\b\b\b\b\b\b\b\b\b\b\b\b\b\b\b\b\b\b\b\b\b\b\b\b\b\b\b\b\b\b\b\b\b\b\b\b\b\b\b\b\b\b\b\b\b\b\b\b\b\b\b\b\b\b\b\b\b\b\b\b\b\b\b\b\b\b\b\b\b\b\b\b\b\b\b\b\b\b\b\b\b\b\b\b\b\b\b\b\b\b\b\b\b\b\b\b\b\b\b\b\b\b\b\b\b\b\b\b\b\b\b\b\b\b\b\b\b\b\b\b\b\b\b\b\b\b\b\b\b\b\b\b\b\b\b\b\b\b\b\b\r236/236 [==============================] - 2s 9ms/step - loss: 60.6927 - xv_output_loss: 30.2921 - yv_output_loss: 30.4007 - xv_output_root_mean_squared_error: 5.5038 - yv_output_root_mean_squared_error: 5.5137 - val_loss: 59.5865 - val_xv_output_loss: 29.8286 - val_yv_output_loss: 29.7579 - val_xv_output_root_mean_squared_error: 5.4616 - val_yv_output_root_mean_squared_error: 5.4551\n",
            "Epoch 50/100\n",
            "234/236 [============================>.] - ETA: 0s - loss: 60.6901 - xv_output_loss: 30.2933 - yv_output_loss: 30.3968 - xv_output_root_mean_squared_error: 5.5039 - yv_output_root_mean_squared_error: 5.5133"
          ]
        },
        {
          "output_type": "stream",
          "name": "stderr",
          "text": [
            "WARNING:absl:Function `_wrapped_model` contains input name(s) X1, X2, X3, X4, Y1, Y2, Y3, Y4 with unsupported characters which will be renamed to x1, x2, x3, x4, y1, y2, y3, y4 in the SavedModel.\n"
          ]
        },
        {
          "output_type": "stream",
          "name": "stdout",
          "text": [
            "\b\b\b\b\b\b\b\b\b\b\b\b\b\b\b\b\b\b\b\b\b\b\b\b\b\b\b\b\b\b\b\b\b\b\b\b\b\b\b\b\b\b\b\b\b\b\b\b\b\b\b\b\b\b\b\b\b\b\b\b\b\b\b\b\b\b\b\b\b\b\b\b\b\b\b\b\b\b\b\b\b\b\b\b\b\b\b\b\b\b\b\b\b\b\b\b\b\b\b\b\b\b\b\b\b\b\b\b\b\b\b\b\b\b\b\b\b\b\b\b\b\b\b\b\b\b\b\b\b\b\b\b\b\b\b\b\b\b\b\b\b\b\b\b\b\b\b\b\b\b\b\b\b\b\b\b\b\b\b\b\b\b\b\b\b\b\b\b\b\b\b\b\b\b\b\b\b\b\b\b\b\b\b\b\b\b\b\b\b\b\b\b\b\b\b\b\b\b\b\b\b\b\b\b\b\b\r236/236 [==============================] - 2s 9ms/step - loss: 60.6915 - xv_output_loss: 30.2929 - yv_output_loss: 30.3986 - xv_output_root_mean_squared_error: 5.5039 - yv_output_root_mean_squared_error: 5.5135 - val_loss: 59.5795 - val_xv_output_loss: 29.8279 - val_yv_output_loss: 29.7516 - val_xv_output_root_mean_squared_error: 5.4615 - val_yv_output_root_mean_squared_error: 5.4545\n",
            "Epoch 51/100\n",
            "228/236 [===========================>..] - ETA: 0s - loss: 60.5852 - xv_output_loss: 30.2441 - yv_output_loss: 30.3411 - xv_output_root_mean_squared_error: 5.4995 - yv_output_root_mean_squared_error: 5.5083"
          ]
        },
        {
          "output_type": "stream",
          "name": "stderr",
          "text": [
            "WARNING:absl:Function `_wrapped_model` contains input name(s) X1, X2, X3, X4, Y1, Y2, Y3, Y4 with unsupported characters which will be renamed to x1, x2, x3, x4, y1, y2, y3, y4 in the SavedModel.\n"
          ]
        },
        {
          "output_type": "stream",
          "name": "stdout",
          "text": [
            "\b\b\b\b\b\b\b\b\b\b\b\b\b\b\b\b\b\b\b\b\b\b\b\b\b\b\b\b\b\b\b\b\b\b\b\b\b\b\b\b\b\b\b\b\b\b\b\b\b\b\b\b\b\b\b\b\b\b\b\b\b\b\b\b\b\b\b\b\b\b\b\b\b\b\b\b\b\b\b\b\b\b\b\b\b\b\b\b\b\b\b\b\b\b\b\b\b\b\b\b\b\b\b\b\b\b\b\b\b\b\b\b\b\b\b\b\b\b\b\b\b\b\b\b\b\b\b\b\b\b\b\b\b\b\b\b\b\b\b\b\b\b\b\b\b\b\b\b\b\b\b\b\b\b\b\b\b\b\b\b\b\b\b\b\b\b\b\b\b\b\b\b\b\b\b\b\b\b\b\b\b\b\b\b\b\b\b\b\b\b\b\b\b\b\b\b\b\b\b\b\b\b\b\b\b\b\r236/236 [==============================] - 2s 9ms/step - loss: 60.6875 - xv_output_loss: 30.2928 - yv_output_loss: 30.3947 - xv_output_root_mean_squared_error: 5.5039 - yv_output_root_mean_squared_error: 5.5131 - val_loss: 59.5769 - val_xv_output_loss: 29.8247 - val_yv_output_loss: 29.7522 - val_xv_output_root_mean_squared_error: 5.4612 - val_yv_output_root_mean_squared_error: 5.4546\n",
            "Epoch 52/100\n",
            "229/236 [============================>.] - ETA: 0s - loss: 60.6197 - xv_output_loss: 30.2612 - yv_output_loss: 30.3584 - xv_output_root_mean_squared_error: 5.5010 - yv_output_root_mean_squared_error: 5.5099"
          ]
        },
        {
          "output_type": "stream",
          "name": "stderr",
          "text": [
            "WARNING:absl:Function `_wrapped_model` contains input name(s) X1, X2, X3, X4, Y1, Y2, Y3, Y4 with unsupported characters which will be renamed to x1, x2, x3, x4, y1, y2, y3, y4 in the SavedModel.\n"
          ]
        },
        {
          "output_type": "stream",
          "name": "stdout",
          "text": [
            "\b\b\b\b\b\b\b\b\b\b\b\b\b\b\b\b\b\b\b\b\b\b\b\b\b\b\b\b\b\b\b\b\b\b\b\b\b\b\b\b\b\b\b\b\b\b\b\b\b\b\b\b\b\b\b\b\b\b\b\b\b\b\b\b\b\b\b\b\b\b\b\b\b\b\b\b\b\b\b\b\b\b\b\b\b\b\b\b\b\b\b\b\b\b\b\b\b\b\b\b\b\b\b\b\b\b\b\b\b\b\b\b\b\b\b\b\b\b\b\b\b\b\b\b\b\b\b\b\b\b\b\b\b\b\b\b\b\b\b\b\b\b\b\b\b\b\b\b\b\b\b\b\b\b\b\b\b\b\b\b\b\b\b\b\b\b\b\b\b\b\b\b\b\b\b\b\b\b\b\b\b\b\b\b\b\b\b\b\b\b\b\b\b\b\b\b\b\b\b\b\b\b\b\b\b\b\r236/236 [==============================] - 2s 9ms/step - loss: 60.6856 - xv_output_loss: 30.2920 - yv_output_loss: 30.3936 - xv_output_root_mean_squared_error: 5.5038 - yv_output_root_mean_squared_error: 5.5130 - val_loss: 59.5770 - val_xv_output_loss: 29.8256 - val_yv_output_loss: 29.7514 - val_xv_output_root_mean_squared_error: 5.4613 - val_yv_output_root_mean_squared_error: 5.4545\n",
            "Epoch 53/100\n",
            "225/236 [===========================>..] - ETA: 0s - loss: 60.5996 - xv_output_loss: 30.2531 - yv_output_loss: 30.3466 - xv_output_root_mean_squared_error: 5.5003 - yv_output_root_mean_squared_error: 5.5088"
          ]
        },
        {
          "output_type": "stream",
          "name": "stderr",
          "text": [
            "WARNING:absl:Function `_wrapped_model` contains input name(s) X1, X2, X3, X4, Y1, Y2, Y3, Y4 with unsupported characters which will be renamed to x1, x2, x3, x4, y1, y2, y3, y4 in the SavedModel.\n"
          ]
        },
        {
          "output_type": "stream",
          "name": "stdout",
          "text": [
            "\b\b\b\b\b\b\b\b\b\b\b\b\b\b\b\b\b\b\b\b\b\b\b\b\b\b\b\b\b\b\b\b\b\b\b\b\b\b\b\b\b\b\b\b\b\b\b\b\b\b\b\b\b\b\b\b\b\b\b\b\b\b\b\b\b\b\b\b\b\b\b\b\b\b\b\b\b\b\b\b\b\b\b\b\b\b\b\b\b\b\b\b\b\b\b\b\b\b\b\b\b\b\b\b\b\b\b\b\b\b\b\b\b\b\b\b\b\b\b\b\b\b\b\b\b\b\b\b\b\b\b\b\b\b\b\b\b\b\b\b\b\b\b\b\b\b\b\b\b\b\b\b\b\b\b\b\b\b\b\b\b\b\b\b\b\b\b\b\b\b\b\b\b\b\b\b\b\b\b\b\b\b\b\b\b\b\b\b\b\b\b\b\b\b\b\b\b\b\b\b\b\b\b\b\b\b\r236/236 [==============================] - 2s 9ms/step - loss: 60.6868 - xv_output_loss: 30.2947 - yv_output_loss: 30.3921 - xv_output_root_mean_squared_error: 5.5041 - yv_output_root_mean_squared_error: 5.5129 - val_loss: 59.5759 - val_xv_output_loss: 29.8269 - val_yv_output_loss: 29.7490 - val_xv_output_root_mean_squared_error: 5.4614 - val_yv_output_root_mean_squared_error: 5.4543\n",
            "Epoch 54/100\n",
            "230/236 [============================>.] - ETA: 0s - loss: 60.5980 - xv_output_loss: 30.2502 - yv_output_loss: 30.3478 - xv_output_root_mean_squared_error: 5.5000 - yv_output_root_mean_squared_error: 5.5089"
          ]
        },
        {
          "output_type": "stream",
          "name": "stderr",
          "text": [
            "WARNING:absl:Function `_wrapped_model` contains input name(s) X1, X2, X3, X4, Y1, Y2, Y3, Y4 with unsupported characters which will be renamed to x1, x2, x3, x4, y1, y2, y3, y4 in the SavedModel.\n"
          ]
        },
        {
          "output_type": "stream",
          "name": "stdout",
          "text": [
            "\b\b\b\b\b\b\b\b\b\b\b\b\b\b\b\b\b\b\b\b\b\b\b\b\b\b\b\b\b\b\b\b\b\b\b\b\b\b\b\b\b\b\b\b\b\b\b\b\b\b\b\b\b\b\b\b\b\b\b\b\b\b\b\b\b\b\b\b\b\b\b\b\b\b\b\b\b\b\b\b\b\b\b\b\b\b\b\b\b\b\b\b\b\b\b\b\b\b\b\b\b\b\b\b\b\b\b\b\b\b\b\b\b\b\b\b\b\b\b\b\b\b\b\b\b\b\b\b\b\b\b\b\b\b\b\b\b\b\b\b\b\b\b\b\b\b\b\b\b\b\b\b\b\b\b\b\b\b\b\b\b\b\b\b\b\b\b\b\b\b\b\b\b\b\b\b\b\b\b\b\b\b\b\b\b\b\b\b\b\b\b\b\b\b\b\b\b\b\b\b\b\b\b\b\b\b\r236/236 [==============================] - 3s 11ms/step - loss: 60.6865 - xv_output_loss: 30.2921 - yv_output_loss: 30.3944 - xv_output_root_mean_squared_error: 5.5038 - yv_output_root_mean_squared_error: 5.5131 - val_loss: 59.5768 - val_xv_output_loss: 29.8249 - val_yv_output_loss: 29.7519 - val_xv_output_root_mean_squared_error: 5.4612 - val_yv_output_root_mean_squared_error: 5.4545\n",
            "Epoch 55/100\n",
            "236/236 [==============================] - ETA: 0s - loss: 60.6783 - xv_output_loss: 30.2910 - yv_output_loss: 30.3873 - xv_output_root_mean_squared_error: 5.5037 - yv_output_root_mean_squared_error: 5.5125"
          ]
        },
        {
          "output_type": "stream",
          "name": "stderr",
          "text": [
            "WARNING:absl:Function `_wrapped_model` contains input name(s) X1, X2, X3, X4, Y1, Y2, Y3, Y4 with unsupported characters which will be renamed to x1, x2, x3, x4, y1, y2, y3, y4 in the SavedModel.\n"
          ]
        },
        {
          "output_type": "stream",
          "name": "stdout",
          "text": [
            "\b\b\b\b\b\b\b\b\b\b\b\b\b\b\b\b\b\b\b\b\b\b\b\b\b\b\b\b\b\b\b\b\b\b\b\b\b\b\b\b\b\b\b\b\b\b\b\b\b\b\b\b\b\b\b\b\b\b\b\b\b\b\b\b\b\b\b\b\b\b\b\b\b\b\b\b\b\b\b\b\b\b\b\b\b\b\b\b\b\b\b\b\b\b\b\b\b\b\b\b\b\b\b\b\b\b\b\b\b\b\b\b\b\b\b\b\b\b\b\b\b\b\b\b\b\b\b\b\b\b\b\b\b\b\b\b\b\b\b\b\b\b\b\b\b\b\b\b\b\b\b\b\b\b\b\b\b\b\b\b\b\b\b\b\b\b\b\b\b\b\b\b\b\b\b\b\b\b\b\b\b\b\b\b\b\b\b\b\b\b\b\b\b\b\b\b\b\b\b\b\b\b\b\b\b\b\r236/236 [==============================] - 2s 9ms/step - loss: 60.6783 - xv_output_loss: 30.2910 - yv_output_loss: 30.3873 - xv_output_root_mean_squared_error: 5.5037 - yv_output_root_mean_squared_error: 5.5125 - val_loss: 59.5726 - val_xv_output_loss: 29.8263 - val_yv_output_loss: 29.7463 - val_xv_output_root_mean_squared_error: 5.4613 - val_yv_output_root_mean_squared_error: 5.4540\n",
            "Epoch 56/100\n",
            "233/236 [============================>.] - ETA: 0s - loss: 60.6328 - xv_output_loss: 30.2708 - yv_output_loss: 30.3620 - xv_output_root_mean_squared_error: 5.5019 - yv_output_root_mean_squared_error: 5.5102"
          ]
        },
        {
          "output_type": "stream",
          "name": "stderr",
          "text": [
            "WARNING:absl:Function `_wrapped_model` contains input name(s) X1, X2, X3, X4, Y1, Y2, Y3, Y4 with unsupported characters which will be renamed to x1, x2, x3, x4, y1, y2, y3, y4 in the SavedModel.\n"
          ]
        },
        {
          "output_type": "stream",
          "name": "stdout",
          "text": [
            "\b\b\b\b\b\b\b\b\b\b\b\b\b\b\b\b\b\b\b\b\b\b\b\b\b\b\b\b\b\b\b\b\b\b\b\b\b\b\b\b\b\b\b\b\b\b\b\b\b\b\b\b\b\b\b\b\b\b\b\b\b\b\b\b\b\b\b\b\b\b\b\b\b\b\b\b\b\b\b\b\b\b\b\b\b\b\b\b\b\b\b\b\b\b\b\b\b\b\b\b\b\b\b\b\b\b\b\b\b\b\b\b\b\b\b\b\b\b\b\b\b\b\b\b\b\b\b\b\b\b\b\b\b\b\b\b\b\b\b\b\b\b\b\b\b\b\b\b\b\b\b\b\b\b\b\b\b\b\b\b\b\b\b\b\b\b\b\b\b\b\b\b\b\b\b\b\b\b\b\b\b\b\b\b\b\b\b\b\b\b\b\b\b\b\b\b\b\b\b\b\b\b\b\b\b\b\r236/236 [==============================] - 2s 9ms/step - loss: 60.6806 - xv_output_loss: 30.2923 - yv_output_loss: 30.3883 - xv_output_root_mean_squared_error: 5.5038 - yv_output_root_mean_squared_error: 5.5126 - val_loss: 59.5750 - val_xv_output_loss: 29.8252 - val_yv_output_loss: 29.7498 - val_xv_output_root_mean_squared_error: 5.4612 - val_yv_output_root_mean_squared_error: 5.4543\n",
            "Epoch 57/100\n",
            "227/236 [===========================>..] - ETA: 0s - loss: 60.6149 - xv_output_loss: 30.2628 - yv_output_loss: 30.3520 - xv_output_root_mean_squared_error: 5.5012 - yv_output_root_mean_squared_error: 5.5093"
          ]
        },
        {
          "output_type": "stream",
          "name": "stderr",
          "text": [
            "WARNING:absl:Function `_wrapped_model` contains input name(s) X1, X2, X3, X4, Y1, Y2, Y3, Y4 with unsupported characters which will be renamed to x1, x2, x3, x4, y1, y2, y3, y4 in the SavedModel.\n"
          ]
        },
        {
          "output_type": "stream",
          "name": "stdout",
          "text": [
            "\b\b\b\b\b\b\b\b\b\b\b\b\b\b\b\b\b\b\b\b\b\b\b\b\b\b\b\b\b\b\b\b\b\b\b\b\b\b\b\b\b\b\b\b\b\b\b\b\b\b\b\b\b\b\b\b\b\b\b\b\b\b\b\b\b\b\b\b\b\b\b\b\b\b\b\b\b\b\b\b\b\b\b\b\b\b\b\b\b\b\b\b\b\b\b\b\b\b\b\b\b\b\b\b\b\b\b\b\b\b\b\b\b\b\b\b\b\b\b\b\b\b\b\b\b\b\b\b\b\b\b\b\b\b\b\b\b\b\b\b\b\b\b\b\b\b\b\b\b\b\b\b\b\b\b\b\b\b\b\b\b\b\b\b\b\b\b\b\b\b\b\b\b\b\b\b\b\b\b\b\b\b\b\b\b\b\b\b\b\b\b\b\b\b\b\b\b\b\b\b\b\b\b\b\b\b\r236/236 [==============================] - 2s 10ms/step - loss: 60.6776 - xv_output_loss: 30.2917 - yv_output_loss: 30.3859 - xv_output_root_mean_squared_error: 5.5038 - yv_output_root_mean_squared_error: 5.5123 - val_loss: 59.5760 - val_xv_output_loss: 29.8280 - val_yv_output_loss: 29.7480 - val_xv_output_root_mean_squared_error: 5.4615 - val_yv_output_root_mean_squared_error: 5.4542\n",
            "Epoch 58/100\n",
            " 23/236 [=>............................] - ETA: 1s - loss: 62.2359 - xv_output_loss: 31.0534 - yv_output_loss: 31.1825 - xv_output_root_mean_squared_error: 5.5726 - yv_output_root_mean_squared_error: 5.5841"
          ]
        },
        {
          "output_type": "error",
          "ename": "KeyboardInterrupt",
          "evalue": "ignored",
          "traceback": [
            "\u001b[0;31m---------------------------------------------------------------------------\u001b[0m",
            "\u001b[0;31mKeyboardInterrupt\u001b[0m                         Traceback (most recent call last)",
            "\u001b[0;32m<ipython-input-582-c13ab38f3e07>\u001b[0m in \u001b[0;36m<module>\u001b[0;34m\u001b[0m\n\u001b[1;32m      3\u001b[0m     \u001b[0mvalidation_data\u001b[0m\u001b[0;34m=\u001b[0m\u001b[0mval_dataset\u001b[0m\u001b[0;34m,\u001b[0m\u001b[0;34m\u001b[0m\u001b[0;34m\u001b[0m\u001b[0m\n\u001b[1;32m      4\u001b[0m     \u001b[0mcallbacks\u001b[0m\u001b[0;34m=\u001b[0m\u001b[0mcallbacks\u001b[0m\u001b[0;34m,\u001b[0m\u001b[0;34m\u001b[0m\u001b[0;34m\u001b[0m\u001b[0m\n\u001b[0;32m----> 5\u001b[0;31m     epochs=EPOCHS)\n\u001b[0m",
            "\u001b[0;32m/usr/local/lib/python3.7/dist-packages/keras/utils/traceback_utils.py\u001b[0m in \u001b[0;36merror_handler\u001b[0;34m(*args, **kwargs)\u001b[0m\n\u001b[1;32m     62\u001b[0m     \u001b[0mfiltered_tb\u001b[0m \u001b[0;34m=\u001b[0m \u001b[0;32mNone\u001b[0m\u001b[0;34m\u001b[0m\u001b[0;34m\u001b[0m\u001b[0m\n\u001b[1;32m     63\u001b[0m     \u001b[0;32mtry\u001b[0m\u001b[0;34m:\u001b[0m\u001b[0;34m\u001b[0m\u001b[0;34m\u001b[0m\u001b[0m\n\u001b[0;32m---> 64\u001b[0;31m       \u001b[0;32mreturn\u001b[0m \u001b[0mfn\u001b[0m\u001b[0;34m(\u001b[0m\u001b[0;34m*\u001b[0m\u001b[0margs\u001b[0m\u001b[0;34m,\u001b[0m \u001b[0;34m**\u001b[0m\u001b[0mkwargs\u001b[0m\u001b[0;34m)\u001b[0m\u001b[0;34m\u001b[0m\u001b[0;34m\u001b[0m\u001b[0m\n\u001b[0m\u001b[1;32m     65\u001b[0m     \u001b[0;32mexcept\u001b[0m \u001b[0mException\u001b[0m \u001b[0;32mas\u001b[0m \u001b[0me\u001b[0m\u001b[0;34m:\u001b[0m  \u001b[0;31m# pylint: disable=broad-except\u001b[0m\u001b[0;34m\u001b[0m\u001b[0;34m\u001b[0m\u001b[0m\n\u001b[1;32m     66\u001b[0m       \u001b[0mfiltered_tb\u001b[0m \u001b[0;34m=\u001b[0m \u001b[0m_process_traceback_frames\u001b[0m\u001b[0;34m(\u001b[0m\u001b[0me\u001b[0m\u001b[0;34m.\u001b[0m\u001b[0m__traceback__\u001b[0m\u001b[0;34m)\u001b[0m\u001b[0;34m\u001b[0m\u001b[0;34m\u001b[0m\u001b[0m\n",
            "\u001b[0;32m/usr/local/lib/python3.7/dist-packages/keras/engine/training.py\u001b[0m in \u001b[0;36mfit\u001b[0;34m(self, x, y, batch_size, epochs, verbose, callbacks, validation_split, validation_data, shuffle, class_weight, sample_weight, initial_epoch, steps_per_epoch, validation_steps, validation_batch_size, validation_freq, max_queue_size, workers, use_multiprocessing)\u001b[0m\n\u001b[1;32m   1382\u001b[0m                 _r=1):\n\u001b[1;32m   1383\u001b[0m               \u001b[0mcallbacks\u001b[0m\u001b[0;34m.\u001b[0m\u001b[0mon_train_batch_begin\u001b[0m\u001b[0;34m(\u001b[0m\u001b[0mstep\u001b[0m\u001b[0;34m)\u001b[0m\u001b[0;34m\u001b[0m\u001b[0;34m\u001b[0m\u001b[0m\n\u001b[0;32m-> 1384\u001b[0;31m               \u001b[0mtmp_logs\u001b[0m \u001b[0;34m=\u001b[0m \u001b[0mself\u001b[0m\u001b[0;34m.\u001b[0m\u001b[0mtrain_function\u001b[0m\u001b[0;34m(\u001b[0m\u001b[0miterator\u001b[0m\u001b[0;34m)\u001b[0m\u001b[0;34m\u001b[0m\u001b[0;34m\u001b[0m\u001b[0m\n\u001b[0m\u001b[1;32m   1385\u001b[0m               \u001b[0;32mif\u001b[0m \u001b[0mdata_handler\u001b[0m\u001b[0;34m.\u001b[0m\u001b[0mshould_sync\u001b[0m\u001b[0;34m:\u001b[0m\u001b[0;34m\u001b[0m\u001b[0;34m\u001b[0m\u001b[0m\n\u001b[1;32m   1386\u001b[0m                 \u001b[0mcontext\u001b[0m\u001b[0;34m.\u001b[0m\u001b[0masync_wait\u001b[0m\u001b[0;34m(\u001b[0m\u001b[0;34m)\u001b[0m\u001b[0;34m\u001b[0m\u001b[0;34m\u001b[0m\u001b[0m\n",
            "\u001b[0;32m/usr/local/lib/python3.7/dist-packages/tensorflow/python/util/traceback_utils.py\u001b[0m in \u001b[0;36merror_handler\u001b[0;34m(*args, **kwargs)\u001b[0m\n\u001b[1;32m    148\u001b[0m     \u001b[0mfiltered_tb\u001b[0m \u001b[0;34m=\u001b[0m \u001b[0;32mNone\u001b[0m\u001b[0;34m\u001b[0m\u001b[0;34m\u001b[0m\u001b[0m\n\u001b[1;32m    149\u001b[0m     \u001b[0;32mtry\u001b[0m\u001b[0;34m:\u001b[0m\u001b[0;34m\u001b[0m\u001b[0;34m\u001b[0m\u001b[0m\n\u001b[0;32m--> 150\u001b[0;31m       \u001b[0;32mreturn\u001b[0m \u001b[0mfn\u001b[0m\u001b[0;34m(\u001b[0m\u001b[0;34m*\u001b[0m\u001b[0margs\u001b[0m\u001b[0;34m,\u001b[0m \u001b[0;34m**\u001b[0m\u001b[0mkwargs\u001b[0m\u001b[0;34m)\u001b[0m\u001b[0;34m\u001b[0m\u001b[0;34m\u001b[0m\u001b[0m\n\u001b[0m\u001b[1;32m    151\u001b[0m     \u001b[0;32mexcept\u001b[0m \u001b[0mException\u001b[0m \u001b[0;32mas\u001b[0m \u001b[0me\u001b[0m\u001b[0;34m:\u001b[0m\u001b[0;34m\u001b[0m\u001b[0;34m\u001b[0m\u001b[0m\n\u001b[1;32m    152\u001b[0m       \u001b[0mfiltered_tb\u001b[0m \u001b[0;34m=\u001b[0m \u001b[0m_process_traceback_frames\u001b[0m\u001b[0;34m(\u001b[0m\u001b[0me\u001b[0m\u001b[0;34m.\u001b[0m\u001b[0m__traceback__\u001b[0m\u001b[0;34m)\u001b[0m\u001b[0;34m\u001b[0m\u001b[0;34m\u001b[0m\u001b[0m\n",
            "\u001b[0;32m/usr/local/lib/python3.7/dist-packages/tensorflow/python/eager/def_function.py\u001b[0m in \u001b[0;36m__call__\u001b[0;34m(self, *args, **kwds)\u001b[0m\n\u001b[1;32m    913\u001b[0m \u001b[0;34m\u001b[0m\u001b[0m\n\u001b[1;32m    914\u001b[0m       \u001b[0;32mwith\u001b[0m \u001b[0mOptionalXlaContext\u001b[0m\u001b[0;34m(\u001b[0m\u001b[0mself\u001b[0m\u001b[0;34m.\u001b[0m\u001b[0m_jit_compile\u001b[0m\u001b[0;34m)\u001b[0m\u001b[0;34m:\u001b[0m\u001b[0;34m\u001b[0m\u001b[0;34m\u001b[0m\u001b[0m\n\u001b[0;32m--> 915\u001b[0;31m         \u001b[0mresult\u001b[0m \u001b[0;34m=\u001b[0m \u001b[0mself\u001b[0m\u001b[0;34m.\u001b[0m\u001b[0m_call\u001b[0m\u001b[0;34m(\u001b[0m\u001b[0;34m*\u001b[0m\u001b[0margs\u001b[0m\u001b[0;34m,\u001b[0m \u001b[0;34m**\u001b[0m\u001b[0mkwds\u001b[0m\u001b[0;34m)\u001b[0m\u001b[0;34m\u001b[0m\u001b[0;34m\u001b[0m\u001b[0m\n\u001b[0m\u001b[1;32m    916\u001b[0m \u001b[0;34m\u001b[0m\u001b[0m\n\u001b[1;32m    917\u001b[0m       \u001b[0mnew_tracing_count\u001b[0m \u001b[0;34m=\u001b[0m \u001b[0mself\u001b[0m\u001b[0;34m.\u001b[0m\u001b[0mexperimental_get_tracing_count\u001b[0m\u001b[0;34m(\u001b[0m\u001b[0;34m)\u001b[0m\u001b[0;34m\u001b[0m\u001b[0;34m\u001b[0m\u001b[0m\n",
            "\u001b[0;32m/usr/local/lib/python3.7/dist-packages/tensorflow/python/eager/def_function.py\u001b[0m in \u001b[0;36m_call\u001b[0;34m(self, *args, **kwds)\u001b[0m\n\u001b[1;32m    945\u001b[0m       \u001b[0;31m# In this case we have created variables on the first call, so we run the\u001b[0m\u001b[0;34m\u001b[0m\u001b[0;34m\u001b[0m\u001b[0;34m\u001b[0m\u001b[0m\n\u001b[1;32m    946\u001b[0m       \u001b[0;31m# defunned version which is guaranteed to never create variables.\u001b[0m\u001b[0;34m\u001b[0m\u001b[0;34m\u001b[0m\u001b[0;34m\u001b[0m\u001b[0m\n\u001b[0;32m--> 947\u001b[0;31m       \u001b[0;32mreturn\u001b[0m \u001b[0mself\u001b[0m\u001b[0;34m.\u001b[0m\u001b[0m_stateless_fn\u001b[0m\u001b[0;34m(\u001b[0m\u001b[0;34m*\u001b[0m\u001b[0margs\u001b[0m\u001b[0;34m,\u001b[0m \u001b[0;34m**\u001b[0m\u001b[0mkwds\u001b[0m\u001b[0;34m)\u001b[0m  \u001b[0;31m# pylint: disable=not-callable\u001b[0m\u001b[0;34m\u001b[0m\u001b[0;34m\u001b[0m\u001b[0m\n\u001b[0m\u001b[1;32m    948\u001b[0m     \u001b[0;32melif\u001b[0m \u001b[0mself\u001b[0m\u001b[0;34m.\u001b[0m\u001b[0m_stateful_fn\u001b[0m \u001b[0;32mis\u001b[0m \u001b[0;32mnot\u001b[0m \u001b[0;32mNone\u001b[0m\u001b[0;34m:\u001b[0m\u001b[0;34m\u001b[0m\u001b[0;34m\u001b[0m\u001b[0m\n\u001b[1;32m    949\u001b[0m       \u001b[0;31m# Release the lock early so that multiple threads can perform the call\u001b[0m\u001b[0;34m\u001b[0m\u001b[0;34m\u001b[0m\u001b[0;34m\u001b[0m\u001b[0m\n",
            "\u001b[0;32m/usr/local/lib/python3.7/dist-packages/tensorflow/python/eager/function.py\u001b[0m in \u001b[0;36m__call__\u001b[0;34m(self, *args, **kwargs)\u001b[0m\n\u001b[1;32m   2955\u001b[0m        filtered_flat_args) = self._maybe_define_function(args, kwargs)\n\u001b[1;32m   2956\u001b[0m     return graph_function._call_flat(\n\u001b[0;32m-> 2957\u001b[0;31m         filtered_flat_args, captured_inputs=graph_function.captured_inputs)  # pylint: disable=protected-access\n\u001b[0m\u001b[1;32m   2958\u001b[0m \u001b[0;34m\u001b[0m\u001b[0m\n\u001b[1;32m   2959\u001b[0m   \u001b[0;34m@\u001b[0m\u001b[0mproperty\u001b[0m\u001b[0;34m\u001b[0m\u001b[0;34m\u001b[0m\u001b[0m\n",
            "\u001b[0;32m/usr/local/lib/python3.7/dist-packages/tensorflow/python/eager/function.py\u001b[0m in \u001b[0;36m_call_flat\u001b[0;34m(self, args, captured_inputs, cancellation_manager)\u001b[0m\n\u001b[1;32m   1852\u001b[0m       \u001b[0;31m# No tape is watching; skip to running the function.\u001b[0m\u001b[0;34m\u001b[0m\u001b[0;34m\u001b[0m\u001b[0;34m\u001b[0m\u001b[0m\n\u001b[1;32m   1853\u001b[0m       return self._build_call_outputs(self._inference_function.call(\n\u001b[0;32m-> 1854\u001b[0;31m           ctx, args, cancellation_manager=cancellation_manager))\n\u001b[0m\u001b[1;32m   1855\u001b[0m     forward_backward = self._select_forward_and_backward_functions(\n\u001b[1;32m   1856\u001b[0m         \u001b[0margs\u001b[0m\u001b[0;34m,\u001b[0m\u001b[0;34m\u001b[0m\u001b[0;34m\u001b[0m\u001b[0m\n",
            "\u001b[0;32m/usr/local/lib/python3.7/dist-packages/tensorflow/python/eager/function.py\u001b[0m in \u001b[0;36mcall\u001b[0;34m(self, ctx, args, cancellation_manager)\u001b[0m\n\u001b[1;32m    502\u001b[0m               \u001b[0minputs\u001b[0m\u001b[0;34m=\u001b[0m\u001b[0margs\u001b[0m\u001b[0;34m,\u001b[0m\u001b[0;34m\u001b[0m\u001b[0;34m\u001b[0m\u001b[0m\n\u001b[1;32m    503\u001b[0m               \u001b[0mattrs\u001b[0m\u001b[0;34m=\u001b[0m\u001b[0mattrs\u001b[0m\u001b[0;34m,\u001b[0m\u001b[0;34m\u001b[0m\u001b[0;34m\u001b[0m\u001b[0m\n\u001b[0;32m--> 504\u001b[0;31m               ctx=ctx)\n\u001b[0m\u001b[1;32m    505\u001b[0m         \u001b[0;32melse\u001b[0m\u001b[0;34m:\u001b[0m\u001b[0;34m\u001b[0m\u001b[0;34m\u001b[0m\u001b[0m\n\u001b[1;32m    506\u001b[0m           outputs = execute.execute_with_cancellation(\n",
            "\u001b[0;32m/usr/local/lib/python3.7/dist-packages/tensorflow/python/eager/execute.py\u001b[0m in \u001b[0;36mquick_execute\u001b[0;34m(op_name, num_outputs, inputs, attrs, ctx, name)\u001b[0m\n\u001b[1;32m     53\u001b[0m     \u001b[0mctx\u001b[0m\u001b[0;34m.\u001b[0m\u001b[0mensure_initialized\u001b[0m\u001b[0;34m(\u001b[0m\u001b[0;34m)\u001b[0m\u001b[0;34m\u001b[0m\u001b[0;34m\u001b[0m\u001b[0m\n\u001b[1;32m     54\u001b[0m     tensors = pywrap_tfe.TFE_Py_Execute(ctx._handle, device_name, op_name,\n\u001b[0;32m---> 55\u001b[0;31m                                         inputs, attrs, num_outputs)\n\u001b[0m\u001b[1;32m     56\u001b[0m   \u001b[0;32mexcept\u001b[0m \u001b[0mcore\u001b[0m\u001b[0;34m.\u001b[0m\u001b[0m_NotOkStatusException\u001b[0m \u001b[0;32mas\u001b[0m \u001b[0me\u001b[0m\u001b[0;34m:\u001b[0m\u001b[0;34m\u001b[0m\u001b[0;34m\u001b[0m\u001b[0m\n\u001b[1;32m     57\u001b[0m     \u001b[0;32mif\u001b[0m \u001b[0mname\u001b[0m \u001b[0;32mis\u001b[0m \u001b[0;32mnot\u001b[0m \u001b[0;32mNone\u001b[0m\u001b[0;34m:\u001b[0m\u001b[0;34m\u001b[0m\u001b[0;34m\u001b[0m\u001b[0m\n",
            "\u001b[0;31mKeyboardInterrupt\u001b[0m: "
          ]
        }
      ]
    },
    {
      "cell_type": "markdown",
      "metadata": {
        "id": "E5MEaYxH9a40"
      },
      "source": [
        "## Find out training and validation losses with trained model"
      ]
    },
    {
      "cell_type": "code",
      "metadata": {
        "id": "fbsZlC7LCZfb"
      },
      "source": [
        "# loss with trained model\n",
        "model.evaluate(train_dataset)"
      ],
      "execution_count": null,
      "outputs": []
    },
    {
      "cell_type": "code",
      "metadata": {
        "id": "4k7dH2YgCZfg"
      },
      "source": [
        "# val_loss with trained model\n",
        "model.evaluate(val_dataset)"
      ],
      "execution_count": null,
      "outputs": []
    },
    {
      "cell_type": "code",
      "metadata": {
        "id": "tH3I7X3VCZfj"
      },
      "source": [
        "def plot_loss(history):\n",
        "    plt.plot(history.history['loss'], label='loss')\n",
        "    plt.plot(history.history['val_loss'], label='val_loss')\n",
        "    plt.xlabel('Epoch')\n",
        "    plt.ylabel('Error')\n",
        "    plt.legend()\n",
        "    plt.grid(True)"
      ],
      "execution_count": null,
      "outputs": []
    },
    {
      "cell_type": "code",
      "metadata": {
        "id": "qawO4E_sCZfn"
      },
      "source": [
        "plot_loss(history)"
      ],
      "execution_count": null,
      "outputs": []
    },
    {
      "cell_type": "code",
      "metadata": {
        "id": "caSpNHWBCZfq"
      },
      "source": [
        "def plot_acc(history):\n",
        "    plt.plot(history.history['accuracy'], label='accuracy')\n",
        "    plt.plot(history.history['val_accuracy'], label='val_accuracy')\n",
        "    plt.xlabel('Epoch')\n",
        "    plt.ylabel('accuracy')\n",
        "    plt.legend()\n",
        "    plt.grid(True)"
      ],
      "execution_count": null,
      "outputs": []
    },
    {
      "cell_type": "code",
      "metadata": {
        "id": "3XgjeDoQCZfv"
      },
      "source": [
        "if TASK == \"c\":\n",
        "    plot_acc(history)"
      ],
      "execution_count": null,
      "outputs": []
    },
    {
      "cell_type": "markdown",
      "metadata": {
        "id": "9wAqQthi-RS_"
      },
      "source": [
        "## Test the model on some dummy data"
      ]
    },
    {
      "cell_type": "code",
      "metadata": {
        "id": "1SARRjv3CZf3"
      },
      "source": [
        "# model.predict({\n",
        "#     \"sex\" : np.array([\"male\"]),\n",
        "#     \"age\" : np.array([22.0]),\n",
        "#     \"n_siblings_spouses\" : np.array([1]),\n",
        "#     \"parch\" : np.array([0]),\n",
        "#     \"fare\" : np.array([7.25]),\n",
        "#     \"class\" : np.array([\"Third\"]),\n",
        "#     \"deck\" : np.array([\"unknown\"]),\n",
        "#     \"embark_town\" : np.array([\"Southampton\"]),\n",
        "#     \"alone\" : np.array([\"n\"]),\n",
        "# })"
      ],
      "execution_count": null,
      "outputs": []
    },
    {
      "cell_type": "code",
      "metadata": {
        "id": "bPl-FWY9CZf8"
      },
      "source": [
        "# reloaded = tf.keras.models.load_model(\"models/titanic_model.24-1610.52\")"
      ],
      "execution_count": null,
      "outputs": []
    },
    {
      "cell_type": "code",
      "metadata": {
        "id": "FIMEv9r_CZgB"
      },
      "source": [
        "# reloaded.evaluate(train_dataset)"
      ],
      "execution_count": null,
      "outputs": []
    },
    {
      "cell_type": "code",
      "metadata": {
        "id": "A75qm1uPCZgG"
      },
      "source": [
        "# reloaded.evaluate(val_dataset)"
      ],
      "execution_count": null,
      "outputs": []
    }
  ]
}