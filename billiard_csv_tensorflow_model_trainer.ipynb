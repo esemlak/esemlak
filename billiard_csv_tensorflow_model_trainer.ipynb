{
  "nbformat": 4,
  "nbformat_minor": 0,
  "metadata": {
    "kernelspec": {
      "display_name": "Python 3",
      "language": "python",
      "name": "python3"
    },
    "language_info": {
      "codemirror_mode": {
        "name": "ipython",
        "version": 3
      },
      "file_extension": ".py",
      "mimetype": "text/x-python",
      "name": "python",
      "nbconvert_exporter": "python",
      "pygments_lexer": "ipython3",
      "version": "3.8.5"
    },
    "colab": {
      "provenance": [],
      "collapsed_sections": [],
      "include_colab_link": true
    },
    "accelerator": "GPU"
  },
  "cells": [
    {
      "cell_type": "markdown",
      "metadata": {
        "id": "view-in-github",
        "colab_type": "text"
      },
      "source": [
        "<a href=\"https://colab.research.google.com/github/esemlak/esemlak/blob/main/billiard_csv_tensorflow_model_trainer.ipynb\" target=\"_parent\"><img src=\"https://colab.research.google.com/assets/colab-badge.svg\" alt=\"Open In Colab\"/></a>"
      ]
    },
    {
      "cell_type": "code",
      "metadata": {
        "id": "toCaSzfhLJTl",
        "colab": {
          "base_uri": "https://localhost:8080/"
        },
        "outputId": "30557088-249c-4b31-bc07-ce8b13732cae"
      },
      "source": [
        "#!unzip -o /content/colab_train_big.zip\n",
        "!pip3 install keras-tuner"
      ],
      "execution_count": 363,
      "outputs": [
        {
          "output_type": "stream",
          "name": "stdout",
          "text": [
            "Looking in indexes: https://pypi.org/simple, https://us-python.pkg.dev/colab-wheels/public/simple/\n",
            "Requirement already satisfied: keras-tuner in /usr/local/lib/python3.7/dist-packages (1.1.3)\n",
            "Requirement already satisfied: requests in /usr/local/lib/python3.7/dist-packages (from keras-tuner) (2.23.0)\n",
            "Requirement already satisfied: packaging in /usr/local/lib/python3.7/dist-packages (from keras-tuner) (21.3)\n",
            "Requirement already satisfied: tensorboard in /usr/local/lib/python3.7/dist-packages (from keras-tuner) (2.8.0)\n",
            "Requirement already satisfied: numpy in /usr/local/lib/python3.7/dist-packages (from keras-tuner) (1.21.6)\n",
            "Requirement already satisfied: kt-legacy in /usr/local/lib/python3.7/dist-packages (from keras-tuner) (1.0.4)\n",
            "Requirement already satisfied: ipython in /usr/local/lib/python3.7/dist-packages (from keras-tuner) (7.9.0)\n",
            "Requirement already satisfied: jedi>=0.10 in /usr/local/lib/python3.7/dist-packages (from ipython->keras-tuner) (0.18.1)\n",
            "Requirement already satisfied: setuptools>=18.5 in /usr/local/lib/python3.7/dist-packages (from ipython->keras-tuner) (57.4.0)\n",
            "Requirement already satisfied: decorator in /usr/local/lib/python3.7/dist-packages (from ipython->keras-tuner) (4.4.2)\n",
            "Requirement already satisfied: traitlets>=4.2 in /usr/local/lib/python3.7/dist-packages (from ipython->keras-tuner) (5.1.1)\n",
            "Requirement already satisfied: pickleshare in /usr/local/lib/python3.7/dist-packages (from ipython->keras-tuner) (0.7.5)\n",
            "Requirement already satisfied: prompt-toolkit<2.1.0,>=2.0.0 in /usr/local/lib/python3.7/dist-packages (from ipython->keras-tuner) (2.0.10)\n",
            "Requirement already satisfied: pygments in /usr/local/lib/python3.7/dist-packages (from ipython->keras-tuner) (2.6.1)\n",
            "Requirement already satisfied: pexpect in /usr/local/lib/python3.7/dist-packages (from ipython->keras-tuner) (4.8.0)\n",
            "Requirement already satisfied: backcall in /usr/local/lib/python3.7/dist-packages (from ipython->keras-tuner) (0.2.0)\n",
            "Requirement already satisfied: parso<0.9.0,>=0.8.0 in /usr/local/lib/python3.7/dist-packages (from jedi>=0.10->ipython->keras-tuner) (0.8.3)\n",
            "Requirement already satisfied: six>=1.9.0 in /usr/local/lib/python3.7/dist-packages (from prompt-toolkit<2.1.0,>=2.0.0->ipython->keras-tuner) (1.15.0)\n",
            "Requirement already satisfied: wcwidth in /usr/local/lib/python3.7/dist-packages (from prompt-toolkit<2.1.0,>=2.0.0->ipython->keras-tuner) (0.2.5)\n",
            "Requirement already satisfied: pyparsing!=3.0.5,>=2.0.2 in /usr/local/lib/python3.7/dist-packages (from packaging->keras-tuner) (3.0.9)\n",
            "Requirement already satisfied: ptyprocess>=0.5 in /usr/local/lib/python3.7/dist-packages (from pexpect->ipython->keras-tuner) (0.7.0)\n",
            "Requirement already satisfied: certifi>=2017.4.17 in /usr/local/lib/python3.7/dist-packages (from requests->keras-tuner) (2022.6.15)\n",
            "Requirement already satisfied: urllib3!=1.25.0,!=1.25.1,<1.26,>=1.21.1 in /usr/local/lib/python3.7/dist-packages (from requests->keras-tuner) (1.24.3)\n",
            "Requirement already satisfied: chardet<4,>=3.0.2 in /usr/local/lib/python3.7/dist-packages (from requests->keras-tuner) (3.0.4)\n",
            "Requirement already satisfied: idna<3,>=2.5 in /usr/local/lib/python3.7/dist-packages (from requests->keras-tuner) (2.10)\n",
            "Requirement already satisfied: markdown>=2.6.8 in /usr/local/lib/python3.7/dist-packages (from tensorboard->keras-tuner) (3.4.1)\n",
            "Requirement already satisfied: protobuf>=3.6.0 in /usr/local/lib/python3.7/dist-packages (from tensorboard->keras-tuner) (3.17.3)\n",
            "Requirement already satisfied: tensorboard-plugin-wit>=1.6.0 in /usr/local/lib/python3.7/dist-packages (from tensorboard->keras-tuner) (1.8.1)\n",
            "Requirement already satisfied: werkzeug>=0.11.15 in /usr/local/lib/python3.7/dist-packages (from tensorboard->keras-tuner) (1.0.1)\n",
            "Requirement already satisfied: grpcio>=1.24.3 in /usr/local/lib/python3.7/dist-packages (from tensorboard->keras-tuner) (1.48.1)\n",
            "Requirement already satisfied: tensorboard-data-server<0.7.0,>=0.6.0 in /usr/local/lib/python3.7/dist-packages (from tensorboard->keras-tuner) (0.6.1)\n",
            "Requirement already satisfied: google-auth-oauthlib<0.5,>=0.4.1 in /usr/local/lib/python3.7/dist-packages (from tensorboard->keras-tuner) (0.4.6)\n",
            "Requirement already satisfied: wheel>=0.26 in /usr/local/lib/python3.7/dist-packages (from tensorboard->keras-tuner) (0.37.1)\n",
            "Requirement already satisfied: google-auth<3,>=1.6.3 in /usr/local/lib/python3.7/dist-packages (from tensorboard->keras-tuner) (1.35.0)\n",
            "Requirement already satisfied: absl-py>=0.4 in /usr/local/lib/python3.7/dist-packages (from tensorboard->keras-tuner) (1.2.0)\n",
            "Requirement already satisfied: pyasn1-modules>=0.2.1 in /usr/local/lib/python3.7/dist-packages (from google-auth<3,>=1.6.3->tensorboard->keras-tuner) (0.2.8)\n",
            "Requirement already satisfied: rsa<5,>=3.1.4 in /usr/local/lib/python3.7/dist-packages (from google-auth<3,>=1.6.3->tensorboard->keras-tuner) (4.9)\n",
            "Requirement already satisfied: cachetools<5.0,>=2.0.0 in /usr/local/lib/python3.7/dist-packages (from google-auth<3,>=1.6.3->tensorboard->keras-tuner) (4.2.4)\n",
            "Requirement already satisfied: requests-oauthlib>=0.7.0 in /usr/local/lib/python3.7/dist-packages (from google-auth-oauthlib<0.5,>=0.4.1->tensorboard->keras-tuner) (1.3.1)\n",
            "Requirement already satisfied: importlib-metadata>=4.4 in /usr/local/lib/python3.7/dist-packages (from markdown>=2.6.8->tensorboard->keras-tuner) (4.12.0)\n",
            "Requirement already satisfied: typing-extensions>=3.6.4 in /usr/local/lib/python3.7/dist-packages (from importlib-metadata>=4.4->markdown>=2.6.8->tensorboard->keras-tuner) (4.1.1)\n",
            "Requirement already satisfied: zipp>=0.5 in /usr/local/lib/python3.7/dist-packages (from importlib-metadata>=4.4->markdown>=2.6.8->tensorboard->keras-tuner) (3.8.1)\n",
            "Requirement already satisfied: pyasn1<0.5.0,>=0.4.6 in /usr/local/lib/python3.7/dist-packages (from pyasn1-modules>=0.2.1->google-auth<3,>=1.6.3->tensorboard->keras-tuner) (0.4.8)\n",
            "Requirement already satisfied: oauthlib>=3.0.0 in /usr/local/lib/python3.7/dist-packages (from requests-oauthlib>=0.7.0->google-auth-oauthlib<0.5,>=0.4.1->tensorboard->keras-tuner) (3.2.0)\n"
          ]
        }
      ]
    },
    {
      "cell_type": "code",
      "metadata": {
        "id": "BSFP3qG8woJK"
      },
      "source": [
        "DATASET_PATH = \"/content/colab_train_big.csv\"\n",
        "LABEL_NAME = \"SCORE\"\n",
        "\n",
        "# \"r\" for regression and \"c\" for classification\n",
        "# for classification, the number of output nodes is automatically determined\n",
        "TASK = \"r\"\n",
        "\n",
        "# don't change the dummy batch size. There is a small bug in tensorflow.\n",
        "# to get around that bug, dummy batch size is used\n",
        "DUMMY_BATCH_SIZE = 5\n",
        "BATCH_SIZE = 100\n",
        "EPOCHS = 100\n",
        "TRAIN_FRAC = 0.8\n",
        "\n",
        "CHECKPOINT_DIR = \"/content/\""
      ],
      "execution_count": 364,
      "outputs": []
    },
    {
      "cell_type": "code",
      "metadata": {
        "id": "ZVR1nxboHX45"
      },
      "source": [],
      "execution_count": 364,
      "outputs": []
    },
    {
      "cell_type": "code",
      "metadata": {
        "id": "hY-_wPnaCZbp"
      },
      "source": [
        "from collections import defaultdict\n",
        "import os\n",
        "\n",
        "import numpy as np\n",
        "import matplotlib.pyplot as plt\n",
        "\n",
        "import tensorflow as tf\n",
        "import kerastuner as kt\n",
        "\n",
        "import IPython"
      ],
      "execution_count": 365,
      "outputs": []
    },
    {
      "cell_type": "markdown",
      "metadata": {
        "id": "lgbYDOHe0pu3"
      },
      "source": [
        "# This function will give us a fresh dataset object"
      ]
    },
    {
      "cell_type": "code",
      "metadata": {
        "id": "FocJZX8lCZbw"
      },
      "source": [
        "def get_dataset(batch_size = 5):\n",
        "    return tf.data.experimental.make_csv_dataset(\n",
        "        DATASET_PATH,\n",
        "        batch_size = batch_size,\n",
        "        label_name = LABEL_NAME,\n",
        "        num_epochs = 1,\n",
        "        field_delim= ';'\n",
        "    )"
      ],
      "execution_count": 366,
      "outputs": []
    },
    {
      "cell_type": "markdown",
      "metadata": {
        "id": "XwNYZ_TOIPRJ"
      },
      "source": [
        "# If classification, Find Number of labels (for output nodes)"
      ]
    },
    {
      "cell_type": "code",
      "metadata": {
        "id": "7GAe3626H0f7",
        "colab": {
          "base_uri": "https://localhost:8080/"
        },
        "outputId": "a47b3504-3b03-4894-f8b2-157d88080895"
      },
      "source": [
        "unique_labels = set()\n",
        "\n",
        "unique_labels.add(\"VX\")\n",
        "unique_labels.add(\"VY\")\n",
        "num_labels = len(unique_labels)\n",
        "\n",
        "OUTPUT_NODES = num_labels\n",
        "    \n",
        "print(unique_labels)\n",
        "\n",
        "print(\"output nodes: \", OUTPUT_NODES)"
      ],
      "execution_count": 367,
      "outputs": [
        {
          "output_type": "stream",
          "name": "stdout",
          "text": [
            "{'VY', 'VX'}\n",
            "output nodes:  2\n"
          ]
        }
      ]
    },
    {
      "cell_type": "markdown",
      "source": [
        "**Test**"
      ],
      "metadata": {
        "id": "wYLmx1SqXIto"
      }
    },
    {
      "cell_type": "code",
      "source": [
        "model_inputs = {}\n",
        "\n",
        "#dataset = tf.data.experimental.make_csv_dataset(\n",
        "#        DATASET_PATH,\n",
        "#        batch_size = DUMMY_BATCH_SIZE,\n",
        "#        label_name = LABEL_NAME,\n",
        "#        num_epochs = 1,\n",
        "#        header = True,\n",
        "#    )\n",
        "\n",
        "#iterator = dataset.as_numpy_iterator()\n",
        "#print(next(iterator))"
      ],
      "metadata": {
        "id": "yKHml9nEXMFw"
      },
      "execution_count": 368,
      "outputs": []
    },
    {
      "cell_type": "markdown",
      "metadata": {
        "id": "Gi8fUZj40yG1"
      },
      "source": [
        "# Creating the Model Inputs as a dictionary"
      ]
    },
    {
      "cell_type": "code",
      "metadata": {
        "id": "0x-yO_2xCZb2"
      },
      "source": [
        "model_inputs = {}\n",
        "\n",
        "for batch, _ in get_dataset(batch_size=DUMMY_BATCH_SIZE).take(1):\n",
        "    for col_name, col_values in batch.items():\n",
        "        if (col_name == 'X1' or col_name == 'X2' or col_name == 'X3' or col_name == 'X4' or col_name == 'Y1' or col_name == 'Y2' or col_name == 'Y3' or col_name == 'Y4'):\n",
        "          model_inputs[col_name] = tf.keras.Input(shape=(1,), name=col_name, dtype=col_values.dtype)"
      ],
      "execution_count": 369,
      "outputs": []
    },
    {
      "cell_type": "code",
      "metadata": {
        "id": "FPcuRa0xCZb8",
        "colab": {
          "base_uri": "https://localhost:8080/"
        },
        "outputId": "2807c06d-05e0-4aa7-989f-f06cd3d841bf"
      },
      "source": [
        "model_inputs"
      ],
      "execution_count": 370,
      "outputs": [
        {
          "output_type": "execute_result",
          "data": {
            "text/plain": [
              "{'X1': <KerasTensor: shape=(None, 1) dtype=float32 (created by layer 'X1')>,\n",
              " 'Y1': <KerasTensor: shape=(None, 1) dtype=float32 (created by layer 'Y1')>,\n",
              " 'X2': <KerasTensor: shape=(None, 1) dtype=float32 (created by layer 'X2')>,\n",
              " 'Y2': <KerasTensor: shape=(None, 1) dtype=float32 (created by layer 'Y2')>,\n",
              " 'X3': <KerasTensor: shape=(None, 1) dtype=float32 (created by layer 'X3')>,\n",
              " 'Y3': <KerasTensor: shape=(None, 1) dtype=float32 (created by layer 'Y3')>,\n",
              " 'X4': <KerasTensor: shape=(None, 1) dtype=float32 (created by layer 'X4')>,\n",
              " 'Y4': <KerasTensor: shape=(None, 1) dtype=float32 (created by layer 'Y4')>}"
            ]
          },
          "metadata": {},
          "execution_count": 370
        }
      ]
    },
    {
      "cell_type": "markdown",
      "metadata": {
        "id": "cFS-00sa6x52"
      },
      "source": [
        "## split these inputs into their own dictionaries based on the data type"
      ]
    },
    {
      "cell_type": "code",
      "metadata": {
        "id": "IN7O52LACZcE"
      },
      "source": [
        "float_inputs = {}\n",
        "\n",
        "for col_name, col_input in model_inputs.items():\n",
        "  \n",
        "    \n",
        "    if col_input.dtype == tf.float32:\n",
        "        float_inputs[col_name] = col_input\n",
        "    \n"
      ],
      "execution_count": 371,
      "outputs": []
    },
    {
      "cell_type": "code",
      "metadata": {
        "id": "JjSSO5srCZcQ",
        "colab": {
          "base_uri": "https://localhost:8080/"
        },
        "outputId": "a029041a-9e96-4b13-c375-07b7129867ce"
      },
      "source": [
        "float_inputs"
      ],
      "execution_count": 372,
      "outputs": [
        {
          "output_type": "execute_result",
          "data": {
            "text/plain": [
              "{'X1': <KerasTensor: shape=(None, 1) dtype=float32 (created by layer 'X1')>,\n",
              " 'Y1': <KerasTensor: shape=(None, 1) dtype=float32 (created by layer 'Y1')>,\n",
              " 'X2': <KerasTensor: shape=(None, 1) dtype=float32 (created by layer 'X2')>,\n",
              " 'Y2': <KerasTensor: shape=(None, 1) dtype=float32 (created by layer 'Y2')>,\n",
              " 'X3': <KerasTensor: shape=(None, 1) dtype=float32 (created by layer 'X3')>,\n",
              " 'Y3': <KerasTensor: shape=(None, 1) dtype=float32 (created by layer 'Y3')>,\n",
              " 'X4': <KerasTensor: shape=(None, 1) dtype=float32 (created by layer 'X4')>,\n",
              " 'Y4': <KerasTensor: shape=(None, 1) dtype=float32 (created by layer 'Y4')>}"
            ]
          },
          "metadata": {},
          "execution_count": 372
        }
      ]
    },
    {
      "cell_type": "code",
      "metadata": {
        "id": "j23p90AT4ewn"
      },
      "source": [
        "def numerical_input_processor(inputs):\n",
        "    if not inputs:\n",
        "        return\n",
        "    \n",
        "    concat = None\n",
        "    if len(inputs.values()) > 1:\n",
        "        concat = tf.keras.layers.Concatenate()(list(inputs.values()))\n",
        "    \n",
        "    norm = tf.keras.layers.experimental.preprocessing.Normalization()\n",
        "\n",
        "    for batch, _ in get_dataset(batch_size=DUMMY_BATCH_SIZE).take(1):\n",
        "        data = []\n",
        "        \n",
        "        for k in inputs.keys():\n",
        "            data.append(np.array(batch[k]))    \n",
        "        \n",
        "        data = np.array(data)\n",
        "        data = np.transpose(data)    \n",
        "\n",
        "        norm.adapt(data)\n",
        "\n",
        "    # mean_log = []\n",
        "\n",
        "    for batch, _ in get_dataset(batch_size=BATCH_SIZE):\n",
        "        data = []\n",
        "        \n",
        "        for k in inputs.keys():\n",
        "            data.append(np.array(batch[k]))    \n",
        "        \n",
        "        data = np.array(data)\n",
        "        data = np.transpose(data)\n",
        "\n",
        "        norm.adapt(data)        \n",
        "        # mean_log.append(norm.mean.numpy())    \n",
        "\n",
        "    if concat is not None:\n",
        "        numeric_layer = norm(concat)\n",
        "    else:\n",
        "        numeric_layer = norm(list(inputs.values())[0])\n",
        "    \n",
        "    return numeric_layer"
      ],
      "execution_count": 373,
      "outputs": []
    },
    {
      "cell_type": "markdown",
      "metadata": {
        "id": "Ge1EBnEH68K9"
      },
      "source": [
        "## PreProcess the inputs"
      ]
    },
    {
      "cell_type": "code",
      "metadata": {
        "id": "xVtNHVBp7AA3"
      },
      "source": [
        "float_layer = numerical_input_processor(float_inputs)"
      ],
      "execution_count": 374,
      "outputs": []
    },
    {
      "cell_type": "code",
      "metadata": {
        "id": "R9ovbxzKN3jK",
        "outputId": "d816aca0-7985-4cb8-91d9-e4edc103aa55",
        "colab": {
          "base_uri": "https://localhost:8080/"
        }
      },
      "source": [
        "float_layer"
      ],
      "execution_count": 375,
      "outputs": [
        {
          "output_type": "execute_result",
          "data": {
            "text/plain": [
              "<KerasTensor: shape=(None, 8) dtype=float32 (created by layer 'normalization_7')>"
            ]
          },
          "metadata": {},
          "execution_count": 375
        }
      ]
    },
    {
      "cell_type": "markdown",
      "metadata": {
        "id": "S2oFptl_7A3h"
      },
      "source": [
        "## add all the input layers to a list"
      ]
    },
    {
      "cell_type": "markdown",
      "metadata": {
        "id": "ft7Gxcxe7Pd-"
      },
      "source": [
        "## Create a preprocessing keras model"
      ]
    },
    {
      "cell_type": "code",
      "metadata": {
        "id": "GWljb4DECZdl"
      },
      "source": [
        "preprocessing_head = tf.keras.Model(model_inputs, float_layer)"
      ],
      "execution_count": 376,
      "outputs": []
    },
    {
      "cell_type": "code",
      "metadata": {
        "id": "9-qEvPxbCZdp",
        "outputId": "29c21aa2-84d3-468c-c7d1-bbe415e100c9",
        "colab": {
          "base_uri": "https://localhost:8080/",
          "height": 895
        }
      },
      "source": [
        "tf.keras.utils.plot_model(model = preprocessing_head, rankdir=\"LR\", dpi=72, show_shapes=True, expand_nested=True, to_file=\"preprocessing_head.png\")"
      ],
      "execution_count": 377,
      "outputs": [
        {
          "output_type": "execute_result",
          "data": {
            "image/png": "[encoded data removed]",
            "text/plain": [
              "<IPython.core.display.Image object>"
            ]
          },
          "metadata": {},
          "execution_count": 377
        }
      ]
    },
    {
      "cell_type": "markdown",
      "metadata": {
        "id": "oQQ6SIWq7Z2V"
      },
      "source": [
        "## You can also see the preprocessed outputs for the given inputs"
      ]
    },
    {
      "cell_type": "code",
      "metadata": {
        "id": "AHO9IDTlCZdu"
      },
      "source": [
        "# preprocessing_head({\n",
        "#     \"sex\" : np.array([\"male\"]),\n",
        "#     \"age\" : np.array([22.0]),\n",
        "#     \"n_siblings_spouses\" : np.array([1]),\n",
        "#     \"parch\" : np.array([0]),\n",
        "#     \"fare\" : np.array([7.25]),\n",
        "#     \"class\" : np.array([\"Third\"]),\n",
        "#     \"deck\" : np.array([\"unknown\"]),\n",
        "#     \"embark_town\" : np.array([\"Southampton\"]),\n",
        "#     \"alone\" : np.array([\"n\"]),\n",
        "# })\n",
        "\n",
        "# preprocessing_head({\n",
        "#     \"age\" : np.array([22.0]),\n",
        "#     \"fare\" : np.array([7.25]),\n",
        "# })"
      ],
      "execution_count": 378,
      "outputs": []
    },
    {
      "cell_type": "markdown",
      "metadata": {
        "id": "SrG1kKdQ7uvY"
      },
      "source": [
        "## pass the model_inputs through the preprocessing_head"
      ]
    },
    {
      "cell_type": "code",
      "metadata": {
        "id": "F8kjuAizCZd0"
      },
      "source": [
        "preprocessed_outputs = preprocessing_head(model_inputs)"
      ],
      "execution_count": 379,
      "outputs": []
    },
    {
      "cell_type": "code",
      "metadata": {
        "id": "m_tSQp_oWOxD"
      },
      "source": [
        "num_preprocessed_outputs = list(preprocessed_outputs.shape)[-1]"
      ],
      "execution_count": 380,
      "outputs": []
    },
    {
      "cell_type": "code",
      "metadata": {
        "id": "PLkpTLhkWwA-",
        "outputId": "b4ecb7e3-4761-46d6-d840-a5ea6536d366",
        "colab": {
          "base_uri": "https://localhost:8080/"
        }
      },
      "source": [
        "num_preprocessed_outputs"
      ],
      "execution_count": 381,
      "outputs": [
        {
          "output_type": "execute_result",
          "data": {
            "text/plain": [
              "8"
            ]
          },
          "metadata": {},
          "execution_count": 381
        }
      ]
    },
    {
      "cell_type": "markdown",
      "metadata": {
        "id": "rSIFV_Z379qd"
      },
      "source": [
        "## Find out how many batches should be used for training and how many for validation"
      ]
    },
    {
      "cell_type": "code",
      "metadata": {
        "id": "LMqp3rc1CZeL"
      },
      "source": [
        "dataset_size = 0\n",
        "\n",
        "for _ in get_dataset(batch_size=BATCH_SIZE):\n",
        "    dataset_size += 1"
      ],
      "execution_count": 382,
      "outputs": []
    },
    {
      "cell_type": "code",
      "metadata": {
        "id": "mbiyFVmeCZeP"
      },
      "source": [
        "train_size = int(TRAIN_FRAC * dataset_size)"
      ],
      "execution_count": 383,
      "outputs": []
    },
    {
      "cell_type": "code",
      "metadata": {
        "id": "pL6na72JCZeT",
        "outputId": "08c63226-7452-41f0-af0e-459e99f00b20",
        "colab": {
          "base_uri": "https://localhost:8080/"
        }
      },
      "source": [
        "print(dataset_size)\n",
        "print(train_size)"
      ],
      "execution_count": 384,
      "outputs": [
        {
          "output_type": "stream",
          "name": "stdout",
          "text": [
            "296\n",
            "236\n"
          ]
        }
      ]
    },
    {
      "cell_type": "markdown",
      "metadata": {
        "id": "llhVqkwX8G9S"
      },
      "source": [
        "## Split the training and validation datasets\n"
      ]
    },
    {
      "cell_type": "code",
      "metadata": {
        "id": "OkX0u5hrCZeY"
      },
      "source": [
        "dataset = get_dataset(batch_size=BATCH_SIZE)\n",
        "\n",
        "train_dataset = dataset.take(train_size)\n",
        "val_dataset = dataset.skip(train_size)"
      ],
      "execution_count": 385,
      "outputs": []
    },
    {
      "cell_type": "markdown",
      "metadata": {
        "id": "ThC1tnh38Q4j"
      },
      "source": [
        "## Set a caching mechanism that prefetches the next batch while the current batch is training"
      ]
    },
    {
      "cell_type": "code",
      "metadata": {
        "id": "ekIo_-DrCZec"
      },
      "source": [
        "AUTOTUNE = tf.data.experimental.AUTOTUNE\n",
        "\n",
        "dataset = dataset.cache().prefetch(buffer_size=AUTOTUNE)\n",
        "train_dataset = train_dataset.cache().prefetch(buffer_size=AUTOTUNE)\n",
        "val_dataset = val_dataset.cache().prefetch(buffer_size=AUTOTUNE)"
      ],
      "execution_count": 386,
      "outputs": []
    },
    {
      "cell_type": "markdown",
      "metadata": {
        "id": "fcAyAgwi8fJP"
      },
      "source": [
        "## define early stopping and checkpointing callbacks"
      ]
    },
    {
      "cell_type": "code",
      "metadata": {
        "id": "US9kyo4WCZeg"
      },
      "source": [
        "early_stopping_callback = tf.keras.callbacks.EarlyStopping(monitor='val_loss', patience=5)\n",
        "checkpoint_callback = tf.keras.callbacks.ModelCheckpoint(filepath=os.path.join(CHECKPOINT_DIR, \"M.{epoch:02d}-{val_loss:.2f}\"))"
      ],
      "execution_count": 387,
      "outputs": []
    },
    {
      "cell_type": "code",
      "metadata": {
        "id": "nv-2T0XNCZej"
      },
      "source": [
        "callbacks = [\n",
        "    early_stopping_callback,\n",
        "    checkpoint_callback,\n",
        "]"
      ],
      "execution_count": 388,
      "outputs": []
    },
    {
      "cell_type": "code",
      "metadata": {
        "id": "3X4ZACIeCZeo"
      },
      "source": [
        "class ClearTrainingOutput(tf.keras.callbacks.Callback):\n",
        "    def on_train_end(*args, **kwargs):\n",
        "        IPython.display.clear_output(wait = True)"
      ],
      "execution_count": 389,
      "outputs": []
    },
    {
      "cell_type": "markdown",
      "metadata": {
        "id": "_OwVCPhw8opd"
      },
      "source": [
        "## model builder function is used by keras-tuner to find the best parameters for a model"
      ]
    },
    {
      "cell_type": "code",
      "metadata": {
        "id": "oGy3Grk2CZeA"
      },
      "source": [
        "def model_builder(hp):\n",
        "    loss_fn = {'xv_output': 'mse', 'yv_output': 'mse'}\n",
        "\n",
        "    metrics={'xv_output':tf.keras.metrics.RootMeanSquaredError(), 'yv_output':tf.keras.metrics.RootMeanSquaredError()}\n",
        " \n",
        "    kernel_hp = hp.Choice('kernel_regularization', values = [0.01, 0.001, 0.0001, 0.00001])\n",
        "    activation_hp = hp.Choice(\"activation\", values=[\"elu\", \"relu\"])\n",
        "    lr_schedule = tf.keras.optimizers.schedules.InverseTimeDecay(\n",
        "        0.01,\n",
        "        decay_steps=train_size*1000,\n",
        "        decay_rate=1,\n",
        "        staircase=False\n",
        "    )\n",
        "\n",
        "    first_dense = tf.keras.layers.Dense(units='8', activation='relu')(model_inputs)\n",
        "    \n",
        "    # XV output will be fed from the first dense\n",
        "    xv_output = tf.keras.layers.Dense(units='1', name='xv_output')(first_dense)\n",
        "    \n",
        "    second_dense = tf.keras.layers.Dense(units='8',activation='relu')(first_dense)\n",
        "    \n",
        "    # YV output will be fed from the second dense\n",
        "    yv_output = tf.keras.layers.Dense(units='1',name='yv_output')(second_dense)\n",
        "\n",
        "    \n",
        "    model = tf.keras.Model(inputs = model_inputs, outputs = [xv_output, yv_output])\n",
        "    \n",
        "    model.compile(loss=loss_fn, \n",
        "                  optimizer=tf.keras.optimizers.Adam(learning_rate = lr_schedule),\n",
        "                  metrics=metrics\n",
        "    )\n",
        "  \n",
        "    return model\n",
        "\n"
      ],
      "execution_count": 390,
      "outputs": []
    },
    {
      "cell_type": "markdown",
      "metadata": {
        "id": "P2o1-WvS8_Mn"
      },
      "source": [
        "## initialize keras tuner"
      ]
    },
    {
      "cell_type": "code",
      "metadata": {
        "id": "zLobV8LzCZes",
        "outputId": "dea1859c-eb5c-4c4f-b332-97503750642f",
        "colab": {
          "base_uri": "https://localhost:8080/",
          "height": 381
        }
      },
      "source": [
        "tuner = kt.Hyperband(model_builder,\n",
        "                     objective = 'val_loss', \n",
        "                     max_epochs = 10,\n",
        "                     factor = 3,\n",
        "                     directory = 'tuner_dir',\n",
        "                     project_name = 'tuner')"
      ],
      "execution_count": 391,
      "outputs": [
        {
          "output_type": "error",
          "ename": "ValueError",
          "evalue": "ignored",
          "traceback": [
            "\u001b[0;31m---------------------------------------------------------------------------\u001b[0m",
            "\u001b[0;31mValueError\u001b[0m                                Traceback (most recent call last)",
            "\u001b[0;32m<ipython-input-391-c4ed15ad78ab>\u001b[0m in \u001b[0;36m<module>\u001b[0;34m\u001b[0m\n\u001b[1;32m      4\u001b[0m                      \u001b[0mfactor\u001b[0m \u001b[0;34m=\u001b[0m \u001b[0;36m3\u001b[0m\u001b[0;34m,\u001b[0m\u001b[0;34m\u001b[0m\u001b[0;34m\u001b[0m\u001b[0m\n\u001b[1;32m      5\u001b[0m                      \u001b[0mdirectory\u001b[0m \u001b[0;34m=\u001b[0m \u001b[0;34m'tuner_dir'\u001b[0m\u001b[0;34m,\u001b[0m\u001b[0;34m\u001b[0m\u001b[0;34m\u001b[0m\u001b[0m\n\u001b[0;32m----> 6\u001b[0;31m                      project_name = 'tuner')\n\u001b[0m",
            "\u001b[0;32m/usr/local/lib/python3.7/dist-packages/keras_tuner/tuners/hyperband.py\u001b[0m in \u001b[0;36m__init__\u001b[0;34m(self, hypermodel, objective, max_epochs, factor, hyperband_iterations, seed, hyperparameters, tune_new_entries, allow_new_entries, **kwargs)\u001b[0m\n\u001b[1;32m    374\u001b[0m         )\n\u001b[1;32m    375\u001b[0m         super(Hyperband, self).__init__(\n\u001b[0;32m--> 376\u001b[0;31m             \u001b[0moracle\u001b[0m\u001b[0;34m=\u001b[0m\u001b[0moracle\u001b[0m\u001b[0;34m,\u001b[0m \u001b[0mhypermodel\u001b[0m\u001b[0;34m=\u001b[0m\u001b[0mhypermodel\u001b[0m\u001b[0;34m,\u001b[0m \u001b[0;34m**\u001b[0m\u001b[0mkwargs\u001b[0m\u001b[0;34m\u001b[0m\u001b[0;34m\u001b[0m\u001b[0m\n\u001b[0m\u001b[1;32m    377\u001b[0m         )\n\u001b[1;32m    378\u001b[0m \u001b[0;34m\u001b[0m\u001b[0m\n",
            "\u001b[0;32m/usr/local/lib/python3.7/dist-packages/keras_tuner/engine/tuner.py\u001b[0m in \u001b[0;36m__init__\u001b[0;34m(self, oracle, hypermodel, max_model_size, optimizer, loss, metrics, distribution_strategy, directory, project_name, logger, tuner_id, overwrite, executions_per_trial)\u001b[0m\n\u001b[1;32m    114\u001b[0m             \u001b[0mproject_name\u001b[0m\u001b[0;34m=\u001b[0m\u001b[0mproject_name\u001b[0m\u001b[0;34m,\u001b[0m\u001b[0;34m\u001b[0m\u001b[0;34m\u001b[0m\u001b[0m\n\u001b[1;32m    115\u001b[0m             \u001b[0mlogger\u001b[0m\u001b[0;34m=\u001b[0m\u001b[0mlogger\u001b[0m\u001b[0;34m,\u001b[0m\u001b[0;34m\u001b[0m\u001b[0;34m\u001b[0m\u001b[0m\n\u001b[0;32m--> 116\u001b[0;31m             \u001b[0moverwrite\u001b[0m\u001b[0;34m=\u001b[0m\u001b[0moverwrite\u001b[0m\u001b[0;34m,\u001b[0m\u001b[0;34m\u001b[0m\u001b[0;34m\u001b[0m\u001b[0m\n\u001b[0m\u001b[1;32m    117\u001b[0m         )\n\u001b[1;32m    118\u001b[0m \u001b[0;34m\u001b[0m\u001b[0m\n",
            "\u001b[0;32m/usr/local/lib/python3.7/dist-packages/keras_tuner/engine/base_tuner.py\u001b[0m in \u001b[0;36m__init__\u001b[0;34m(self, oracle, hypermodel, directory, project_name, logger, overwrite)\u001b[0m\n\u001b[1;32m    101\u001b[0m         \u001b[0mself\u001b[0m\u001b[0;34m.\u001b[0m\u001b[0m_display\u001b[0m \u001b[0;34m=\u001b[0m \u001b[0mtuner_utils\u001b[0m\u001b[0;34m.\u001b[0m\u001b[0mDisplay\u001b[0m\u001b[0;34m(\u001b[0m\u001b[0moracle\u001b[0m\u001b[0;34m=\u001b[0m\u001b[0mself\u001b[0m\u001b[0;34m.\u001b[0m\u001b[0moracle\u001b[0m\u001b[0;34m)\u001b[0m\u001b[0;34m\u001b[0m\u001b[0;34m\u001b[0m\u001b[0m\n\u001b[1;32m    102\u001b[0m \u001b[0;34m\u001b[0m\u001b[0m\n\u001b[0;32m--> 103\u001b[0;31m         \u001b[0mself\u001b[0m\u001b[0;34m.\u001b[0m\u001b[0m_populate_initial_space\u001b[0m\u001b[0;34m(\u001b[0m\u001b[0;34m)\u001b[0m\u001b[0;34m\u001b[0m\u001b[0;34m\u001b[0m\u001b[0m\n\u001b[0m\u001b[1;32m    104\u001b[0m \u001b[0;34m\u001b[0m\u001b[0m\n\u001b[1;32m    105\u001b[0m         \u001b[0;32mif\u001b[0m \u001b[0;32mnot\u001b[0m \u001b[0moverwrite\u001b[0m \u001b[0;32mand\u001b[0m \u001b[0mtf\u001b[0m\u001b[0;34m.\u001b[0m\u001b[0mio\u001b[0m\u001b[0;34m.\u001b[0m\u001b[0mgfile\u001b[0m\u001b[0;34m.\u001b[0m\u001b[0mexists\u001b[0m\u001b[0;34m(\u001b[0m\u001b[0mself\u001b[0m\u001b[0;34m.\u001b[0m\u001b[0m_get_tuner_fname\u001b[0m\u001b[0;34m(\u001b[0m\u001b[0;34m)\u001b[0m\u001b[0;34m)\u001b[0m\u001b[0;34m:\u001b[0m\u001b[0;34m\u001b[0m\u001b[0;34m\u001b[0m\u001b[0m\n",
            "\u001b[0;32m/usr/local/lib/python3.7/dist-packages/keras_tuner/engine/base_tuner.py\u001b[0m in \u001b[0;36m_populate_initial_space\u001b[0;34m(self)\u001b[0m\n\u001b[1;32m    133\u001b[0m \u001b[0;34m\u001b[0m\u001b[0m\n\u001b[1;32m    134\u001b[0m             \u001b[0;32mwhile\u001b[0m \u001b[0;32mTrue\u001b[0m\u001b[0;34m:\u001b[0m\u001b[0;34m\u001b[0m\u001b[0;34m\u001b[0m\u001b[0m\n\u001b[0;32m--> 135\u001b[0;31m                 \u001b[0mself\u001b[0m\u001b[0;34m.\u001b[0m\u001b[0mhypermodel\u001b[0m\u001b[0;34m.\u001b[0m\u001b[0mbuild\u001b[0m\u001b[0;34m(\u001b[0m\u001b[0mhp\u001b[0m\u001b[0;34m)\u001b[0m\u001b[0;34m\u001b[0m\u001b[0;34m\u001b[0m\u001b[0m\n\u001b[0m\u001b[1;32m    136\u001b[0m \u001b[0;34m\u001b[0m\u001b[0m\n\u001b[1;32m    137\u001b[0m                 \u001b[0;31m# Update the recored scopes.\u001b[0m\u001b[0;34m\u001b[0m\u001b[0;34m\u001b[0m\u001b[0;34m\u001b[0m\u001b[0m\n",
            "\u001b[0;32m<ipython-input-390-f20cc2178d94>\u001b[0m in \u001b[0;36mmodel_builder\u001b[0;34m(hp)\u001b[0m\n\u001b[1;32m     13\u001b[0m     )\n\u001b[1;32m     14\u001b[0m \u001b[0;34m\u001b[0m\u001b[0m\n\u001b[0;32m---> 15\u001b[0;31m     \u001b[0mfirst_dense\u001b[0m \u001b[0;34m=\u001b[0m \u001b[0mtf\u001b[0m\u001b[0;34m.\u001b[0m\u001b[0mkeras\u001b[0m\u001b[0;34m.\u001b[0m\u001b[0mlayers\u001b[0m\u001b[0;34m.\u001b[0m\u001b[0mDense\u001b[0m\u001b[0;34m(\u001b[0m\u001b[0munits\u001b[0m\u001b[0;34m=\u001b[0m\u001b[0;34m'8'\u001b[0m\u001b[0;34m,\u001b[0m \u001b[0mactivation\u001b[0m\u001b[0;34m=\u001b[0m\u001b[0;34m'relu'\u001b[0m\u001b[0;34m)\u001b[0m\u001b[0;34m(\u001b[0m\u001b[0mmodel_inputs\u001b[0m\u001b[0;34m)\u001b[0m\u001b[0;34m\u001b[0m\u001b[0;34m\u001b[0m\u001b[0m\n\u001b[0m\u001b[1;32m     16\u001b[0m \u001b[0;34m\u001b[0m\u001b[0m\n\u001b[1;32m     17\u001b[0m     \u001b[0;31m# XV output will be fed from the first dense\u001b[0m\u001b[0;34m\u001b[0m\u001b[0;34m\u001b[0m\u001b[0;34m\u001b[0m\u001b[0m\n",
            "\u001b[0;32m/usr/local/lib/python3.7/dist-packages/keras/utils/traceback_utils.py\u001b[0m in \u001b[0;36merror_handler\u001b[0;34m(*args, **kwargs)\u001b[0m\n\u001b[1;32m     65\u001b[0m     \u001b[0;32mexcept\u001b[0m \u001b[0mException\u001b[0m \u001b[0;32mas\u001b[0m \u001b[0me\u001b[0m\u001b[0;34m:\u001b[0m  \u001b[0;31m# pylint: disable=broad-except\u001b[0m\u001b[0;34m\u001b[0m\u001b[0;34m\u001b[0m\u001b[0m\n\u001b[1;32m     66\u001b[0m       \u001b[0mfiltered_tb\u001b[0m \u001b[0;34m=\u001b[0m \u001b[0m_process_traceback_frames\u001b[0m\u001b[0;34m(\u001b[0m\u001b[0me\u001b[0m\u001b[0;34m.\u001b[0m\u001b[0m__traceback__\u001b[0m\u001b[0;34m)\u001b[0m\u001b[0;34m\u001b[0m\u001b[0;34m\u001b[0m\u001b[0m\n\u001b[0;32m---> 67\u001b[0;31m       \u001b[0;32mraise\u001b[0m \u001b[0me\u001b[0m\u001b[0;34m.\u001b[0m\u001b[0mwith_traceback\u001b[0m\u001b[0;34m(\u001b[0m\u001b[0mfiltered_tb\u001b[0m\u001b[0;34m)\u001b[0m \u001b[0;32mfrom\u001b[0m \u001b[0;32mNone\u001b[0m\u001b[0;34m\u001b[0m\u001b[0;34m\u001b[0m\u001b[0m\n\u001b[0m\u001b[1;32m     68\u001b[0m     \u001b[0;32mfinally\u001b[0m\u001b[0;34m:\u001b[0m\u001b[0;34m\u001b[0m\u001b[0;34m\u001b[0m\u001b[0m\n\u001b[1;32m     69\u001b[0m       \u001b[0;32mdel\u001b[0m \u001b[0mfiltered_tb\u001b[0m\u001b[0;34m\u001b[0m\u001b[0;34m\u001b[0m\u001b[0m\n",
            "\u001b[0;32m/usr/local/lib/python3.7/dist-packages/keras/engine/input_spec.py\u001b[0m in \u001b[0;36massert_input_compatibility\u001b[0;34m(input_spec, inputs, layer_name)\u001b[0m\n\u001b[1;32m    198\u001b[0m \u001b[0;34m\u001b[0m\u001b[0m\n\u001b[1;32m    199\u001b[0m   \u001b[0;32mif\u001b[0m \u001b[0mlen\u001b[0m\u001b[0;34m(\u001b[0m\u001b[0minputs\u001b[0m\u001b[0;34m)\u001b[0m \u001b[0;34m!=\u001b[0m \u001b[0mlen\u001b[0m\u001b[0;34m(\u001b[0m\u001b[0minput_spec\u001b[0m\u001b[0;34m)\u001b[0m\u001b[0;34m:\u001b[0m\u001b[0;34m\u001b[0m\u001b[0;34m\u001b[0m\u001b[0m\n\u001b[0;32m--> 200\u001b[0;31m     raise ValueError(f'Layer \"{layer_name}\" expects {len(input_spec)} input(s),'\n\u001b[0m\u001b[1;32m    201\u001b[0m                      \u001b[0;34mf' but it received {len(inputs)} input tensors. '\u001b[0m\u001b[0;34m\u001b[0m\u001b[0;34m\u001b[0m\u001b[0m\n\u001b[1;32m    202\u001b[0m                      f'Inputs received: {inputs}')\n",
            "\u001b[0;31mValueError\u001b[0m: Layer \"dense_33\" expects 1 input(s), but it received 8 input tensors. Inputs received: [<tf.Tensor 'Placeholder:0' shape=(None, 1) dtype=float32>, <tf.Tensor 'Placeholder_1:0' shape=(None, 1) dtype=float32>, <tf.Tensor 'Placeholder_2:0' shape=(None, 1) dtype=float32>, <tf.Tensor 'Placeholder_3:0' shape=(None, 1) dtype=float32>, <tf.Tensor 'Placeholder_4:0' shape=(None, 1) dtype=float32>, <tf.Tensor 'Placeholder_5:0' shape=(None, 1) dtype=float32>, <tf.Tensor 'Placeholder_6:0' shape=(None, 1) dtype=float32>, <tf.Tensor 'Placeholder_7:0' shape=(None, 1) dtype=float32>]"
          ]
        }
      ]
    },
    {
      "cell_type": "code",
      "metadata": {
        "id": "NukptGVuCZex"
      },
      "source": [
        "tuner.search(\n",
        "    train_dataset, \n",
        "    validation_data=val_dataset,\n",
        "    epochs=10,\n",
        "    callbacks = [ClearTrainingOutput()]\n",
        ")"
      ],
      "execution_count": null,
      "outputs": []
    },
    {
      "cell_type": "code",
      "metadata": {
        "id": "n6zEHAuTCZe1"
      },
      "source": [
        "best_hps = tuner.get_best_hyperparameters(num_trials = 1)[0]"
      ],
      "execution_count": null,
      "outputs": []
    },
    {
      "cell_type": "markdown",
      "metadata": {
        "id": "FC-QWd_s9E_P"
      },
      "source": [
        "## These are the best model parameters"
      ]
    },
    {
      "cell_type": "code",
      "metadata": {
        "id": "3SfHTkWjCZe5"
      },
      "source": [
        "best_hps.values"
      ],
      "execution_count": null,
      "outputs": []
    },
    {
      "cell_type": "code",
      "metadata": {
        "id": "kKlcMuIjCZe9"
      },
      "source": [
        "model = tuner.hypermodel.build(best_hps)"
      ],
      "execution_count": null,
      "outputs": []
    },
    {
      "cell_type": "code",
      "metadata": {
        "id": "8dvmajfwCZfD"
      },
      "source": [
        "model.summary()"
      ],
      "execution_count": null,
      "outputs": []
    },
    {
      "cell_type": "code",
      "metadata": {
        "id": "bZxzMXvcCZfI"
      },
      "source": [
        "tf.keras.utils.plot_model(model = model, rankdir=\"LR\", dpi=96, show_shapes=True, expand_nested=True, to_file=\"model.png\")"
      ],
      "execution_count": null,
      "outputs": []
    },
    {
      "cell_type": "markdown",
      "metadata": {
        "id": "5YtdM9SS9Owf"
      },
      "source": [
        "## Find out training and validation losses with untrained model"
      ]
    },
    {
      "cell_type": "code",
      "metadata": {
        "id": "a8s4BwAZCZfM"
      },
      "source": [
        "# loss with un-trained model\n",
        "model.evaluate(train_dataset)"
      ],
      "execution_count": null,
      "outputs": []
    },
    {
      "cell_type": "code",
      "metadata": {
        "id": "k8cfLHi4CZfS"
      },
      "source": [
        "# val_loss with un-trained model\n",
        "model.evaluate(val_dataset)"
      ],
      "execution_count": null,
      "outputs": []
    },
    {
      "cell_type": "markdown",
      "metadata": {
        "id": "SL902YSw9WgM"
      },
      "source": [
        "## Train the model"
      ]
    },
    {
      "cell_type": "code",
      "metadata": {
        "scrolled": false,
        "id": "uRnEVasXCZfX"
      },
      "source": [
        "history = model.fit(\n",
        "    train_dataset, \n",
        "    validation_data=val_dataset,\n",
        "    callbacks=callbacks,\n",
        "    epochs=EPOCHS)"
      ],
      "execution_count": null,
      "outputs": []
    },
    {
      "cell_type": "markdown",
      "metadata": {
        "id": "E5MEaYxH9a40"
      },
      "source": [
        "## Find out training and validation losses with trained model"
      ]
    },
    {
      "cell_type": "code",
      "metadata": {
        "id": "fbsZlC7LCZfb"
      },
      "source": [
        "# loss with trained model\n",
        "model.evaluate(train_dataset)"
      ],
      "execution_count": null,
      "outputs": []
    },
    {
      "cell_type": "code",
      "metadata": {
        "id": "4k7dH2YgCZfg"
      },
      "source": [
        "# val_loss with trained model\n",
        "model.evaluate(val_dataset)"
      ],
      "execution_count": null,
      "outputs": []
    },
    {
      "cell_type": "code",
      "metadata": {
        "id": "tH3I7X3VCZfj"
      },
      "source": [
        "def plot_loss(history):\n",
        "    plt.plot(history.history['loss'], label='loss')\n",
        "    plt.plot(history.history['val_loss'], label='val_loss')\n",
        "    plt.xlabel('Epoch')\n",
        "    plt.ylabel('Error')\n",
        "    plt.legend()\n",
        "    plt.grid(True)"
      ],
      "execution_count": null,
      "outputs": []
    },
    {
      "cell_type": "code",
      "metadata": {
        "id": "qawO4E_sCZfn"
      },
      "source": [
        "plot_loss(history)"
      ],
      "execution_count": null,
      "outputs": []
    },
    {
      "cell_type": "code",
      "metadata": {
        "id": "caSpNHWBCZfq"
      },
      "source": [
        "def plot_acc(history):\n",
        "    plt.plot(history.history['accuracy'], label='accuracy')\n",
        "    plt.plot(history.history['val_accuracy'], label='val_accuracy')\n",
        "    plt.xlabel('Epoch')\n",
        "    plt.ylabel('accuracy')\n",
        "    plt.legend()\n",
        "    plt.grid(True)"
      ],
      "execution_count": null,
      "outputs": []
    },
    {
      "cell_type": "code",
      "metadata": {
        "id": "3XgjeDoQCZfv"
      },
      "source": [
        "if TASK == \"c\":\n",
        "    plot_acc(history)"
      ],
      "execution_count": null,
      "outputs": []
    },
    {
      "cell_type": "markdown",
      "metadata": {
        "id": "9wAqQthi-RS_"
      },
      "source": [
        "## Test the model on some dummy data"
      ]
    },
    {
      "cell_type": "code",
      "metadata": {
        "id": "1SARRjv3CZf3"
      },
      "source": [
        "# model.predict({\n",
        "#     \"sex\" : np.array([\"male\"]),\n",
        "#     \"age\" : np.array([22.0]),\n",
        "#     \"n_siblings_spouses\" : np.array([1]),\n",
        "#     \"parch\" : np.array([0]),\n",
        "#     \"fare\" : np.array([7.25]),\n",
        "#     \"class\" : np.array([\"Third\"]),\n",
        "#     \"deck\" : np.array([\"unknown\"]),\n",
        "#     \"embark_town\" : np.array([\"Southampton\"]),\n",
        "#     \"alone\" : np.array([\"n\"]),\n",
        "# })"
      ],
      "execution_count": null,
      "outputs": []
    },
    {
      "cell_type": "code",
      "metadata": {
        "id": "bPl-FWY9CZf8"
      },
      "source": [
        "# reloaded = tf.keras.models.load_model(\"models/titanic_model.24-1610.52\")"
      ],
      "execution_count": null,
      "outputs": []
    },
    {
      "cell_type": "code",
      "metadata": {
        "id": "FIMEv9r_CZgB"
      },
      "source": [
        "# reloaded.evaluate(train_dataset)"
      ],
      "execution_count": null,
      "outputs": []
    },
    {
      "cell_type": "code",
      "metadata": {
        "id": "A75qm1uPCZgG"
      },
      "source": [
        "# reloaded.evaluate(val_dataset)"
      ],
      "execution_count": null,
      "outputs": []
    }
  ]
}