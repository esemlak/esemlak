{
  "nbformat": 4,
  "nbformat_minor": 0,
  "metadata": {
    "kernelspec": {
      "display_name": "Python 3",
      "language": "python",
      "name": "python3"
    },
    "language_info": {
      "codemirror_mode": {
        "name": "ipython",
        "version": 3
      },
      "file_extension": ".py",
      "mimetype": "text/x-python",
      "name": "python",
      "nbconvert_exporter": "python",
      "pygments_lexer": "ipython3",
      "version": "3.8.5"
    },
    "colab": {
      "provenance": [],
      "collapsed_sections": [],
      "include_colab_link": true
    },
    "accelerator": "GPU"
  },
  "cells": [
    {
      "cell_type": "markdown",
      "metadata": {
        "id": "view-in-github",
        "colab_type": "text"
      },
      "source": [
        "<a href=\"https://colab.research.google.com/github/esemlak/esemlak/blob/main/Copy_of_V2_general_purpose_csv_tensorflow_model_trainer.ipynb\" target=\"_parent\"><img src=\"https://colab.research.google.com/assets/colab-badge.svg\" alt=\"Open In Colab\"/></a>"
      ]
    },
    {
      "cell_type": "code",
      "metadata": {
        "id": "toCaSzfhLJTl",
        "colab": {
          "base_uri": "https://localhost:8080/"
        },
        "outputId": "768aaca9-95a7-4e23-84a6-c4f12b82c155"
      },
      "source": [
        "#! unzip /content/colab_train.zip\n",
        "!pip3 install keras-tuner"
      ],
      "execution_count": 10,
      "outputs": [
        {
          "output_type": "stream",
          "name": "stdout",
          "text": [
            "Looking in indexes: https://pypi.org/simple, https://us-python.pkg.dev/colab-wheels/public/simple/\n",
            "Requirement already satisfied: keras-tuner in /usr/local/lib/python3.7/dist-packages (1.1.3)\n",
            "Requirement already satisfied: requests in /usr/local/lib/python3.7/dist-packages (from keras-tuner) (2.23.0)\n",
            "Requirement already satisfied: tensorboard in /usr/local/lib/python3.7/dist-packages (from keras-tuner) (2.8.0)\n",
            "Requirement already satisfied: numpy in /usr/local/lib/python3.7/dist-packages (from keras-tuner) (1.21.6)\n",
            "Requirement already satisfied: ipython in /usr/local/lib/python3.7/dist-packages (from keras-tuner) (7.9.0)\n",
            "Requirement already satisfied: packaging in /usr/local/lib/python3.7/dist-packages (from keras-tuner) (21.3)\n",
            "Requirement already satisfied: kt-legacy in /usr/local/lib/python3.7/dist-packages (from keras-tuner) (1.0.4)\n",
            "Requirement already satisfied: pickleshare in /usr/local/lib/python3.7/dist-packages (from ipython->keras-tuner) (0.7.5)\n",
            "Requirement already satisfied: jedi>=0.10 in /usr/local/lib/python3.7/dist-packages (from ipython->keras-tuner) (0.18.1)\n",
            "Requirement already satisfied: prompt-toolkit<2.1.0,>=2.0.0 in /usr/local/lib/python3.7/dist-packages (from ipython->keras-tuner) (2.0.10)\n",
            "Requirement already satisfied: pygments in /usr/local/lib/python3.7/dist-packages (from ipython->keras-tuner) (2.6.1)\n",
            "Requirement already satisfied: traitlets>=4.2 in /usr/local/lib/python3.7/dist-packages (from ipython->keras-tuner) (5.1.1)\n",
            "Requirement already satisfied: pexpect in /usr/local/lib/python3.7/dist-packages (from ipython->keras-tuner) (4.8.0)\n",
            "Requirement already satisfied: decorator in /usr/local/lib/python3.7/dist-packages (from ipython->keras-tuner) (4.4.2)\n",
            "Requirement already satisfied: setuptools>=18.5 in /usr/local/lib/python3.7/dist-packages (from ipython->keras-tuner) (57.4.0)\n",
            "Requirement already satisfied: backcall in /usr/local/lib/python3.7/dist-packages (from ipython->keras-tuner) (0.2.0)\n",
            "Requirement already satisfied: parso<0.9.0,>=0.8.0 in /usr/local/lib/python3.7/dist-packages (from jedi>=0.10->ipython->keras-tuner) (0.8.3)\n",
            "Requirement already satisfied: six>=1.9.0 in /usr/local/lib/python3.7/dist-packages (from prompt-toolkit<2.1.0,>=2.0.0->ipython->keras-tuner) (1.15.0)\n",
            "Requirement already satisfied: wcwidth in /usr/local/lib/python3.7/dist-packages (from prompt-toolkit<2.1.0,>=2.0.0->ipython->keras-tuner) (0.2.5)\n",
            "Requirement already satisfied: pyparsing!=3.0.5,>=2.0.2 in /usr/local/lib/python3.7/dist-packages (from packaging->keras-tuner) (3.0.9)\n",
            "Requirement already satisfied: ptyprocess>=0.5 in /usr/local/lib/python3.7/dist-packages (from pexpect->ipython->keras-tuner) (0.7.0)\n",
            "Requirement already satisfied: urllib3!=1.25.0,!=1.25.1,<1.26,>=1.21.1 in /usr/local/lib/python3.7/dist-packages (from requests->keras-tuner) (1.24.3)\n",
            "Requirement already satisfied: chardet<4,>=3.0.2 in /usr/local/lib/python3.7/dist-packages (from requests->keras-tuner) (3.0.4)\n",
            "Requirement already satisfied: certifi>=2017.4.17 in /usr/local/lib/python3.7/dist-packages (from requests->keras-tuner) (2022.6.15)\n",
            "Requirement already satisfied: idna<3,>=2.5 in /usr/local/lib/python3.7/dist-packages (from requests->keras-tuner) (2.10)\n",
            "Requirement already satisfied: tensorboard-data-server<0.7.0,>=0.6.0 in /usr/local/lib/python3.7/dist-packages (from tensorboard->keras-tuner) (0.6.1)\n",
            "Requirement already satisfied: grpcio>=1.24.3 in /usr/local/lib/python3.7/dist-packages (from tensorboard->keras-tuner) (1.48.1)\n",
            "Requirement already satisfied: absl-py>=0.4 in /usr/local/lib/python3.7/dist-packages (from tensorboard->keras-tuner) (1.2.0)\n",
            "Requirement already satisfied: werkzeug>=0.11.15 in /usr/local/lib/python3.7/dist-packages (from tensorboard->keras-tuner) (1.0.1)\n",
            "Requirement already satisfied: google-auth<3,>=1.6.3 in /usr/local/lib/python3.7/dist-packages (from tensorboard->keras-tuner) (1.35.0)\n",
            "Requirement already satisfied: tensorboard-plugin-wit>=1.6.0 in /usr/local/lib/python3.7/dist-packages (from tensorboard->keras-tuner) (1.8.1)\n",
            "Requirement already satisfied: wheel>=0.26 in /usr/local/lib/python3.7/dist-packages (from tensorboard->keras-tuner) (0.37.1)\n",
            "Requirement already satisfied: google-auth-oauthlib<0.5,>=0.4.1 in /usr/local/lib/python3.7/dist-packages (from tensorboard->keras-tuner) (0.4.6)\n",
            "Requirement already satisfied: markdown>=2.6.8 in /usr/local/lib/python3.7/dist-packages (from tensorboard->keras-tuner) (3.4.1)\n",
            "Requirement already satisfied: protobuf>=3.6.0 in /usr/local/lib/python3.7/dist-packages (from tensorboard->keras-tuner) (3.17.3)\n",
            "Requirement already satisfied: pyasn1-modules>=0.2.1 in /usr/local/lib/python3.7/dist-packages (from google-auth<3,>=1.6.3->tensorboard->keras-tuner) (0.2.8)\n",
            "Requirement already satisfied: rsa<5,>=3.1.4 in /usr/local/lib/python3.7/dist-packages (from google-auth<3,>=1.6.3->tensorboard->keras-tuner) (4.9)\n",
            "Requirement already satisfied: cachetools<5.0,>=2.0.0 in /usr/local/lib/python3.7/dist-packages (from google-auth<3,>=1.6.3->tensorboard->keras-tuner) (4.2.4)\n",
            "Requirement already satisfied: requests-oauthlib>=0.7.0 in /usr/local/lib/python3.7/dist-packages (from google-auth-oauthlib<0.5,>=0.4.1->tensorboard->keras-tuner) (1.3.1)\n",
            "Requirement already satisfied: importlib-metadata>=4.4 in /usr/local/lib/python3.7/dist-packages (from markdown>=2.6.8->tensorboard->keras-tuner) (4.12.0)\n",
            "Requirement already satisfied: typing-extensions>=3.6.4 in /usr/local/lib/python3.7/dist-packages (from importlib-metadata>=4.4->markdown>=2.6.8->tensorboard->keras-tuner) (4.1.1)\n",
            "Requirement already satisfied: zipp>=0.5 in /usr/local/lib/python3.7/dist-packages (from importlib-metadata>=4.4->markdown>=2.6.8->tensorboard->keras-tuner) (3.8.1)\n",
            "Requirement already satisfied: pyasn1<0.5.0,>=0.4.6 in /usr/local/lib/python3.7/dist-packages (from pyasn1-modules>=0.2.1->google-auth<3,>=1.6.3->tensorboard->keras-tuner) (0.4.8)\n",
            "Requirement already satisfied: oauthlib>=3.0.0 in /usr/local/lib/python3.7/dist-packages (from requests-oauthlib>=0.7.0->google-auth-oauthlib<0.5,>=0.4.1->tensorboard->keras-tuner) (3.2.0)\n"
          ]
        }
      ]
    },
    {
      "cell_type": "code",
      "metadata": {
        "id": "BSFP3qG8woJK"
      },
      "source": [
        "DATASET_PATH = \"/content/colab_train.csv\"\n",
        "LABEL_NAME = \"SCORE\"\n",
        "\n",
        "# \"r\" for regression and \"c\" for classification\n",
        "# for classification, the number of output nodes is automatically determined\n",
        "TASK = \"r\"\n",
        "\n",
        "# don't change the dummy batch size. There is a small bug in tensorflow.\n",
        "# to get around that bug, dummy batch size is used\n",
        "DUMMY_BATCH_SIZE = 5\n",
        "BATCH_SIZE = 100\n",
        "EPOCHS = 100\n",
        "TRAIN_FRAC = 0.8\n",
        "\n",
        "CHECKPOINT_DIR = \"/content/\""
      ],
      "execution_count": 11,
      "outputs": []
    },
    {
      "cell_type": "code",
      "metadata": {
        "id": "ZVR1nxboHX45"
      },
      "source": [],
      "execution_count": 11,
      "outputs": []
    },
    {
      "cell_type": "code",
      "metadata": {
        "id": "hY-_wPnaCZbp"
      },
      "source": [
        "from collections import defaultdict\n",
        "import os\n",
        "\n",
        "import numpy as np\n",
        "import matplotlib.pyplot as plt\n",
        "\n",
        "import tensorflow as tf\n",
        "import kerastuner as kt\n",
        "\n",
        "import IPython"
      ],
      "execution_count": 12,
      "outputs": []
    },
    {
      "cell_type": "markdown",
      "metadata": {
        "id": "lgbYDOHe0pu3"
      },
      "source": [
        "# This function will give us a fresh dataset object"
      ]
    },
    {
      "cell_type": "code",
      "metadata": {
        "id": "FocJZX8lCZbw"
      },
      "source": [
        "def get_dataset(batch_size = 5):\n",
        "    return tf.data.experimental.make_csv_dataset(\n",
        "        DATASET_PATH,\n",
        "        batch_size = batch_size,\n",
        "        label_name = LABEL_NAME,\n",
        "        num_epochs = 1\n",
        "    )"
      ],
      "execution_count": 13,
      "outputs": []
    },
    {
      "cell_type": "markdown",
      "metadata": {
        "id": "XwNYZ_TOIPRJ"
      },
      "source": [
        "# If classification, Find Number of labels (for output nodes)"
      ]
    },
    {
      "cell_type": "code",
      "metadata": {
        "id": "7GAe3626H0f7",
        "colab": {
          "base_uri": "https://localhost:8080/"
        },
        "outputId": "e6c51abd-b51d-4b52-cfcd-1260c67370e7"
      },
      "source": [
        "if TASK == \"r\":\n",
        "    OUTPUT_NODES = 1\n",
        "\n",
        "elif TASK == \"c\":\n",
        "    unique_labels = set()\n",
        "\n",
        "    for _, label in get_dataset(batch_size=BATCH_SIZE):\n",
        "        for ele in label.numpy():\n",
        "            unique_labels.add(ele)\n",
        "\n",
        "    num_labels = len(unique_labels)\n",
        "\n",
        "    if num_labels <= 2:\n",
        "        OUTPUT_NODES = 1\n",
        "    else:\n",
        "        OUTPUT_NODES = num_labels\n",
        "    \n",
        "    print(unique_labels)\n",
        "\n",
        "print(\"output nodes: \", OUTPUT_NODES)"
      ],
      "execution_count": 14,
      "outputs": [
        {
          "output_type": "stream",
          "name": "stdout",
          "text": [
            "output nodes:  1\n"
          ]
        }
      ]
    },
    {
      "cell_type": "markdown",
      "metadata": {
        "id": "Gi8fUZj40yG1"
      },
      "source": [
        "# Creating the Model Inputs as a dictionary"
      ]
    },
    {
      "cell_type": "code",
      "metadata": {
        "id": "0x-yO_2xCZb2",
        "colab": {
          "base_uri": "https://localhost:8080/",
          "height": 381
        },
        "outputId": "bc541d45-c3ac-4453-9502-d3761967a9c9"
      },
      "source": [
        "model_inputs = {}\n",
        "\n",
        "for batch, _ in get_dataset(batch_size=DUMMY_BATCH_SIZE).take(1):\n",
        "    for col_name, col_values in batch.items():\n",
        "        model_inputs[col_name] = tf.keras.Input(shape=(1,), name=col_name, dtype=col_values.dtype)"
      ],
      "execution_count": 15,
      "outputs": [
        {
          "output_type": "error",
          "ename": "InvalidArgumentError",
          "evalue": "ignored",
          "traceback": [
            "\u001b[0;31m---------------------------------------------------------------------------\u001b[0m",
            "\u001b[0;31mInvalidArgumentError\u001b[0m                      Traceback (most recent call last)",
            "\u001b[0;32m<ipython-input-15-d2d6d076e761>\u001b[0m in \u001b[0;36m<module>\u001b[0;34m\u001b[0m\n\u001b[1;32m      1\u001b[0m \u001b[0mmodel_inputs\u001b[0m \u001b[0;34m=\u001b[0m \u001b[0;34m{\u001b[0m\u001b[0;34m}\u001b[0m\u001b[0;34m\u001b[0m\u001b[0;34m\u001b[0m\u001b[0m\n\u001b[1;32m      2\u001b[0m \u001b[0;34m\u001b[0m\u001b[0m\n\u001b[0;32m----> 3\u001b[0;31m \u001b[0;32mfor\u001b[0m \u001b[0mbatch\u001b[0m\u001b[0;34m,\u001b[0m \u001b[0m_\u001b[0m \u001b[0;32min\u001b[0m \u001b[0mget_dataset\u001b[0m\u001b[0;34m(\u001b[0m\u001b[0mbatch_size\u001b[0m\u001b[0;34m=\u001b[0m\u001b[0mDUMMY_BATCH_SIZE\u001b[0m\u001b[0;34m)\u001b[0m\u001b[0;34m.\u001b[0m\u001b[0mtake\u001b[0m\u001b[0;34m(\u001b[0m\u001b[0;36m1\u001b[0m\u001b[0;34m)\u001b[0m\u001b[0;34m:\u001b[0m\u001b[0;34m\u001b[0m\u001b[0;34m\u001b[0m\u001b[0m\n\u001b[0m\u001b[1;32m      4\u001b[0m     \u001b[0;32mfor\u001b[0m \u001b[0mcol_name\u001b[0m\u001b[0;34m,\u001b[0m \u001b[0mcol_values\u001b[0m \u001b[0;32min\u001b[0m \u001b[0mbatch\u001b[0m\u001b[0;34m.\u001b[0m\u001b[0mitems\u001b[0m\u001b[0;34m(\u001b[0m\u001b[0;34m)\u001b[0m\u001b[0;34m:\u001b[0m\u001b[0;34m\u001b[0m\u001b[0;34m\u001b[0m\u001b[0m\n\u001b[1;32m      5\u001b[0m         \u001b[0mmodel_inputs\u001b[0m\u001b[0;34m[\u001b[0m\u001b[0mcol_name\u001b[0m\u001b[0;34m]\u001b[0m \u001b[0;34m=\u001b[0m \u001b[0mtf\u001b[0m\u001b[0;34m.\u001b[0m\u001b[0mkeras\u001b[0m\u001b[0;34m.\u001b[0m\u001b[0mInput\u001b[0m\u001b[0;34m(\u001b[0m\u001b[0mshape\u001b[0m\u001b[0;34m=\u001b[0m\u001b[0;34m(\u001b[0m\u001b[0;36m1\u001b[0m\u001b[0;34m,\u001b[0m\u001b[0;34m)\u001b[0m\u001b[0;34m,\u001b[0m \u001b[0mname\u001b[0m\u001b[0;34m=\u001b[0m\u001b[0mcol_name\u001b[0m\u001b[0;34m,\u001b[0m \u001b[0mdtype\u001b[0m\u001b[0;34m=\u001b[0m\u001b[0mcol_values\u001b[0m\u001b[0;34m.\u001b[0m\u001b[0mdtype\u001b[0m\u001b[0;34m)\u001b[0m\u001b[0;34m\u001b[0m\u001b[0;34m\u001b[0m\u001b[0m\n",
            "\u001b[0;32m/usr/local/lib/python3.7/dist-packages/tensorflow/python/data/ops/iterator_ops.py\u001b[0m in \u001b[0;36m__next__\u001b[0;34m(self)\u001b[0m\n\u001b[1;32m    834\u001b[0m   \u001b[0;32mdef\u001b[0m \u001b[0m__next__\u001b[0m\u001b[0;34m(\u001b[0m\u001b[0mself\u001b[0m\u001b[0;34m)\u001b[0m\u001b[0;34m:\u001b[0m\u001b[0;34m\u001b[0m\u001b[0;34m\u001b[0m\u001b[0m\n\u001b[1;32m    835\u001b[0m     \u001b[0;32mtry\u001b[0m\u001b[0;34m:\u001b[0m\u001b[0;34m\u001b[0m\u001b[0;34m\u001b[0m\u001b[0m\n\u001b[0;32m--> 836\u001b[0;31m       \u001b[0;32mreturn\u001b[0m \u001b[0mself\u001b[0m\u001b[0;34m.\u001b[0m\u001b[0m_next_internal\u001b[0m\u001b[0;34m(\u001b[0m\u001b[0;34m)\u001b[0m\u001b[0;34m\u001b[0m\u001b[0;34m\u001b[0m\u001b[0m\n\u001b[0m\u001b[1;32m    837\u001b[0m     \u001b[0;32mexcept\u001b[0m \u001b[0merrors\u001b[0m\u001b[0;34m.\u001b[0m\u001b[0mOutOfRangeError\u001b[0m\u001b[0;34m:\u001b[0m\u001b[0;34m\u001b[0m\u001b[0;34m\u001b[0m\u001b[0m\n\u001b[1;32m    838\u001b[0m       \u001b[0;32mraise\u001b[0m \u001b[0mStopIteration\u001b[0m\u001b[0;34m\u001b[0m\u001b[0;34m\u001b[0m\u001b[0m\n",
            "\u001b[0;32m/usr/local/lib/python3.7/dist-packages/tensorflow/python/data/ops/iterator_ops.py\u001b[0m in \u001b[0;36m_next_internal\u001b[0;34m(self)\u001b[0m\n\u001b[1;32m    820\u001b[0m           \u001b[0mself\u001b[0m\u001b[0;34m.\u001b[0m\u001b[0m_iterator_resource\u001b[0m\u001b[0;34m,\u001b[0m\u001b[0;34m\u001b[0m\u001b[0;34m\u001b[0m\u001b[0m\n\u001b[1;32m    821\u001b[0m           \u001b[0moutput_types\u001b[0m\u001b[0;34m=\u001b[0m\u001b[0mself\u001b[0m\u001b[0;34m.\u001b[0m\u001b[0m_flat_output_types\u001b[0m\u001b[0;34m,\u001b[0m\u001b[0;34m\u001b[0m\u001b[0;34m\u001b[0m\u001b[0m\n\u001b[0;32m--> 822\u001b[0;31m           output_shapes=self._flat_output_shapes)\n\u001b[0m\u001b[1;32m    823\u001b[0m \u001b[0;34m\u001b[0m\u001b[0m\n\u001b[1;32m    824\u001b[0m       \u001b[0;32mtry\u001b[0m\u001b[0;34m:\u001b[0m\u001b[0;34m\u001b[0m\u001b[0;34m\u001b[0m\u001b[0m\n",
            "\u001b[0;32m/usr/local/lib/python3.7/dist-packages/tensorflow/python/ops/gen_dataset_ops.py\u001b[0m in \u001b[0;36miterator_get_next\u001b[0;34m(iterator, output_types, output_shapes, name)\u001b[0m\n\u001b[1;32m   2921\u001b[0m       \u001b[0;32mreturn\u001b[0m \u001b[0m_result\u001b[0m\u001b[0;34m\u001b[0m\u001b[0;34m\u001b[0m\u001b[0m\n\u001b[1;32m   2922\u001b[0m     \u001b[0;32mexcept\u001b[0m \u001b[0m_core\u001b[0m\u001b[0;34m.\u001b[0m\u001b[0m_NotOkStatusException\u001b[0m \u001b[0;32mas\u001b[0m \u001b[0me\u001b[0m\u001b[0;34m:\u001b[0m\u001b[0;34m\u001b[0m\u001b[0;34m\u001b[0m\u001b[0m\n\u001b[0;32m-> 2923\u001b[0;31m       \u001b[0m_ops\u001b[0m\u001b[0;34m.\u001b[0m\u001b[0mraise_from_not_ok_status\u001b[0m\u001b[0;34m(\u001b[0m\u001b[0me\u001b[0m\u001b[0;34m,\u001b[0m \u001b[0mname\u001b[0m\u001b[0;34m)\u001b[0m\u001b[0;34m\u001b[0m\u001b[0;34m\u001b[0m\u001b[0m\n\u001b[0m\u001b[1;32m   2924\u001b[0m     \u001b[0;32mexcept\u001b[0m \u001b[0m_core\u001b[0m\u001b[0;34m.\u001b[0m\u001b[0m_FallbackException\u001b[0m\u001b[0;34m:\u001b[0m\u001b[0;34m\u001b[0m\u001b[0;34m\u001b[0m\u001b[0m\n\u001b[1;32m   2925\u001b[0m       \u001b[0;32mpass\u001b[0m\u001b[0;34m\u001b[0m\u001b[0;34m\u001b[0m\u001b[0m\n",
            "\u001b[0;32m/usr/local/lib/python3.7/dist-packages/tensorflow/python/framework/ops.py\u001b[0m in \u001b[0;36mraise_from_not_ok_status\u001b[0;34m(e, name)\u001b[0m\n\u001b[1;32m   7184\u001b[0m \u001b[0;32mdef\u001b[0m \u001b[0mraise_from_not_ok_status\u001b[0m\u001b[0;34m(\u001b[0m\u001b[0me\u001b[0m\u001b[0;34m,\u001b[0m \u001b[0mname\u001b[0m\u001b[0;34m)\u001b[0m\u001b[0;34m:\u001b[0m\u001b[0;34m\u001b[0m\u001b[0;34m\u001b[0m\u001b[0m\n\u001b[1;32m   7185\u001b[0m   \u001b[0me\u001b[0m\u001b[0;34m.\u001b[0m\u001b[0mmessage\u001b[0m \u001b[0;34m+=\u001b[0m \u001b[0;34m(\u001b[0m\u001b[0;34m\" name: \"\u001b[0m \u001b[0;34m+\u001b[0m \u001b[0mname\u001b[0m \u001b[0;32mif\u001b[0m \u001b[0mname\u001b[0m \u001b[0;32mis\u001b[0m \u001b[0;32mnot\u001b[0m \u001b[0;32mNone\u001b[0m \u001b[0;32melse\u001b[0m \u001b[0;34m\"\"\u001b[0m\u001b[0;34m)\u001b[0m\u001b[0;34m\u001b[0m\u001b[0;34m\u001b[0m\u001b[0m\n\u001b[0;32m-> 7186\u001b[0;31m   \u001b[0;32mraise\u001b[0m \u001b[0mcore\u001b[0m\u001b[0;34m.\u001b[0m\u001b[0m_status_to_exception\u001b[0m\u001b[0;34m(\u001b[0m\u001b[0me\u001b[0m\u001b[0;34m)\u001b[0m \u001b[0;32mfrom\u001b[0m \u001b[0;32mNone\u001b[0m  \u001b[0;31m# pylint: disable=protected-access\u001b[0m\u001b[0;34m\u001b[0m\u001b[0;34m\u001b[0m\u001b[0m\n\u001b[0m\u001b[1;32m   7187\u001b[0m \u001b[0;34m\u001b[0m\u001b[0m\n\u001b[1;32m   7188\u001b[0m \u001b[0;34m\u001b[0m\u001b[0m\n",
            "\u001b[0;31mInvalidArgumentError\u001b[0m: Can't read header of file [Op:IteratorGetNext]"
          ]
        }
      ]
    },
    {
      "cell_type": "code",
      "metadata": {
        "id": "FPcuRa0xCZb8"
      },
      "source": [
        "model_inputs"
      ],
      "execution_count": null,
      "outputs": []
    },
    {
      "cell_type": "markdown",
      "metadata": {
        "id": "cFS-00sa6x52"
      },
      "source": [
        "## split these inputs into their own dictionaries based on the data type"
      ]
    },
    {
      "cell_type": "code",
      "metadata": {
        "id": "IN7O52LACZcE"
      },
      "source": [
        "integer_inputs = {}\n",
        "float_inputs = {}\n",
        "string_inputs = {}\n",
        "\n",
        "for col_name, col_input in model_inputs.items():\n",
        "    \n",
        "    if col_input.dtype == tf.int32:\n",
        "        integer_inputs[col_name] = col_input\n",
        "    \n",
        "    elif col_input.dtype == tf.float32:\n",
        "        float_inputs[col_name] = col_input\n",
        "    \n",
        "    elif col_input.dtype == tf.string:\n",
        "        string_inputs[col_name] = col_input"
      ],
      "execution_count": null,
      "outputs": []
    },
    {
      "cell_type": "code",
      "metadata": {
        "id": "w5jvxst6CZcK"
      },
      "source": [
        "integer_inputs"
      ],
      "execution_count": null,
      "outputs": []
    },
    {
      "cell_type": "code",
      "metadata": {
        "id": "JjSSO5srCZcQ"
      },
      "source": [
        "float_inputs"
      ],
      "execution_count": null,
      "outputs": []
    },
    {
      "cell_type": "code",
      "metadata": {
        "id": "DW_0khtFCZcW"
      },
      "source": [
        "string_inputs"
      ],
      "execution_count": null,
      "outputs": []
    },
    {
      "cell_type": "code",
      "metadata": {
        "id": "j23p90AT4ewn"
      },
      "source": [
        "def numerical_input_processor(inputs):\n",
        "    if not inputs:\n",
        "        return\n",
        "    \n",
        "    concat = None\n",
        "    if len(inputs.values()) > 1:\n",
        "        concat = tf.keras.layers.Concatenate()(list(inputs.values()))\n",
        "    \n",
        "    norm = tf.keras.layers.experimental.preprocessing.Normalization()\n",
        "\n",
        "    for batch, _ in get_dataset(batch_size=DUMMY_BATCH_SIZE).take(1):\n",
        "        data = []\n",
        "        \n",
        "        for k in inputs.keys():\n",
        "            data.append(np.array(batch[k]))    \n",
        "        \n",
        "        data = np.array(data)\n",
        "        data = np.transpose(data)    \n",
        "\n",
        "        norm.adapt(data)\n",
        "\n",
        "    # mean_log = []\n",
        "\n",
        "    for batch, _ in get_dataset(batch_size=BATCH_SIZE):\n",
        "        data = []\n",
        "        \n",
        "        for k in inputs.keys():\n",
        "            data.append(np.array(batch[k]))    \n",
        "        \n",
        "        data = np.array(data)\n",
        "        data = np.transpose(data)\n",
        "\n",
        "        norm.adapt(data, reset_state=False)        \n",
        "        # mean_log.append(norm.mean.numpy())    \n",
        "\n",
        "    if concat is not None:\n",
        "        numeric_layer = norm(concat)\n",
        "    else:\n",
        "        numeric_layer = norm(list(inputs.values())[0])\n",
        "    \n",
        "    return numeric_layer"
      ],
      "execution_count": null,
      "outputs": []
    },
    {
      "cell_type": "code",
      "metadata": {
        "id": "q7idy4ly7I08"
      },
      "source": [
        "def string_input_processor(inputs):\n",
        "    if not inputs:\n",
        "        return\n",
        "\n",
        "    vocabularies = defaultdict(set)\n",
        "\n",
        "    for batch, _ in get_dataset(batch_size=BATCH_SIZE):\n",
        "        for col_name in inputs.keys():        \n",
        "            for st in np.array(batch[col_name]).astype(\"str\"):\n",
        "                vocabularies[col_name].add(st.lower().strip())\n",
        "    \n",
        "    processed_string_inputs = []\n",
        "\n",
        "    for col_name, col_input in inputs.items():    \n",
        "        lookup = tf.keras.layers.experimental.preprocessing.StringLookup(vocabulary=list(vocabularies[col_name]))\n",
        "        one_hot = tf.keras.layers.experimental.preprocessing.CategoryEncoding(max_tokens = lookup.vocab_size())\n",
        "        \n",
        "        x = tf.strings.lower(col_input)\n",
        "        x = tf.strings.strip(x)\n",
        "        x = lookup(x)\n",
        "        x = one_hot(x)\n",
        "        \n",
        "        processed_string_inputs.append(x)\n",
        "    \n",
        "    if len(processed_string_inputs) > 1:\n",
        "        concat = tf.keras.layers.Concatenate()(processed_string_inputs)\n",
        "        return concat    \n",
        "    else:\n",
        "        return processed_string_inputs[0]    "
      ],
      "execution_count": null,
      "outputs": []
    },
    {
      "cell_type": "markdown",
      "metadata": {
        "id": "Ge1EBnEH68K9"
      },
      "source": [
        "## PreProcess the inputs"
      ]
    },
    {
      "cell_type": "code",
      "metadata": {
        "id": "bF1oFqG36zSQ"
      },
      "source": [
        "integer_layer = numerical_input_processor(integer_inputs)"
      ],
      "execution_count": null,
      "outputs": []
    },
    {
      "cell_type": "code",
      "metadata": {
        "id": "1txErt4UN1qO"
      },
      "source": [
        "integer_layer"
      ],
      "execution_count": null,
      "outputs": []
    },
    {
      "cell_type": "code",
      "metadata": {
        "id": "xVtNHVBp7AA3"
      },
      "source": [
        "float_layer = numerical_input_processor(float_inputs)"
      ],
      "execution_count": null,
      "outputs": []
    },
    {
      "cell_type": "code",
      "metadata": {
        "id": "R9ovbxzKN3jK"
      },
      "source": [
        "float_layer"
      ],
      "execution_count": null,
      "outputs": []
    },
    {
      "cell_type": "code",
      "metadata": {
        "id": "-pui1mu09EFk"
      },
      "source": [
        "string_layer = string_input_processor(string_inputs)"
      ],
      "execution_count": null,
      "outputs": []
    },
    {
      "cell_type": "code",
      "metadata": {
        "id": "BjwMnL4sN443"
      },
      "source": [
        "string_layer"
      ],
      "execution_count": null,
      "outputs": []
    },
    {
      "cell_type": "markdown",
      "metadata": {
        "id": "S2oFptl_7A3h"
      },
      "source": [
        "## add all the input layers to a list"
      ]
    },
    {
      "cell_type": "code",
      "metadata": {
        "id": "ZwTX7EJXCZdA"
      },
      "source": [
        "preprocessed_inputs = []\n",
        "\n",
        "if integer_layer is not None:\n",
        "    preprocessed_inputs.append(integer_layer)\n",
        "if float_layer is not None:\n",
        "    preprocessed_inputs.append(float_layer)\n",
        "if string_layer is not None:\n",
        "    preprocessed_inputs.append(string_layer)"
      ],
      "execution_count": null,
      "outputs": []
    },
    {
      "cell_type": "code",
      "metadata": {
        "id": "ocFKRqBONu--"
      },
      "source": [
        "preprocessed_inputs"
      ],
      "execution_count": null,
      "outputs": []
    },
    {
      "cell_type": "markdown",
      "metadata": {
        "id": "qXwXXzK07HGV"
      },
      "source": [
        "## Concatenate all the inputs"
      ]
    },
    {
      "cell_type": "code",
      "metadata": {
        "id": "EfLNTcf7CZdg"
      },
      "source": [
        "if len(preprocessed_inputs) > 1:\n",
        "    preprocessed_inputs_cat = tf.keras.layers.Concatenate()(preprocessed_inputs)\n",
        "else:\n",
        "    preprocessed_inputs_cat = preprocessed_inputs"
      ],
      "execution_count": null,
      "outputs": []
    },
    {
      "cell_type": "markdown",
      "metadata": {
        "id": "ft7Gxcxe7Pd-"
      },
      "source": [
        "## Create a preprocessing keras model"
      ]
    },
    {
      "cell_type": "code",
      "metadata": {
        "id": "GWljb4DECZdl"
      },
      "source": [
        "preprocessing_head = tf.keras.Model(model_inputs, preprocessed_inputs_cat)"
      ],
      "execution_count": null,
      "outputs": []
    },
    {
      "cell_type": "code",
      "metadata": {
        "id": "9-qEvPxbCZdp"
      },
      "source": [
        "tf.keras.utils.plot_model(model = preprocessing_head, rankdir=\"LR\", dpi=72, show_shapes=True, expand_nested=True, to_file=\"preprocessing_head.png\")"
      ],
      "execution_count": null,
      "outputs": []
    },
    {
      "cell_type": "markdown",
      "metadata": {
        "id": "oQQ6SIWq7Z2V"
      },
      "source": [
        "## You can also see the preprocessed outputs for the given inputs"
      ]
    },
    {
      "cell_type": "code",
      "metadata": {
        "id": "AHO9IDTlCZdu"
      },
      "source": [
        "# preprocessing_head({\n",
        "#     \"sex\" : np.array([\"male\"]),\n",
        "#     \"age\" : np.array([22.0]),\n",
        "#     \"n_siblings_spouses\" : np.array([1]),\n",
        "#     \"parch\" : np.array([0]),\n",
        "#     \"fare\" : np.array([7.25]),\n",
        "#     \"class\" : np.array([\"Third\"]),\n",
        "#     \"deck\" : np.array([\"unknown\"]),\n",
        "#     \"embark_town\" : np.array([\"Southampton\"]),\n",
        "#     \"alone\" : np.array([\"n\"]),\n",
        "# })\n",
        "\n",
        "# preprocessing_head({\n",
        "#     \"age\" : np.array([22.0]),\n",
        "#     \"fare\" : np.array([7.25]),\n",
        "# })"
      ],
      "execution_count": null,
      "outputs": []
    },
    {
      "cell_type": "markdown",
      "metadata": {
        "id": "SrG1kKdQ7uvY"
      },
      "source": [
        "## pass the model_inputs through the preprocessing_head"
      ]
    },
    {
      "cell_type": "code",
      "metadata": {
        "id": "F8kjuAizCZd0"
      },
      "source": [
        "preprocessed_outputs = preprocessing_head(model_inputs)"
      ],
      "execution_count": null,
      "outputs": []
    },
    {
      "cell_type": "code",
      "metadata": {
        "id": "m_tSQp_oWOxD"
      },
      "source": [
        "num_preprocessed_outputs = list(preprocessed_outputs.shape)[-1]"
      ],
      "execution_count": null,
      "outputs": []
    },
    {
      "cell_type": "code",
      "metadata": {
        "id": "PLkpTLhkWwA-"
      },
      "source": [
        "num_preprocessed_outputs"
      ],
      "execution_count": null,
      "outputs": []
    },
    {
      "cell_type": "markdown",
      "metadata": {
        "id": "rSIFV_Z379qd"
      },
      "source": [
        "## Find out how many batches should be used for training and how many for validation"
      ]
    },
    {
      "cell_type": "code",
      "metadata": {
        "id": "LMqp3rc1CZeL"
      },
      "source": [
        "dataset_size = 0\n",
        "\n",
        "for _ in get_dataset(batch_size=BATCH_SIZE):\n",
        "    dataset_size += 1"
      ],
      "execution_count": null,
      "outputs": []
    },
    {
      "cell_type": "code",
      "metadata": {
        "id": "mbiyFVmeCZeP"
      },
      "source": [
        "train_size = int(TRAIN_FRAC * dataset_size)"
      ],
      "execution_count": null,
      "outputs": []
    },
    {
      "cell_type": "code",
      "metadata": {
        "id": "pL6na72JCZeT"
      },
      "source": [
        "print(dataset_size)\n",
        "print(train_size)"
      ],
      "execution_count": null,
      "outputs": []
    },
    {
      "cell_type": "markdown",
      "metadata": {
        "id": "llhVqkwX8G9S"
      },
      "source": [
        "## Split the training and validation datasets\n"
      ]
    },
    {
      "cell_type": "code",
      "metadata": {
        "id": "OkX0u5hrCZeY"
      },
      "source": [
        "dataset = get_dataset(batch_size=BATCH_SIZE)\n",
        "\n",
        "train_dataset = dataset.take(train_size)\n",
        "val_dataset = dataset.skip(train_size)"
      ],
      "execution_count": null,
      "outputs": []
    },
    {
      "cell_type": "markdown",
      "metadata": {
        "id": "ThC1tnh38Q4j"
      },
      "source": [
        "## Set a caching mechanism that prefetches the next batch while the current batch is training"
      ]
    },
    {
      "cell_type": "code",
      "metadata": {
        "id": "ekIo_-DrCZec"
      },
      "source": [
        "AUTOTUNE = tf.data.experimental.AUTOTUNE\n",
        "\n",
        "dataset = dataset.cache().prefetch(buffer_size=AUTOTUNE)\n",
        "train_dataset = train_dataset.cache().prefetch(buffer_size=AUTOTUNE)\n",
        "val_dataset = val_dataset.cache().prefetch(buffer_size=AUTOTUNE)"
      ],
      "execution_count": null,
      "outputs": []
    },
    {
      "cell_type": "markdown",
      "metadata": {
        "id": "fcAyAgwi8fJP"
      },
      "source": [
        "## define early stopping and checkpointing callbacks"
      ]
    },
    {
      "cell_type": "code",
      "metadata": {
        "id": "US9kyo4WCZeg"
      },
      "source": [
        "early_stopping_callback = tf.keras.callbacks.EarlyStopping(monitor='val_loss', patience=5)\n",
        "checkpoint_callback = tf.keras.callbacks.ModelCheckpoint(filepath=os.path.join(CHECKPOINT_DIR, \"M.{epoch:02d}-{val_loss:.2f}\"))"
      ],
      "execution_count": null,
      "outputs": []
    },
    {
      "cell_type": "code",
      "metadata": {
        "id": "nv-2T0XNCZej"
      },
      "source": [
        "callbacks = [\n",
        "    early_stopping_callback,\n",
        "    checkpoint_callback,\n",
        "]"
      ],
      "execution_count": null,
      "outputs": []
    },
    {
      "cell_type": "code",
      "metadata": {
        "id": "3X4ZACIeCZeo"
      },
      "source": [
        "class ClearTrainingOutput(tf.keras.callbacks.Callback):\n",
        "    def on_train_end(*args, **kwargs):\n",
        "        IPython.display.clear_output(wait = True)"
      ],
      "execution_count": null,
      "outputs": []
    },
    {
      "cell_type": "markdown",
      "metadata": {
        "id": "_OwVCPhw8opd"
      },
      "source": [
        "## model builder function is used by keras-tuner to find the best parameters for a model"
      ]
    },
    {
      "cell_type": "code",
      "metadata": {
        "id": "oGy3Grk2CZeA"
      },
      "source": [
        "def model_builder(hp):\n",
        "    if TASK == \"r\":\n",
        "        loss_fn = \"mean_absolute_error\"\n",
        "    elif TASK == \"c\":\n",
        "        if OUTPUT_NODES == 1:\n",
        "            loss_fn = tf.keras.losses.BinaryCrossentropy(from_logits=True)\n",
        "        else:\n",
        "            loss_fn = tf.keras.losses.SparseCategoricalCrossentropy(from_logits=True)\n",
        "\n",
        "    if TASK == \"r\":\n",
        "        metrics = None\n",
        "    elif TASK == \"c\":\n",
        "        metrics = [\"accuracy\"]\n",
        "\n",
        " \n",
        "    kernel_hp = hp.Choice('kernel_regularization', values = [0.01, 0.001, 0.0001, 0.00001])\n",
        "    activation_hp = hp.Choice(\"activation\", values=[\"elu\", \"relu\"])\n",
        "    lr_schedule = tf.keras.optimizers.schedules.InverseTimeDecay(\n",
        "        0.01,\n",
        "        decay_steps=train_size*1000,\n",
        "        decay_rate=1,\n",
        "        staircase=False\n",
        "    )\n",
        "\n",
        "\n",
        "    body = tf.keras.Sequential()\n",
        "    current_nodes = num_preprocessed_outputs\n",
        "\n",
        "    while current_nodes > OUTPUT_NODES:\n",
        "        body.add(\n",
        "            tf.keras.layers.Dense(current_nodes,\n",
        "                                  kernel_regularizer=tf.keras.regularizers.l2(kernel_hp),\n",
        "                                  activation=activation_hp)\n",
        "        )\n",
        "        body.add(tf.keras.layers.Dropout(0.1))\n",
        "\n",
        "        current_nodes = current_nodes // 2\n",
        "\n",
        "    body.add(tf.keras.layers.Dense(OUTPUT_NODES))\n",
        "\n",
        "    result = body(preprocessed_outputs)\n",
        "    \n",
        "    model = tf.keras.Model(model_inputs, result)\n",
        "    \n",
        "    model.compile(loss=loss_fn, \n",
        "                  optimizer=tf.keras.optimizers.Adam(learning_rate = lr_schedule),\n",
        "                  metrics=metrics\n",
        "    )\n",
        "  \n",
        "    return model\n",
        "\n"
      ],
      "execution_count": null,
      "outputs": []
    },
    {
      "cell_type": "markdown",
      "metadata": {
        "id": "P2o1-WvS8_Mn"
      },
      "source": [
        "## initialize keras tuner"
      ]
    },
    {
      "cell_type": "code",
      "metadata": {
        "id": "zLobV8LzCZes"
      },
      "source": [
        "tuner = kt.Hyperband(model_builder,\n",
        "                     objective = 'val_loss', \n",
        "                     max_epochs = 10,\n",
        "                     factor = 3,\n",
        "                     directory = 'tuner_dir',\n",
        "                     project_name = 'tuner')"
      ],
      "execution_count": null,
      "outputs": []
    },
    {
      "cell_type": "code",
      "metadata": {
        "id": "NukptGVuCZex"
      },
      "source": [
        "tuner.search(\n",
        "    train_dataset, \n",
        "    validation_data=val_dataset,\n",
        "    epochs=10,\n",
        "    callbacks = [ClearTrainingOutput()]\n",
        ")"
      ],
      "execution_count": null,
      "outputs": []
    },
    {
      "cell_type": "code",
      "metadata": {
        "id": "n6zEHAuTCZe1"
      },
      "source": [
        "best_hps = tuner.get_best_hyperparameters(num_trials = 1)[0]"
      ],
      "execution_count": null,
      "outputs": []
    },
    {
      "cell_type": "markdown",
      "metadata": {
        "id": "FC-QWd_s9E_P"
      },
      "source": [
        "## These are the best model parameters"
      ]
    },
    {
      "cell_type": "code",
      "metadata": {
        "id": "3SfHTkWjCZe5"
      },
      "source": [
        "best_hps.values"
      ],
      "execution_count": null,
      "outputs": []
    },
    {
      "cell_type": "code",
      "metadata": {
        "id": "kKlcMuIjCZe9"
      },
      "source": [
        "model = tuner.hypermodel.build(best_hps)"
      ],
      "execution_count": null,
      "outputs": []
    },
    {
      "cell_type": "code",
      "metadata": {
        "id": "8dvmajfwCZfD"
      },
      "source": [
        "model.summary()"
      ],
      "execution_count": null,
      "outputs": []
    },
    {
      "cell_type": "code",
      "metadata": {
        "id": "bZxzMXvcCZfI"
      },
      "source": [
        "tf.keras.utils.plot_model(model = model, rankdir=\"LR\", dpi=96, show_shapes=True, expand_nested=True, to_file=\"model.png\")"
      ],
      "execution_count": null,
      "outputs": []
    },
    {
      "cell_type": "markdown",
      "metadata": {
        "id": "5YtdM9SS9Owf"
      },
      "source": [
        "## Find out training and validation losses with untrained model"
      ]
    },
    {
      "cell_type": "code",
      "metadata": {
        "id": "a8s4BwAZCZfM"
      },
      "source": [
        "# loss with un-trained model\n",
        "model.evaluate(train_dataset)"
      ],
      "execution_count": null,
      "outputs": []
    },
    {
      "cell_type": "code",
      "metadata": {
        "id": "k8cfLHi4CZfS"
      },
      "source": [
        "# val_loss with un-trained model\n",
        "model.evaluate(val_dataset)"
      ],
      "execution_count": null,
      "outputs": []
    },
    {
      "cell_type": "markdown",
      "metadata": {
        "id": "SL902YSw9WgM"
      },
      "source": [
        "## Train the model"
      ]
    },
    {
      "cell_type": "code",
      "metadata": {
        "scrolled": false,
        "id": "uRnEVasXCZfX"
      },
      "source": [
        "history = model.fit(\n",
        "    train_dataset, \n",
        "    validation_data=val_dataset,\n",
        "    callbacks=callbacks,\n",
        "    epochs=EPOCHS)"
      ],
      "execution_count": null,
      "outputs": []
    },
    {
      "cell_type": "markdown",
      "metadata": {
        "id": "E5MEaYxH9a40"
      },
      "source": [
        "## Find out training and validation losses with trained model"
      ]
    },
    {
      "cell_type": "code",
      "metadata": {
        "id": "fbsZlC7LCZfb"
      },
      "source": [
        "# loss with trained model\n",
        "model.evaluate(train_dataset)"
      ],
      "execution_count": null,
      "outputs": []
    },
    {
      "cell_type": "code",
      "metadata": {
        "id": "4k7dH2YgCZfg"
      },
      "source": [
        "# val_loss with trained model\n",
        "model.evaluate(val_dataset)"
      ],
      "execution_count": null,
      "outputs": []
    },
    {
      "cell_type": "code",
      "metadata": {
        "id": "tH3I7X3VCZfj"
      },
      "source": [
        "def plot_loss(history):\n",
        "    plt.plot(history.history['loss'], label='loss')\n",
        "    plt.plot(history.history['val_loss'], label='val_loss')\n",
        "    plt.xlabel('Epoch')\n",
        "    plt.ylabel('Error')\n",
        "    plt.legend()\n",
        "    plt.grid(True)"
      ],
      "execution_count": null,
      "outputs": []
    },
    {
      "cell_type": "code",
      "metadata": {
        "id": "qawO4E_sCZfn"
      },
      "source": [
        "plot_loss(history)"
      ],
      "execution_count": null,
      "outputs": []
    },
    {
      "cell_type": "code",
      "metadata": {
        "id": "caSpNHWBCZfq"
      },
      "source": [
        "def plot_acc(history):\n",
        "    plt.plot(history.history['accuracy'], label='accuracy')\n",
        "    plt.plot(history.history['val_accuracy'], label='val_accuracy')\n",
        "    plt.xlabel('Epoch')\n",
        "    plt.ylabel('accuracy')\n",
        "    plt.legend()\n",
        "    plt.grid(True)"
      ],
      "execution_count": null,
      "outputs": []
    },
    {
      "cell_type": "code",
      "metadata": {
        "id": "3XgjeDoQCZfv"
      },
      "source": [
        "if TASK == \"c\":\n",
        "    plot_acc(history)"
      ],
      "execution_count": null,
      "outputs": []
    },
    {
      "cell_type": "markdown",
      "metadata": {
        "id": "9wAqQthi-RS_"
      },
      "source": [
        "## Test the model on some dummy data"
      ]
    },
    {
      "cell_type": "code",
      "metadata": {
        "id": "1SARRjv3CZf3"
      },
      "source": [
        "# model.predict({\n",
        "#     \"sex\" : np.array([\"male\"]),\n",
        "#     \"age\" : np.array([22.0]),\n",
        "#     \"n_siblings_spouses\" : np.array([1]),\n",
        "#     \"parch\" : np.array([0]),\n",
        "#     \"fare\" : np.array([7.25]),\n",
        "#     \"class\" : np.array([\"Third\"]),\n",
        "#     \"deck\" : np.array([\"unknown\"]),\n",
        "#     \"embark_town\" : np.array([\"Southampton\"]),\n",
        "#     \"alone\" : np.array([\"n\"]),\n",
        "# })"
      ],
      "execution_count": null,
      "outputs": []
    },
    {
      "cell_type": "code",
      "metadata": {
        "id": "bPl-FWY9CZf8"
      },
      "source": [
        "# reloaded = tf.keras.models.load_model(\"models/titanic_model.24-1610.52\")"
      ],
      "execution_count": null,
      "outputs": []
    },
    {
      "cell_type": "code",
      "metadata": {
        "id": "FIMEv9r_CZgB"
      },
      "source": [
        "# reloaded.evaluate(train_dataset)"
      ],
      "execution_count": null,
      "outputs": []
    },
    {
      "cell_type": "code",
      "metadata": {
        "id": "A75qm1uPCZgG"
      },
      "source": [
        "# reloaded.evaluate(val_dataset)"
      ],
      "execution_count": null,
      "outputs": []
    }
  ]
}